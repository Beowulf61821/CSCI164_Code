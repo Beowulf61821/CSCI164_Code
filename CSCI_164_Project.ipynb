{
  "nbformat": 4,
  "nbformat_minor": 0,
  "metadata": {
    "colab": {
      "provenance": [],
      "authorship_tag": "ABX9TyN92/ayI78wpRj9DQfx/kW+",
      "include_colab_link": true
    },
    "kernelspec": {
      "name": "python3",
      "display_name": "Python 3"
    },
    "language_info": {
      "name": "python"
    }
  },
  "cells": [
    {
      "cell_type": "markdown",
      "metadata": {
        "id": "view-in-github",
        "colab_type": "text"
      },
      "source": [
        "<a href=\"https://colab.research.google.com/github/Beowulf61821/CSCI164_Code/blob/main/CSCI_164_Project.ipynb\" target=\"_parent\"><img src=\"https://colab.research.google.com/assets/colab-badge.svg\" alt=\"Open In Colab\"/></a>"
      ]
    },
    {
      "cell_type": "code",
      "execution_count": 18,
      "metadata": {
        "id": "XuJejl-yp_RC"
      },
      "outputs": [],
      "source": [
        "#imports\n",
        "import numpy as np\n",
        "import pandas as pd\n",
        "\n",
        "from sklearn import metrics\n",
        "from sklearn.neural_network import MLPClassifier\n",
        "from sklearn.neighbors import KNeighborsClassifier\n",
        "from sklearn.linear_model import LogisticRegression\n",
        "from sklearn.naive_bayes import GaussianNB\n",
        "from sklearn.model_selection import train_test_split\n",
        "from sklearn.experimental import enable_iterative_imputer\n",
        "from sklearn.impute import IterativeImputer"
      ]
    },
    {
      "cell_type": "code",
      "source": [
        "#connect to my drive\n",
        "from google.colab import drive\n",
        "drive.mount('/content/drive')"
      ],
      "metadata": {
        "colab": {
          "base_uri": "https://localhost:8080/"
        },
        "id": "yJXkc_EY4faO",
        "outputId": "e3924203-8d19-4008-d7e5-a83e59d2d6e3"
      },
      "execution_count": 2,
      "outputs": [
        {
          "output_type": "stream",
          "name": "stdout",
          "text": [
            "Mounted at /content/drive\n"
          ]
        }
      ]
    },
    {
      "cell_type": "code",
      "source": [
        "#read files and few instances of dog rankings\n",
        "#Took quite a while configuring the dataset to make the classification names readable\n",
        "dog_traits = pd.read_csv('/content/drive/My Drive/CSCI 164 CSV files/breed_traits.csv', encoding='latin-1')\n",
        "dog_traits.head()"
      ],
      "metadata": {
        "colab": {
          "base_uri": "https://localhost:8080/",
          "height": 278
        },
        "id": "LvNQIo9d4gOR",
        "outputId": "5bb1dbb5-31bd-4be5-fccc-2381b7b11208"
      },
      "execution_count": 3,
      "outputs": [
        {
          "output_type": "execute_result",
          "data": {
            "text/plain": [
              "                  Breed  Affectionate With Family  Good With Young Children  \\\n",
              "0  Retrievers(Labrador)                         5                         5   \n",
              "1        FrenchBulldogs                         5                         5   \n",
              "2    GermanShepherdDogs                         5                         5   \n",
              "3    Retrievers(Golden)                         5                         5   \n",
              "4              Bulldogs                         4                         3   \n",
              "\n",
              "   Good With Other Dogs  Shedding Level  Coat Grooming Frequency  \\\n",
              "0                     5               4                        2   \n",
              "1                     4               3                        1   \n",
              "2                     3               4                        2   \n",
              "3                     5               4                        2   \n",
              "4                     3               3                        3   \n",
              "\n",
              "   Drooling Level Coat Type Coat Length  Openness To Strangers  \\\n",
              "0               2    Double       Short                      5   \n",
              "1               3    Smooth       Short                      5   \n",
              "2               2    Double      Medium                      3   \n",
              "3               2    Double      Medium                      5   \n",
              "4               3    Smooth       Short                      4   \n",
              "\n",
              "   Playfulness Level  Watchdog/Protective Nature  Adaptability Level  \\\n",
              "0                  5                           3                   5   \n",
              "1                  5                           3                   5   \n",
              "2                  4                           5                   5   \n",
              "3                  4                           3                   5   \n",
              "4                  4                           3                   3   \n",
              "\n",
              "   Trainability Level  Energy Level  Barking Level  Mental Stimulation Needs  \n",
              "0                   5             5              3                         4  \n",
              "1                   4             3              1                         3  \n",
              "2                   5             5              3                         5  \n",
              "3                   5             3              1                         4  \n",
              "4                   4             3              2                         3  "
            ],
            "text/html": [
              "\n",
              "  <div id=\"df-ced5afdc-d753-41f4-90bb-2144f88c3d1d\" class=\"colab-df-container\">\n",
              "    <div>\n",
              "<style scoped>\n",
              "    .dataframe tbody tr th:only-of-type {\n",
              "        vertical-align: middle;\n",
              "    }\n",
              "\n",
              "    .dataframe tbody tr th {\n",
              "        vertical-align: top;\n",
              "    }\n",
              "\n",
              "    .dataframe thead th {\n",
              "        text-align: right;\n",
              "    }\n",
              "</style>\n",
              "<table border=\"1\" class=\"dataframe\">\n",
              "  <thead>\n",
              "    <tr style=\"text-align: right;\">\n",
              "      <th></th>\n",
              "      <th>Breed</th>\n",
              "      <th>Affectionate With Family</th>\n",
              "      <th>Good With Young Children</th>\n",
              "      <th>Good With Other Dogs</th>\n",
              "      <th>Shedding Level</th>\n",
              "      <th>Coat Grooming Frequency</th>\n",
              "      <th>Drooling Level</th>\n",
              "      <th>Coat Type</th>\n",
              "      <th>Coat Length</th>\n",
              "      <th>Openness To Strangers</th>\n",
              "      <th>Playfulness Level</th>\n",
              "      <th>Watchdog/Protective Nature</th>\n",
              "      <th>Adaptability Level</th>\n",
              "      <th>Trainability Level</th>\n",
              "      <th>Energy Level</th>\n",
              "      <th>Barking Level</th>\n",
              "      <th>Mental Stimulation Needs</th>\n",
              "    </tr>\n",
              "  </thead>\n",
              "  <tbody>\n",
              "    <tr>\n",
              "      <th>0</th>\n",
              "      <td>Retrievers(Labrador)</td>\n",
              "      <td>5</td>\n",
              "      <td>5</td>\n",
              "      <td>5</td>\n",
              "      <td>4</td>\n",
              "      <td>2</td>\n",
              "      <td>2</td>\n",
              "      <td>Double</td>\n",
              "      <td>Short</td>\n",
              "      <td>5</td>\n",
              "      <td>5</td>\n",
              "      <td>3</td>\n",
              "      <td>5</td>\n",
              "      <td>5</td>\n",
              "      <td>5</td>\n",
              "      <td>3</td>\n",
              "      <td>4</td>\n",
              "    </tr>\n",
              "    <tr>\n",
              "      <th>1</th>\n",
              "      <td>FrenchBulldogs</td>\n",
              "      <td>5</td>\n",
              "      <td>5</td>\n",
              "      <td>4</td>\n",
              "      <td>3</td>\n",
              "      <td>1</td>\n",
              "      <td>3</td>\n",
              "      <td>Smooth</td>\n",
              "      <td>Short</td>\n",
              "      <td>5</td>\n",
              "      <td>5</td>\n",
              "      <td>3</td>\n",
              "      <td>5</td>\n",
              "      <td>4</td>\n",
              "      <td>3</td>\n",
              "      <td>1</td>\n",
              "      <td>3</td>\n",
              "    </tr>\n",
              "    <tr>\n",
              "      <th>2</th>\n",
              "      <td>GermanShepherdDogs</td>\n",
              "      <td>5</td>\n",
              "      <td>5</td>\n",
              "      <td>3</td>\n",
              "      <td>4</td>\n",
              "      <td>2</td>\n",
              "      <td>2</td>\n",
              "      <td>Double</td>\n",
              "      <td>Medium</td>\n",
              "      <td>3</td>\n",
              "      <td>4</td>\n",
              "      <td>5</td>\n",
              "      <td>5</td>\n",
              "      <td>5</td>\n",
              "      <td>5</td>\n",
              "      <td>3</td>\n",
              "      <td>5</td>\n",
              "    </tr>\n",
              "    <tr>\n",
              "      <th>3</th>\n",
              "      <td>Retrievers(Golden)</td>\n",
              "      <td>5</td>\n",
              "      <td>5</td>\n",
              "      <td>5</td>\n",
              "      <td>4</td>\n",
              "      <td>2</td>\n",
              "      <td>2</td>\n",
              "      <td>Double</td>\n",
              "      <td>Medium</td>\n",
              "      <td>5</td>\n",
              "      <td>4</td>\n",
              "      <td>3</td>\n",
              "      <td>5</td>\n",
              "      <td>5</td>\n",
              "      <td>3</td>\n",
              "      <td>1</td>\n",
              "      <td>4</td>\n",
              "    </tr>\n",
              "    <tr>\n",
              "      <th>4</th>\n",
              "      <td>Bulldogs</td>\n",
              "      <td>4</td>\n",
              "      <td>3</td>\n",
              "      <td>3</td>\n",
              "      <td>3</td>\n",
              "      <td>3</td>\n",
              "      <td>3</td>\n",
              "      <td>Smooth</td>\n",
              "      <td>Short</td>\n",
              "      <td>4</td>\n",
              "      <td>4</td>\n",
              "      <td>3</td>\n",
              "      <td>3</td>\n",
              "      <td>4</td>\n",
              "      <td>3</td>\n",
              "      <td>2</td>\n",
              "      <td>3</td>\n",
              "    </tr>\n",
              "  </tbody>\n",
              "</table>\n",
              "</div>\n",
              "    <div class=\"colab-df-buttons\">\n",
              "\n",
              "  <div class=\"colab-df-container\">\n",
              "    <button class=\"colab-df-convert\" onclick=\"convertToInteractive('df-ced5afdc-d753-41f4-90bb-2144f88c3d1d')\"\n",
              "            title=\"Convert this dataframe to an interactive table.\"\n",
              "            style=\"display:none;\">\n",
              "\n",
              "  <svg xmlns=\"http://www.w3.org/2000/svg\" height=\"24px\" viewBox=\"0 -960 960 960\">\n",
              "    <path d=\"M120-120v-720h720v720H120Zm60-500h600v-160H180v160Zm220 220h160v-160H400v160Zm0 220h160v-160H400v160ZM180-400h160v-160H180v160Zm440 0h160v-160H620v160ZM180-180h160v-160H180v160Zm440 0h160v-160H620v160Z\"/>\n",
              "  </svg>\n",
              "    </button>\n",
              "\n",
              "  <style>\n",
              "    .colab-df-container {\n",
              "      display:flex;\n",
              "      gap: 12px;\n",
              "    }\n",
              "\n",
              "    .colab-df-convert {\n",
              "      background-color: #E8F0FE;\n",
              "      border: none;\n",
              "      border-radius: 50%;\n",
              "      cursor: pointer;\n",
              "      display: none;\n",
              "      fill: #1967D2;\n",
              "      height: 32px;\n",
              "      padding: 0 0 0 0;\n",
              "      width: 32px;\n",
              "    }\n",
              "\n",
              "    .colab-df-convert:hover {\n",
              "      background-color: #E2EBFA;\n",
              "      box-shadow: 0px 1px 2px rgba(60, 64, 67, 0.3), 0px 1px 3px 1px rgba(60, 64, 67, 0.15);\n",
              "      fill: #174EA6;\n",
              "    }\n",
              "\n",
              "    .colab-df-buttons div {\n",
              "      margin-bottom: 4px;\n",
              "    }\n",
              "\n",
              "    [theme=dark] .colab-df-convert {\n",
              "      background-color: #3B4455;\n",
              "      fill: #D2E3FC;\n",
              "    }\n",
              "\n",
              "    [theme=dark] .colab-df-convert:hover {\n",
              "      background-color: #434B5C;\n",
              "      box-shadow: 0px 1px 3px 1px rgba(0, 0, 0, 0.15);\n",
              "      filter: drop-shadow(0px 1px 2px rgba(0, 0, 0, 0.3));\n",
              "      fill: #FFFFFF;\n",
              "    }\n",
              "  </style>\n",
              "\n",
              "    <script>\n",
              "      const buttonEl =\n",
              "        document.querySelector('#df-ced5afdc-d753-41f4-90bb-2144f88c3d1d button.colab-df-convert');\n",
              "      buttonEl.style.display =\n",
              "        google.colab.kernel.accessAllowed ? 'block' : 'none';\n",
              "\n",
              "      async function convertToInteractive(key) {\n",
              "        const element = document.querySelector('#df-ced5afdc-d753-41f4-90bb-2144f88c3d1d');\n",
              "        const dataTable =\n",
              "          await google.colab.kernel.invokeFunction('convertToInteractive',\n",
              "                                                    [key], {});\n",
              "        if (!dataTable) return;\n",
              "\n",
              "        const docLinkHtml = 'Like what you see? Visit the ' +\n",
              "          '<a target=\"_blank\" href=https://colab.research.google.com/notebooks/data_table.ipynb>data table notebook</a>'\n",
              "          + ' to learn more about interactive tables.';\n",
              "        element.innerHTML = '';\n",
              "        dataTable['output_type'] = 'display_data';\n",
              "        await google.colab.output.renderOutput(dataTable, element);\n",
              "        const docLink = document.createElement('div');\n",
              "        docLink.innerHTML = docLinkHtml;\n",
              "        element.appendChild(docLink);\n",
              "      }\n",
              "    </script>\n",
              "  </div>\n",
              "\n",
              "\n",
              "<div id=\"df-9db73b3f-de8b-4317-a8a4-c8f0b8593cb7\">\n",
              "  <button class=\"colab-df-quickchart\" onclick=\"quickchart('df-9db73b3f-de8b-4317-a8a4-c8f0b8593cb7')\"\n",
              "            title=\"Suggest charts\"\n",
              "            style=\"display:none;\">\n",
              "\n",
              "<svg xmlns=\"http://www.w3.org/2000/svg\" height=\"24px\"viewBox=\"0 0 24 24\"\n",
              "     width=\"24px\">\n",
              "    <g>\n",
              "        <path d=\"M19 3H5c-1.1 0-2 .9-2 2v14c0 1.1.9 2 2 2h14c1.1 0 2-.9 2-2V5c0-1.1-.9-2-2-2zM9 17H7v-7h2v7zm4 0h-2V7h2v10zm4 0h-2v-4h2v4z\"/>\n",
              "    </g>\n",
              "</svg>\n",
              "  </button>\n",
              "\n",
              "<style>\n",
              "  .colab-df-quickchart {\n",
              "      --bg-color: #E8F0FE;\n",
              "      --fill-color: #1967D2;\n",
              "      --hover-bg-color: #E2EBFA;\n",
              "      --hover-fill-color: #174EA6;\n",
              "      --disabled-fill-color: #AAA;\n",
              "      --disabled-bg-color: #DDD;\n",
              "  }\n",
              "\n",
              "  [theme=dark] .colab-df-quickchart {\n",
              "      --bg-color: #3B4455;\n",
              "      --fill-color: #D2E3FC;\n",
              "      --hover-bg-color: #434B5C;\n",
              "      --hover-fill-color: #FFFFFF;\n",
              "      --disabled-bg-color: #3B4455;\n",
              "      --disabled-fill-color: #666;\n",
              "  }\n",
              "\n",
              "  .colab-df-quickchart {\n",
              "    background-color: var(--bg-color);\n",
              "    border: none;\n",
              "    border-radius: 50%;\n",
              "    cursor: pointer;\n",
              "    display: none;\n",
              "    fill: var(--fill-color);\n",
              "    height: 32px;\n",
              "    padding: 0;\n",
              "    width: 32px;\n",
              "  }\n",
              "\n",
              "  .colab-df-quickchart:hover {\n",
              "    background-color: var(--hover-bg-color);\n",
              "    box-shadow: 0 1px 2px rgba(60, 64, 67, 0.3), 0 1px 3px 1px rgba(60, 64, 67, 0.15);\n",
              "    fill: var(--button-hover-fill-color);\n",
              "  }\n",
              "\n",
              "  .colab-df-quickchart-complete:disabled,\n",
              "  .colab-df-quickchart-complete:disabled:hover {\n",
              "    background-color: var(--disabled-bg-color);\n",
              "    fill: var(--disabled-fill-color);\n",
              "    box-shadow: none;\n",
              "  }\n",
              "\n",
              "  .colab-df-spinner {\n",
              "    border: 2px solid var(--fill-color);\n",
              "    border-color: transparent;\n",
              "    border-bottom-color: var(--fill-color);\n",
              "    animation:\n",
              "      spin 1s steps(1) infinite;\n",
              "  }\n",
              "\n",
              "  @keyframes spin {\n",
              "    0% {\n",
              "      border-color: transparent;\n",
              "      border-bottom-color: var(--fill-color);\n",
              "      border-left-color: var(--fill-color);\n",
              "    }\n",
              "    20% {\n",
              "      border-color: transparent;\n",
              "      border-left-color: var(--fill-color);\n",
              "      border-top-color: var(--fill-color);\n",
              "    }\n",
              "    30% {\n",
              "      border-color: transparent;\n",
              "      border-left-color: var(--fill-color);\n",
              "      border-top-color: var(--fill-color);\n",
              "      border-right-color: var(--fill-color);\n",
              "    }\n",
              "    40% {\n",
              "      border-color: transparent;\n",
              "      border-right-color: var(--fill-color);\n",
              "      border-top-color: var(--fill-color);\n",
              "    }\n",
              "    60% {\n",
              "      border-color: transparent;\n",
              "      border-right-color: var(--fill-color);\n",
              "    }\n",
              "    80% {\n",
              "      border-color: transparent;\n",
              "      border-right-color: var(--fill-color);\n",
              "      border-bottom-color: var(--fill-color);\n",
              "    }\n",
              "    90% {\n",
              "      border-color: transparent;\n",
              "      border-bottom-color: var(--fill-color);\n",
              "    }\n",
              "  }\n",
              "</style>\n",
              "\n",
              "  <script>\n",
              "    async function quickchart(key) {\n",
              "      const quickchartButtonEl =\n",
              "        document.querySelector('#' + key + ' button');\n",
              "      quickchartButtonEl.disabled = true;  // To prevent multiple clicks.\n",
              "      quickchartButtonEl.classList.add('colab-df-spinner');\n",
              "      try {\n",
              "        const charts = await google.colab.kernel.invokeFunction(\n",
              "            'suggestCharts', [key], {});\n",
              "      } catch (error) {\n",
              "        console.error('Error during call to suggestCharts:', error);\n",
              "      }\n",
              "      quickchartButtonEl.classList.remove('colab-df-spinner');\n",
              "      quickchartButtonEl.classList.add('colab-df-quickchart-complete');\n",
              "    }\n",
              "    (() => {\n",
              "      let quickchartButtonEl =\n",
              "        document.querySelector('#df-9db73b3f-de8b-4317-a8a4-c8f0b8593cb7 button');\n",
              "      quickchartButtonEl.style.display =\n",
              "        google.colab.kernel.accessAllowed ? 'block' : 'none';\n",
              "    })();\n",
              "  </script>\n",
              "</div>\n",
              "\n",
              "    </div>\n",
              "  </div>\n"
            ],
            "application/vnd.google.colaboratory.intrinsic+json": {
              "type": "dataframe",
              "variable_name": "dog_traits",
              "summary": "{\n  \"name\": \"dog_traits\",\n  \"rows\": 194,\n  \"fields\": [\n    {\n      \"column\": \"Breed\",\n      \"properties\": {\n        \"dtype\": \"string\",\n        \"num_unique_values\": 194,\n        \"samples\": [\n          \"GermanPinschers\",\n          \"CavalierKingCharlesSpaniels\",\n          \"Pumik\"\n        ],\n        \"semantic_type\": \"\",\n        \"description\": \"\"\n      }\n    },\n    {\n      \"column\": \"Affectionate With Family\",\n      \"properties\": {\n        \"dtype\": \"number\",\n        \"std\": 0,\n        \"min\": 1,\n        \"max\": 5,\n        \"num_unique_values\": 4,\n        \"samples\": [\n          4,\n          1,\n          5\n        ],\n        \"semantic_type\": \"\",\n        \"description\": \"\"\n      }\n    },\n    {\n      \"column\": \"Good With Young Children\",\n      \"properties\": {\n        \"dtype\": \"number\",\n        \"std\": 0,\n        \"min\": 1,\n        \"max\": 5,\n        \"num_unique_values\": 4,\n        \"samples\": [\n          3,\n          1,\n          5\n        ],\n        \"semantic_type\": \"\",\n        \"description\": \"\"\n      }\n    },\n    {\n      \"column\": \"Good With Other Dogs\",\n      \"properties\": {\n        \"dtype\": \"number\",\n        \"std\": 0,\n        \"min\": 1,\n        \"max\": 5,\n        \"num_unique_values\": 5,\n        \"samples\": [\n          4,\n          2,\n          3\n        ],\n        \"semantic_type\": \"\",\n        \"description\": \"\"\n      }\n    },\n    {\n      \"column\": \"Shedding Level\",\n      \"properties\": {\n        \"dtype\": \"number\",\n        \"std\": 0,\n        \"min\": 1,\n        \"max\": 5,\n        \"num_unique_values\": 5,\n        \"samples\": [\n          3,\n          5,\n          1\n        ],\n        \"semantic_type\": \"\",\n        \"description\": \"\"\n      }\n    },\n    {\n      \"column\": \"Coat Grooming Frequency\",\n      \"properties\": {\n        \"dtype\": \"number\",\n        \"std\": 0,\n        \"min\": 1,\n        \"max\": 5,\n        \"num_unique_values\": 5,\n        \"samples\": [\n          1,\n          5,\n          3\n        ],\n        \"semantic_type\": \"\",\n        \"description\": \"\"\n      }\n    },\n    {\n      \"column\": \"Drooling Level\",\n      \"properties\": {\n        \"dtype\": \"number\",\n        \"std\": 0,\n        \"min\": 1,\n        \"max\": 5,\n        \"num_unique_values\": 5,\n        \"samples\": [\n          3,\n          5,\n          1\n        ],\n        \"semantic_type\": \"\",\n        \"description\": \"\"\n      }\n    },\n    {\n      \"column\": \"Coat Type\",\n      \"properties\": {\n        \"dtype\": \"category\",\n        \"num_unique_values\": 9,\n        \"samples\": [\n          \"Rough\",\n          \"Smooth\",\n          \"Wiry\"\n        ],\n        \"semantic_type\": \"\",\n        \"description\": \"\"\n      }\n    },\n    {\n      \"column\": \"Coat Length\",\n      \"properties\": {\n        \"dtype\": \"category\",\n        \"num_unique_values\": 3,\n        \"samples\": [\n          \"Short\",\n          \"Medium\",\n          \"Long\"\n        ],\n        \"semantic_type\": \"\",\n        \"description\": \"\"\n      }\n    },\n    {\n      \"column\": \"Openness To Strangers\",\n      \"properties\": {\n        \"dtype\": \"number\",\n        \"std\": 0,\n        \"min\": 1,\n        \"max\": 5,\n        \"num_unique_values\": 5,\n        \"samples\": [\n          3,\n          1,\n          4\n        ],\n        \"semantic_type\": \"\",\n        \"description\": \"\"\n      }\n    },\n    {\n      \"column\": \"Playfulness Level\",\n      \"properties\": {\n        \"dtype\": \"number\",\n        \"std\": 0,\n        \"min\": 2,\n        \"max\": 5,\n        \"num_unique_values\": 4,\n        \"samples\": [\n          4,\n          2,\n          5\n        ],\n        \"semantic_type\": \"\",\n        \"description\": \"\"\n      }\n    },\n    {\n      \"column\": \"Watchdog/Protective Nature\",\n      \"properties\": {\n        \"dtype\": \"number\",\n        \"std\": 0,\n        \"min\": 1,\n        \"max\": 5,\n        \"num_unique_values\": 5,\n        \"samples\": [\n          5,\n          1,\n          2\n        ],\n        \"semantic_type\": \"\",\n        \"description\": \"\"\n      }\n    },\n    {\n      \"column\": \"Adaptability Level\",\n      \"properties\": {\n        \"dtype\": \"number\",\n        \"std\": 0,\n        \"min\": 3,\n        \"max\": 5,\n        \"num_unique_values\": 3,\n        \"samples\": [\n          5,\n          3,\n          4\n        ],\n        \"semantic_type\": \"\",\n        \"description\": \"\"\n      }\n    },\n    {\n      \"column\": \"Trainability Level\",\n      \"properties\": {\n        \"dtype\": \"number\",\n        \"std\": 0,\n        \"min\": 1,\n        \"max\": 5,\n        \"num_unique_values\": 5,\n        \"samples\": [\n          4,\n          1,\n          3\n        ],\n        \"semantic_type\": \"\",\n        \"description\": \"\"\n      }\n    },\n    {\n      \"column\": \"Energy Level\",\n      \"properties\": {\n        \"dtype\": \"number\",\n        \"std\": 0,\n        \"min\": 2,\n        \"max\": 5,\n        \"num_unique_values\": 4,\n        \"samples\": [\n          3,\n          2,\n          5\n        ],\n        \"semantic_type\": \"\",\n        \"description\": \"\"\n      }\n    },\n    {\n      \"column\": \"Barking Level\",\n      \"properties\": {\n        \"dtype\": \"number\",\n        \"std\": 1,\n        \"min\": 1,\n        \"max\": 5,\n        \"num_unique_values\": 5,\n        \"samples\": [\n          1,\n          5,\n          2\n        ],\n        \"semantic_type\": \"\",\n        \"description\": \"\"\n      }\n    },\n    {\n      \"column\": \"Mental Stimulation Needs\",\n      \"properties\": {\n        \"dtype\": \"number\",\n        \"std\": 0,\n        \"min\": 3,\n        \"max\": 5,\n        \"num_unique_values\": 3,\n        \"samples\": [\n          4,\n          3,\n          5\n        ],\n        \"semantic_type\": \"\",\n        \"description\": \"\"\n      }\n    }\n  ]\n}"
            }
          },
          "metadata": {},
          "execution_count": 3
        }
      ]
    },
    {
      "cell_type": "code",
      "source": [
        "# map features\n",
        "\n",
        "coat_type_map = {\n",
        "    \"Double\": 1,\n",
        "    \"Smooth\": 2,\n",
        "    \"Curly\": 3,\n",
        "    \"Silky\": 4,\n",
        "    \"Wavy\":5,\n",
        "    \"Wiry\": 6,\n",
        "    \"Hairless\":7,\n",
        "    \"Rough\": 8,\n",
        "    \"Corded\":9\n",
        "}\n",
        "\n",
        "dog_traits['Coat Type'] = dog_traits['Coat Type'].map(coat_type_map.get)\n",
        "\n",
        "coat_length_map = {\n",
        "    \"Short\":1,\n",
        "    \"Medium\":2,\n",
        "    \"Long\":3\n",
        "}\n",
        "\n",
        "dog_traits['Coat Length'] = dog_traits['Coat Length'].map(coat_length_map.get)"
      ],
      "metadata": {
        "id": "2H290LXy05IQ"
      },
      "execution_count": 4,
      "outputs": []
    },
    {
      "cell_type": "code",
      "source": [
        "#Trait variables\n",
        "traits_X = dog_traits.drop(['Breed'], axis=1)\n",
        "traits_y = dog_traits['Breed']\n",
        "\n",
        "#Imputater for missing variables\n",
        "iterImputer = IterativeImputer()\n",
        "iterImputer.fit(traits_X)\n",
        "\n",
        "#find missing variables and use imputation on them\n",
        "traits_X = pd.DataFrame(iterImputer.transform(traits_X), columns=['Affectionate With Family', 'Good With Young Children', 'Good With Other Dogs', 'Shedding Level', 'Coat Grooming Frequency', 'Drooling Level', 'Coat Type', 'Coat Length', 'Openness To Strangers', 'Playfulness Level', 'Watchdog/Protective Nature', 'Adaptability Level', 'Trainability Level', 'Energy Level', 'Barking Level', 'Mental Stimulation Needs'])\n",
        "\n",
        "#Create a new dataframe for input (needs all features to have inputs)\n",
        "XNew = pd.DataFrame({'Affectionate With Family': [5], 'Good With Young Children':[5], 'Good With Other Dogs':[5], 'Shedding Level':[5], 'Coat Grooming Frequency':[4], 'Drooling Level': [5], 'Coat Type': [2], 'Coat Length':[1], 'Openness To Strangers': [5], 'Playfulness Level':[3], 'Watchdog/Protective Nature':[4], 'Adaptability Level':[5], 'Trainability Level':[5], 'Energy Level':[3], 'Barking Level':[4], 'Mental Stimulation Needs':[5]})\n",
        "XNew2 = pd.DataFrame({'Affectionate With Family': [2], 'Good With Young Children':[4], 'Good With Other Dogs':[1], 'Shedding Level':[4], 'Coat Grooming Frequency':[3], 'Drooling Level': [2], 'Coat Type': [9], 'Coat Length':[1], 'Openness To Strangers': [2], 'Playfulness Level':[5], 'Watchdog/Protective Nature':[5], 'Adaptability Level':[4], 'Trainability Level':[4], 'Energy Level':[5], 'Barking Level':[5], 'Mental Stimulation Needs':[3]})\n",
        "XNew3 = pd.DataFrame({'Affectionate With Family': [3], 'Good With Young Children':[3], 'Good With Other Dogs':[3], 'Shedding Level':[3], 'Coat Grooming Frequency':[3], 'Drooling Level': [3], 'Coat Type': [6], 'Coat Length':[2], 'Openness To Strangers': [3], 'Playfulness Level':[3], 'Watchdog/Protective Nature':[3], 'Adaptability Level':[3], 'Trainability Level':[3], 'Energy Level':[3], 'Barking Level':[3], 'Mental Stimulation Needs':[3]})\n",
        "XNew4 = pd.DataFrame({'Affectionate With Family': [1], 'Good With Young Children':[1], 'Good With Other Dogs':[1], 'Shedding Level':[1], 'Coat Grooming Frequency':[1], 'Drooling Level': [1], 'Coat Type': [1], 'Coat Length':[1], 'Openness To Strangers': [1], 'Playfulness Level':[1], 'Watchdog/Protective Nature':[1], 'Adaptability Level':[1], 'Trainability Level':[1], 'Energy Level':[1], 'Barking Level':[1], 'Mental Stimulation Needs':[1]})\n",
        "XNew5 = pd.DataFrame({'Affectionate With Family': [2], 'Good With Young Children':[2], 'Good With Other Dogs':[4], 'Shedding Level':[2], 'Coat Grooming Frequency':[5], 'Drooling Level': [4], 'Coat Type': [5], 'Coat Length':[3], 'Openness To Strangers': [4], 'Playfulness Level':[4], 'Watchdog/Protective Nature':[2], 'Adaptability Level':[2], 'Trainability Level':[2], 'Energy Level':[4], 'Barking Level':[2], 'Mental Stimulation Needs':[4]})"
      ],
      "metadata": {
        "id": "mWw5Z0vGLqmz"
      },
      "execution_count": 6,
      "outputs": []
    },
    {
      "cell_type": "code",
      "source": [
        "#Using MLPClassifier\n",
        "#create and initialize dog model\n",
        "mlpModel = MLPClassifier()\n",
        "mlpModel.fit(traits_X, traits_y)\n",
        "\n",
        "#accuracy and print out dog classification\n",
        "print(mlpModel.score(traits_X, traits_y))\n",
        "print(mlpModel.predict(XNew))\n",
        "print(mlpModel.predict_proba(XNew))"
      ],
      "metadata": {
        "colab": {
          "base_uri": "https://localhost:8080/"
        },
        "id": "5zjYwTEn2sAL",
        "outputId": "571c9f20-90e7-40d1-ee13-0119c977302a"
      },
      "execution_count": 13,
      "outputs": [
        {
          "output_type": "stream",
          "name": "stdout",
          "text": [
            "0.979381443298969\n",
            "['Setters(English)']\n",
            "[[1.59912341e-06 7.46812367e-07 1.19231988e-07 1.05018643e-05\n",
            "  8.37314734e-05 4.16141776e-07 3.10405194e-05 1.47634154e-07\n",
            "  3.55338983e-07 9.41192459e-07 5.28488605e-06 8.14556762e-06\n",
            "  5.28578792e-04 4.64189977e-07 2.17056213e-05 2.18177257e-05\n",
            "  5.64264961e-06 2.14963683e-02 6.72353683e-05 5.00234992e-05\n",
            "  4.08219105e-05 1.58111842e-06 7.35529795e-05 6.02875571e-05\n",
            "  3.24277915e-05 6.26619347e-08 4.72389568e-07 3.20182024e-02\n",
            "  4.97951074e-06 7.43316376e-04 1.91606064e-02 3.83878990e-02\n",
            "  4.35212076e-03 1.49586544e-02 3.50232354e-05 1.70533509e-06\n",
            "  1.12211246e-05 1.98429737e-05 7.26079180e-06 9.15389397e-03\n",
            "  2.58652922e-05 9.48485537e-05 4.69032314e-05 3.53879979e-05\n",
            "  6.82121066e-02 4.05034086e-04 4.77523211e-07 1.10806991e-03\n",
            "  2.24024700e-03 1.10809675e-04 7.35626339e-04 7.32655606e-07\n",
            "  2.64348057e-07 8.83583176e-08 2.72533920e-02 1.70439866e-04\n",
            "  3.02976128e-04 9.02448389e-07 1.83037393e-03 2.18521314e-05\n",
            "  2.11694881e-03 1.61587552e-02 3.43779168e-05 3.83843594e-05\n",
            "  5.80379475e-04 4.54787369e-02 1.98918938e-04 6.91009370e-04\n",
            "  3.99847092e-05 4.59128896e-03 5.01519156e-05 3.04498084e-06\n",
            "  1.15530188e-04 1.06017562e-03 6.29972788e-06 6.03290440e-04\n",
            "  4.33267541e-05 9.13178484e-05 1.16890662e-04 3.75408461e-03\n",
            "  6.06049356e-03 2.00605727e-02 1.14854516e-06 1.51202088e-04\n",
            "  2.78322141e-05 1.17626271e-07 1.59287667e-03 1.20754777e-07\n",
            "  4.68477674e-05 2.06149550e-05 1.70780398e-04 2.19947545e-04\n",
            "  8.96878435e-06 1.10124352e-07 1.13994871e-03 8.75334314e-05\n",
            "  2.02869912e-06 4.24776389e-02 3.12881738e-07 4.39369644e-07\n",
            "  2.10808220e-06 3.55755838e-06 3.20615421e-03 4.44651035e-03\n",
            "  9.66980360e-05 1.59232182e-06 1.21016687e-03 2.13884119e-02\n",
            "  3.64486017e-03 5.25425897e-03 3.79329861e-06 1.35863161e-05\n",
            "  3.81539460e-04 1.52669563e-03 3.21821887e-06 8.90232300e-03\n",
            "  7.26688736e-06 5.68134728e-05 5.45301333e-06 1.48173931e-05\n",
            "  1.02367910e-04 1.98411907e-06 1.15826961e-03 2.45602140e-02\n",
            "  2.20399778e-03 3.80352919e-05 7.03598008e-05 5.83444418e-07\n",
            "  2.20821317e-05 7.27963504e-07 7.81376942e-05 6.33443204e-05\n",
            "  7.93104576e-07 5.50569764e-05 4.53502528e-05 7.35901581e-06\n",
            "  3.55242396e-02 1.77489338e-03 2.47253830e-06 4.32862612e-05\n",
            "  4.21624457e-03 7.21076231e-04 3.78436851e-04 1.36261265e-03\n",
            "  5.64729390e-04 1.64667791e-06 1.23181611e-05 2.12153773e-05\n",
            "  3.41681486e-05 2.61682100e-05 1.01727623e-05 1.23466464e-05\n",
            "  2.75547159e-01 1.06646036e-02 4.07162935e-04 1.53366761e-04\n",
            "  7.49191316e-05 7.15996816e-05 1.21387832e-05 1.22374354e-05\n",
            "  4.01398589e-06 3.43245809e-04 2.72051876e-05 3.60406413e-05\n",
            "  2.52565652e-05 7.75566789e-05 6.80286259e-03 6.76946664e-04\n",
            "  4.40752402e-02 3.69948886e-02 5.20576477e-03 1.84618023e-04\n",
            "  6.70872892e-02 1.15814027e-03 2.44745990e-07 1.05769338e-02\n",
            "  9.12276274e-03 1.29657304e-03 2.93656776e-04 7.31810886e-03\n",
            "  6.19097703e-04 2.51026649e-04 7.04586669e-04 2.08312497e-05\n",
            "  2.24108087e-03 3.19054065e-04 1.50761739e-05 5.72822299e-05\n",
            "  1.09973563e-05 1.27253623e-05 2.36954793e-03 5.76944244e-06\n",
            "  2.56578783e-08 2.15642306e-07]]\n"
          ]
        },
        {
          "output_type": "stream",
          "name": "stderr",
          "text": [
            "/usr/local/lib/python3.10/dist-packages/sklearn/neural_network/_multilayer_perceptron.py:691: ConvergenceWarning: Stochastic Optimizer: Maximum iterations (200) reached and the optimization hasn't converged yet.\n",
            "  warnings.warn(\n"
          ]
        }
      ]
    },
    {
      "cell_type": "code",
      "source": [
        "%%time\n",
        "print(mlpModel.predict(XNew2))\n",
        "print(mlpModel.predict_proba(XNew2))"
      ],
      "metadata": {
        "colab": {
          "base_uri": "https://localhost:8080/"
        },
        "id": "UyCV4GI07M6u",
        "outputId": "4c74af50-ff51-496e-a323-b629663db85e"
      },
      "execution_count": 21,
      "outputs": [
        {
          "output_type": "stream",
          "name": "stdout",
          "text": [
            "['ScottishTerriers']\n",
            "[[2.28505382e-03 3.57271812e-04 3.57689648e-02 5.97398072e-04\n",
            "  9.87992852e-08 2.01278724e-07 1.61771787e-08 4.11030175e-05\n",
            "  1.43359082e-04 1.94343044e-06 1.63054250e-02 3.72473612e-06\n",
            "  2.96455888e-06 4.38380405e-03 9.18544039e-05 2.98731444e-07\n",
            "  5.72745863e-06 8.95523001e-07 1.97078157e-06 6.73885204e-05\n",
            "  3.59280651e-03 1.98027013e-04 1.30458476e-03 1.95933947e-07\n",
            "  1.08481482e-07 2.11756581e-02 3.23068885e-02 2.29548234e-09\n",
            "  1.72641252e-09 2.00597860e-06 1.17882614e-06 3.38208615e-04\n",
            "  2.98873116e-06 2.71177093e-03 3.99827326e-08 6.81482704e-04\n",
            "  2.19541588e-03 3.45131512e-08 1.53505523e-01 1.52204599e-05\n",
            "  2.88963409e-09 4.09572820e-07 9.22085066e-03 3.53905021e-03\n",
            "  1.74449310e-06 2.56831544e-05 1.47447027e-01 9.39380731e-03\n",
            "  1.29079386e-03 2.19139469e-07 4.07309580e-06 1.52226770e-05\n",
            "  4.57986011e-04 3.24315696e-04 4.44056738e-04 3.90352931e-06\n",
            "  2.30906202e-04 9.67306559e-08 3.69584303e-04 2.81301964e-09\n",
            "  8.05583134e-07 1.26172083e-04 1.85360929e-09 7.52366265e-05\n",
            "  8.73847293e-06 4.64376563e-06 4.82940151e-09 1.80039521e-09\n",
            "  4.74437514e-06 6.17677328e-08 1.20271583e-07 1.86656892e-03\n",
            "  8.44029264e-04 1.52187603e-08 2.57528439e-05 8.37642833e-07\n",
            "  1.50283555e-01 1.99168037e-03 1.24189755e-03 4.70872806e-04\n",
            "  2.53251812e-07 9.60903431e-06 1.04833830e-06 1.82699226e-10\n",
            "  3.67704715e-09 1.25647479e-04 1.27980204e-07 3.71128599e-02\n",
            "  4.89793234e-03 1.24538517e-09 2.58529995e-06 2.46498217e-09\n",
            "  2.24469358e-03 1.35208379e-02 1.51511936e-06 1.94509750e-10\n",
            "  1.78673569e-02 1.42414288e-06 1.58988077e-04 6.91344966e-04\n",
            "  7.93490268e-06 3.56499508e-04 8.51201574e-07 3.37572324e-09\n",
            "  1.53835329e-04 2.21600009e-04 1.10709284e-02 3.02343875e-05\n",
            "  1.59105618e-09 1.09325609e-09 2.86995027e-03 1.81735366e-07\n",
            "  1.58419789e-07 5.47417778e-07 1.64456140e-03 3.57103392e-07\n",
            "  2.93890689e-03 7.82031030e-05 1.73479163e-07 8.52444208e-09\n",
            "  7.57982352e-09 6.01849805e-03 2.48856623e-08 4.32596895e-08\n",
            "  1.15615038e-05 4.04060663e-03 3.54559332e-07 7.78744511e-09\n",
            "  5.82547988e-07 4.12959475e-04 1.44505770e-05 1.47925963e-07\n",
            "  2.18224054e-04 3.11764964e-05 1.62012971e-04 3.71803795e-07\n",
            "  6.77937588e-07 4.80306154e-02 1.47381511e-07 5.92470702e-08\n",
            "  8.68908010e-10 5.06096102e-11 5.20747575e-08 7.61567258e-05\n",
            "  2.33618712e-06 7.65174288e-04 2.83623816e-08 1.70640310e-07\n",
            "  1.44190333e-07 1.22909400e-05 1.84068894e-01 9.48856375e-03\n",
            "  5.40103829e-09 8.93861038e-08 7.90536017e-06 3.89991844e-10\n",
            "  1.45770261e-07 1.25090111e-06 1.11762358e-08 1.13628774e-09\n",
            "  8.23752656e-05 1.24766135e-07 8.78630242e-05 7.57271309e-05\n",
            "  7.72387203e-09 2.53673334e-08 1.30741431e-04 2.77186310e-09\n",
            "  2.66881526e-11 9.13931097e-10 2.00997899e-07 1.35310555e-06\n",
            "  6.67925960e-08 3.19644935e-07 3.31649469e-02 4.88878153e-04\n",
            "  4.49336058e-05 3.57793096e-05 2.28274590e-03 2.04649404e-07\n",
            "  2.96737955e-04 2.11891944e-06 4.19181593e-07 9.41579998e-06\n",
            "  8.54403070e-07 1.12024958e-06 6.72254358e-04 1.50987285e-03\n",
            "  1.51633596e-05 1.52233362e-08 5.33150980e-04 1.31556640e-04\n",
            "  3.23803573e-03 8.98082492e-06]]\n",
            "CPU times: user 9.08 ms, sys: 8.1 ms, total: 17.2 ms\n",
            "Wall time: 20.2 ms\n"
          ]
        }
      ]
    },
    {
      "cell_type": "code",
      "source": [
        "%%time\n",
        "print(mlpModel.predict(XNew3))\n",
        "print(mlpModel.predict_proba(XNew3))"
      ],
      "metadata": {
        "colab": {
          "base_uri": "https://localhost:8080/"
        },
        "id": "xvjqWMz-7Ob1",
        "outputId": "e7bf7689-09aa-47e5-d9a6-af1798f44e68"
      },
      "execution_count": 22,
      "outputs": [
        {
          "output_type": "stream",
          "name": "stdout",
          "text": [
            "['SpinoniItaliani']\n",
            "[[2.75815962e-03 5.18170324e-03 4.84911917e-03 1.47493308e-04\n",
            "  8.47414510e-06 1.21021378e-05 1.58556398e-06 4.06631906e-06\n",
            "  1.88175592e-04 4.70754502e-06 7.77414633e-04 4.07993008e-05\n",
            "  5.09540776e-05 5.14370892e-04 3.94187408e-04 4.72739708e-04\n",
            "  6.24401721e-05 2.19385171e-03 2.10603686e-05 2.49344862e-03\n",
            "  8.98254987e-04 1.02703689e-03 4.07821503e-04 8.27461286e-06\n",
            "  7.27023255e-06 2.53291716e-02 4.75152997e-03 8.73552652e-06\n",
            "  1.04911686e-05 1.48846848e-04 1.74626516e-03 1.56275858e-02\n",
            "  1.59511022e-03 3.49141326e-03 7.15432428e-07 3.37868406e-04\n",
            "  3.60379313e-03 5.78349058e-06 1.69741246e-01 8.11202936e-04\n",
            "  9.15298860e-05 7.79178735e-06 6.67198111e-03 9.38442001e-05\n",
            "  2.39205998e-03 3.79191491e-04 1.51230927e-02 1.06710800e-03\n",
            "  7.46924527e-03 2.21692445e-06 6.61353656e-03 1.22338717e-04\n",
            "  4.32660203e-05 1.64196969e-03 1.48023695e-03 1.57102436e-04\n",
            "  5.13198530e-03 5.01101930e-06 2.91724577e-04 1.76139145e-05\n",
            "  1.22980059e-04 5.90499005e-04 3.35078846e-06 8.58739810e-06\n",
            "  3.07917351e-05 8.06847612e-04 7.24002341e-07 8.55641185e-06\n",
            "  7.53959608e-05 1.54782704e-05 2.99233336e-06 5.91322880e-05\n",
            "  6.69954509e-03 1.55577764e-05 9.88612023e-06 5.57571111e-06\n",
            "  3.66517953e-02 4.81121174e-02 1.65791338e-02 1.17045926e-03\n",
            "  1.59146074e-04 4.33058527e-04 7.14255736e-06 9.40667732e-08\n",
            "  1.40580276e-06 3.65885916e-04 8.46005352e-06 4.44879586e-04\n",
            "  3.09062477e-02 1.21878015e-06 1.56256723e-03 1.42270056e-06\n",
            "  3.37381169e-03 1.78458344e-02 3.81436352e-05 1.05407649e-05\n",
            "  2.27450098e-03 3.59808069e-04 4.00799372e-04 6.16875345e-04\n",
            "  1.07059045e-03 3.14533085e-05 3.78369683e-05 1.63614571e-05\n",
            "  9.20760572e-05 9.00560143e-06 1.79331436e-02 7.64395772e-03\n",
            "  5.52023523e-06 4.82314357e-05 1.77537466e-04 1.37488843e-06\n",
            "  3.90356757e-06 9.82242658e-06 2.59151192e-04 2.60655853e-04\n",
            "  1.33195425e-02 4.74685233e-05 1.94551411e-05 3.69923884e-06\n",
            "  2.39834223e-07 2.39857888e-02 1.19065604e-04 1.41572774e-04\n",
            "  1.02473716e-04 1.31938570e-02 3.36566862e-05 1.80026162e-06\n",
            "  6.11167476e-05 1.19591438e-03 1.09396719e-03 4.48098852e-06\n",
            "  8.27909715e-03 6.03990551e-04 1.57986117e-04 6.86001812e-07\n",
            "  7.61207476e-04 9.00239896e-02 4.08890838e-07 1.58541299e-05\n",
            "  6.08752634e-06 4.26259877e-08 1.08734329e-05 2.18003556e-04\n",
            "  9.49530943e-05 6.91251705e-04 3.34419921e-06 2.07568784e-06\n",
            "  3.76941235e-07 3.29815084e-03 1.75781235e-02 5.79146048e-03\n",
            "  8.53519608e-05 9.27872532e-05 3.77152543e-03 1.50017478e-06\n",
            "  6.33433515e-06 8.32060212e-06 1.15604548e-05 3.96297015e-07\n",
            "  1.01004155e-03 2.40372996e-04 9.07711144e-05 1.22031211e-02\n",
            "  4.03600392e-06 4.15399761e-06 4.38494458e-02 5.79319144e-05\n",
            "  1.69088779e-05 7.62062324e-06 1.11696955e-04 6.30168437e-04\n",
            "  1.08204710e-04 5.23471075e-05 2.82531640e-02 1.92874740e-01\n",
            "  2.73565988e-03 1.08752638e-04 1.60463139e-02 4.01215959e-06\n",
            "  7.51486896e-04 1.71931401e-05 1.92014189e-04 6.17092284e-06\n",
            "  9.76501460e-05 1.08479980e-05 3.67017205e-05 6.80634813e-03\n",
            "  6.72458823e-06 7.33975815e-06 1.23305330e-02 1.21794778e-04\n",
            "  3.91617726e-04 5.42846898e-05]]\n",
            "CPU times: user 14.2 ms, sys: 8.73 ms, total: 22.9 ms\n",
            "Wall time: 24.1 ms\n"
          ]
        }
      ]
    },
    {
      "cell_type": "code",
      "source": [
        "%%time\n",
        "print(mlpModel.predict(XNew4))\n",
        "print(mlpModel.predict_proba(XNew4))"
      ],
      "metadata": {
        "colab": {
          "base_uri": "https://localhost:8080/"
        },
        "id": "IcV2tkVX7PgV",
        "outputId": "e7bad7f9-02e0-44e9-9c1f-e5b46a441a3e"
      },
      "execution_count": 23,
      "outputs": [
        {
          "output_type": "stream",
          "name": "stdout",
          "text": [
            "['SkyeTerriers']\n",
            "[[0.00174845 0.01420107 0.00378739 0.00979939 0.00769309 0.00180415\n",
            "  0.00220321 0.00098928 0.00093778 0.00128928 0.00721103 0.00321979\n",
            "  0.00467095 0.00148389 0.00649441 0.0069815  0.00225421 0.01125292\n",
            "  0.00157701 0.01275992 0.00730688 0.0129865  0.0036184  0.00427535\n",
            "  0.00431984 0.00313233 0.00315854 0.00583327 0.003382   0.00942832\n",
            "  0.0066078  0.0108623  0.00659505 0.00752708 0.00148763 0.00118687\n",
            "  0.01068965 0.00132635 0.01060667 0.0053745  0.01530689 0.00288301\n",
            "  0.00300513 0.00220999 0.00907309 0.00399164 0.00549352 0.00660111\n",
            "  0.01210706 0.00203778 0.0063377  0.00219217 0.00237299 0.00130535\n",
            "  0.00535554 0.00578675 0.01781348 0.00132229 0.00419558 0.00541739\n",
            "  0.00317966 0.00342921 0.00537772 0.00087717 0.00216788 0.00514058\n",
            "  0.00087283 0.00573585 0.00359782 0.00472199 0.00311226 0.0030328\n",
            "  0.00517837 0.00101798 0.0011163  0.00312984 0.0118292  0.00918673\n",
            "  0.00495946 0.00411221 0.01611519 0.00358829 0.00192012 0.00051204\n",
            "  0.00224223 0.00128254 0.00277225 0.00184137 0.00870325 0.00086264\n",
            "  0.00916457 0.00499076 0.00781918 0.00322099 0.00666414 0.00430682\n",
            "  0.0015651  0.00976214 0.00829732 0.00591524 0.00968246 0.00224964\n",
            "  0.00427473 0.00654893 0.00190874 0.00087817 0.00723708 0.01546331\n",
            "  0.00378541 0.00717473 0.00076766 0.00365905 0.00437756 0.00475678\n",
            "  0.0008404  0.01541412 0.00244838 0.00115025 0.00314165 0.00683283\n",
            "  0.00104213 0.00484136 0.00478223 0.00404767 0.00226287 0.00665565\n",
            "  0.00906158 0.00655752 0.00393037 0.00228029 0.00774197 0.00106897\n",
            "  0.00517389 0.00463942 0.0047122  0.00052245 0.00521974 0.01446126\n",
            "  0.00103363 0.00220791 0.00327333 0.00047477 0.00467445 0.00351207\n",
            "  0.00347067 0.00137311 0.00061661 0.00298633 0.00201333 0.00389723\n",
            "  0.0061168  0.00476189 0.00731842 0.00745696 0.0048249  0.00146829\n",
            "  0.00574596 0.00317605 0.00440886 0.00080307 0.00873155 0.02305487\n",
            "  0.00307208 0.00940312 0.00417081 0.00488664 0.01331406 0.010304\n",
            "  0.00542455 0.00381177 0.00446849 0.0051867  0.00993177 0.00727036\n",
            "  0.00249166 0.01734845 0.00683177 0.00306895 0.00734108 0.00149471\n",
            "  0.01232443 0.00472525 0.01875121 0.00077666 0.00207355 0.0011616\n",
            "  0.00155    0.00541109 0.00354115 0.0017731  0.00415625 0.00053499\n",
            "  0.00066035 0.00355032]]\n",
            "CPU times: user 11.6 ms, sys: 9.46 ms, total: 21 ms\n",
            "Wall time: 34.5 ms\n"
          ]
        }
      ]
    },
    {
      "cell_type": "code",
      "source": [
        "%%time\n",
        "print(mlpModel.predict(XNew5))\n",
        "print(mlpModel.predict_proba(XNew5))"
      ],
      "metadata": {
        "colab": {
          "base_uri": "https://localhost:8080/"
        },
        "id": "z516D7sh7Qnd",
        "outputId": "a9a69923-fd46-47be-a84c-77d107def6ea"
      },
      "execution_count": 25,
      "outputs": [
        {
          "output_type": "stream",
          "name": "stdout",
          "text": [
            "['Setters(Irish)']\n",
            "[[3.95693445e-04 1.51353875e-01 1.13415385e-04 1.86165643e-05\n",
            "  1.04280568e-05 1.93789540e-06 1.50305647e-07 1.78441719e-09\n",
            "  3.64840596e-08 8.08429400e-09 6.03752441e-06 1.25462247e-05\n",
            "  1.05161304e-05 4.38623278e-06 5.94177594e-04 2.98575676e-04\n",
            "  1.42523984e-04 9.43798177e-03 1.16971705e-06 9.47462731e-04\n",
            "  7.95755226e-05 8.34902213e-03 9.07143559e-06 1.44412940e-06\n",
            "  4.36720780e-06 1.01160602e-03 1.46669211e-05 1.22333631e-05\n",
            "  5.63886573e-04 1.08661109e-03 6.88923460e-04 2.94250110e-03\n",
            "  3.64509126e-03 2.16855197e-05 3.36727435e-06 7.14604647e-07\n",
            "  4.92799279e-03 4.74272224e-06 1.70091631e-02 6.16870881e-04\n",
            "  8.56107871e-02 6.16256878e-05 1.63672459e-04 1.77665117e-06\n",
            "  1.10528415e-01 1.12174612e-04 1.29256292e-04 3.44492431e-07\n",
            "  4.48707731e-04 8.72578529e-08 2.98310665e-04 7.70359253e-07\n",
            "  1.93136694e-07 5.49958043e-05 2.77833461e-06 4.07899984e-07\n",
            "  1.61424642e-02 1.32817490e-06 8.10358573e-07 1.88148377e-04\n",
            "  4.12028658e-06 3.72120142e-05 1.42488835e-05 1.25089067e-09\n",
            "  9.98141926e-07 2.75572860e-05 3.74145709e-09 2.20429018e-05\n",
            "  1.98591485e-06 5.96641028e-08 1.98943702e-07 9.21432496e-08\n",
            "  6.87837148e-04 1.31411054e-05 2.76270649e-08 1.63345073e-07\n",
            "  1.01867072e-02 3.40760208e-02 2.52490026e-02 8.80387393e-05\n",
            "  3.21079339e-05 4.10947566e-05 1.93638351e-07 5.24938585e-10\n",
            "  9.05057103e-07 2.49734988e-05 1.07953618e-07 4.61496002e-08\n",
            "  1.33667955e-03 1.65803100e-08 1.11705202e-03 3.01880879e-06\n",
            "  1.94415561e-04 3.58274449e-04 1.29348818e-06 5.39211415e-03\n",
            "  1.53161932e-05 6.62526283e-04 8.23099715e-05 1.10704736e-06\n",
            "  4.21047541e-03 6.97330989e-08 1.34798054e-06 3.74138495e-04\n",
            "  2.24388536e-07 2.92038433e-09 1.02997748e-04 1.16300512e-02\n",
            "  1.60942625e-05 1.45799730e-03 3.54312908e-08 8.89538082e-08\n",
            "  8.55470975e-07 7.01587158e-07 1.60897939e-07 3.37126203e-03\n",
            "  6.96281295e-05 1.11112288e-07 1.54858234e-04 2.91530913e-05\n",
            "  4.52641928e-09 2.21111493e-04 7.09104566e-05 4.50607407e-04\n",
            "  1.24507979e-05 7.41632597e-03 1.93964539e-04 6.17581538e-07\n",
            "  9.86865610e-05 1.30107344e-05 3.00769488e-02 2.14932022e-07\n",
            "  7.95050188e-03 3.37341738e-03 2.96978142e-05 3.55757165e-08\n",
            "  4.29191113e-05 4.87546387e-03 5.02639632e-10 4.83305450e-05\n",
            "  4.47461630e-06 3.26035409e-08 3.99892237e-05 1.55652173e-07\n",
            "  2.57771618e-05 9.90015009e-05 1.64056444e-07 2.36305728e-07\n",
            "  6.33433034e-10 3.96609803e-04 2.41696184e-04 5.92756764e-05\n",
            "  7.25607962e-04 1.45904344e-04 2.17345952e-01 1.75222054e-06\n",
            "  7.76695572e-07 3.60305430e-07 2.91935593e-05 1.18404627e-07\n",
            "  4.50870974e-05 6.81643360e-04 5.73437293e-07 3.02437861e-02\n",
            "  1.06760805e-05 3.37380785e-06 1.31692833e-01 1.23642687e-03\n",
            "  1.33100894e-04 9.27085784e-05 8.73965515e-07 1.19064524e-02\n",
            "  4.81690371e-04 5.72409378e-07 6.09432085e-03 1.71977201e-02\n",
            "  6.05501327e-04 2.37836891e-06 2.62690416e-03 3.13343276e-08\n",
            "  4.91624135e-05 1.19646021e-07 1.30371390e-03 6.11287062e-08\n",
            "  2.95586642e-06 1.73506613e-06 7.18088898e-07 4.23130648e-04\n",
            "  4.73838285e-07 6.00968153e-06 1.90464513e-03 1.47942287e-07\n",
            "  3.93121041e-06 7.08424023e-05]]\n",
            "CPU times: user 7.58 ms, sys: 4.25 ms, total: 11.8 ms\n",
            "Wall time: 7.3 ms\n"
          ]
        }
      ]
    },
    {
      "cell_type": "code",
      "source": [
        "%%time\n",
        "#Using KNeighbors\n",
        "#create and initialize dog model\n",
        "knnModel = KNeighborsClassifier(n_neighbors=5)\n",
        "knnModel.fit(traits_X, traits_y)\n",
        "\n",
        "#accuracy and print out dog classification\n",
        "print(knnModel.score(traits_X, traits_y))\n",
        "print(knnModel.predict(XNew))\n",
        "print(knnModel.predict_proba(XNew))"
      ],
      "metadata": {
        "colab": {
          "base_uri": "https://localhost:8080/"
        },
        "id": "q_ZygdTz6zNM",
        "outputId": "09fcde28-a057-48c3-f619-c0026b181015"
      },
      "execution_count": 41,
      "outputs": [
        {
          "output_type": "stream",
          "name": "stdout",
          "text": [
            "0.20103092783505155\n",
            "['BerneseMountainDogs']\n",
            "[[0.  0.  0.  0.  0.  0.  0.  0.  0.  0.  0.  0.  0.  0.  0.  0.  0.  0.\n",
            "  0.  0.  0.  0.  0.  0.  0.  0.  0.  0.2 0.  0.  0.  0.  0.  0.  0.  0.\n",
            "  0.  0.  0.  0.  0.  0.  0.  0.  0.  0.  0.  0.  0.  0.  0.  0.  0.  0.\n",
            "  0.  0.  0.  0.  0.  0.  0.  0.  0.  0.  0.  0.  0.  0.  0.  0.  0.  0.\n",
            "  0.  0.  0.  0.  0.  0.  0.  0.  0.  0.  0.  0.  0.  0.  0.  0.  0.  0.\n",
            "  0.  0.  0.  0.  0.  0.  0.  0.2 0.  0.  0.  0.  0.  0.  0.  0.  0.  0.\n",
            "  0.  0.  0.  0.  0.  0.  0.  0.  0.  0.  0.  0.  0.  0.  0.  0.  0.  0.\n",
            "  0.  0.  0.  0.  0.  0.  0.  0.  0.  0.  0.2 0.  0.  0.  0.  0.  0.  0.\n",
            "  0.  0.  0.  0.  0.  0.  0.  0.  0.2 0.  0.  0.  0.  0.  0.  0.  0.  0.\n",
            "  0.  0.  0.  0.  0.  0.  0.2 0.  0.  0.  0.  0.  0.  0.  0.  0.  0.  0.\n",
            "  0.  0.  0.  0.  0.  0.  0.  0.  0.  0.  0.  0.  0.  0. ]]\n",
            "CPU times: user 33.4 ms, sys: 325 µs, total: 33.7 ms\n",
            "Wall time: 34.3 ms\n"
          ]
        }
      ]
    },
    {
      "cell_type": "code",
      "source": [
        "%%time\n",
        "print(knnModel.predict(XNew2))\n",
        "print(knnModel.predict_proba(XNew2))"
      ],
      "metadata": {
        "colab": {
          "base_uri": "https://localhost:8080/"
        },
        "id": "SaOAtdwJ795s",
        "outputId": "ddb0980b-0336-4509-830f-cd52beddd87a"
      },
      "execution_count": 28,
      "outputs": [
        {
          "output_type": "stream",
          "name": "stdout",
          "text": [
            "['AustralianTerriers']\n",
            "[[0.  0.  0.  0.  0.  0.  0.  0.  0.  0.  0.  0.  0.  0.2 0.  0.  0.  0.\n",
            "  0.  0.  0.  0.  0.  0.  0.  0.  0.  0.  0.  0.  0.  0.  0.  0.  0.  0.\n",
            "  0.  0.  0.2 0.  0.  0.  0.2 0.  0.  0.  0.  0.  0.  0.  0.  0.  0.  0.\n",
            "  0.  0.  0.  0.  0.  0.  0.  0.  0.  0.  0.  0.  0.  0.  0.  0.  0.  0.\n",
            "  0.  0.  0.  0.  0.  0.  0.  0.  0.  0.  0.  0.  0.  0.  0.  0.  0.  0.\n",
            "  0.  0.  0.  0.  0.  0.  0.  0.  0.  0.  0.  0.  0.  0.  0.  0.  0.  0.\n",
            "  0.  0.  0.  0.  0.  0.  0.  0.  0.  0.  0.  0.  0.  0.  0.  0.  0.  0.\n",
            "  0.  0.  0.  0.  0.  0.  0.  0.  0.  0.  0.  0.2 0.  0.  0.  0.  0.  0.\n",
            "  0.  0.  0.  0.  0.  0.  0.2 0.  0.  0.  0.  0.  0.  0.  0.  0.  0.  0.\n",
            "  0.  0.  0.  0.  0.  0.  0.  0.  0.  0.  0.  0.  0.  0.  0.  0.  0.  0.\n",
            "  0.  0.  0.  0.  0.  0.  0.  0.  0.  0.  0.  0.  0.  0. ]]\n",
            "CPU times: user 16.4 ms, sys: 0 ns, total: 16.4 ms\n",
            "Wall time: 51.5 ms\n"
          ]
        }
      ]
    },
    {
      "cell_type": "code",
      "source": [
        "%%time\n",
        "print(knnModel.predict(XNew3))\n",
        "print(knnModel.predict_proba(XNew3))"
      ],
      "metadata": {
        "colab": {
          "base_uri": "https://localhost:8080/"
        },
        "id": "rxypHVF57_gc",
        "outputId": "4e3e34f2-96e3-4f67-d8e5-3098febd66d7"
      },
      "execution_count": 29,
      "outputs": [
        {
          "output_type": "stream",
          "name": "stdout",
          "text": [
            "['BouviersdesFlandres']\n",
            "[[0.  0.  0.  0.  0.  0.  0.  0.  0.  0.  0.  0.  0.  0.  0.  0.  0.  0.\n",
            "  0.  0.  0.  0.  0.  0.  0.  0.  0.  0.  0.  0.  0.  0.  0.  0.  0.  0.\n",
            "  0.  0.  0.2 0.  0.  0.  0.  0.  0.  0.  0.2 0.  0.  0.  0.  0.  0.  0.\n",
            "  0.  0.  0.  0.  0.  0.  0.  0.  0.  0.  0.  0.  0.  0.  0.  0.  0.  0.\n",
            "  0.  0.  0.  0.  0.  0.2 0.  0.  0.  0.  0.  0.  0.  0.  0.  0.  0.  0.\n",
            "  0.  0.  0.  0.  0.  0.  0.  0.  0.  0.  0.  0.  0.  0.  0.  0.  0.  0.\n",
            "  0.  0.  0.  0.  0.  0.  0.  0.  0.  0.  0.  0.  0.  0.  0.  0.  0.  0.\n",
            "  0.  0.  0.  0.  0.  0.  0.  0.  0.  0.  0.  0.2 0.  0.  0.  0.  0.  0.\n",
            "  0.  0.  0.  0.  0.  0.  0.  0.  0.  0.  0.  0.  0.  0.  0.  0.  0.  0.\n",
            "  0.  0.  0.  0.  0.  0.  0.  0.  0.  0.  0.  0.  0.  0.2 0.  0.  0.  0.\n",
            "  0.  0.  0.  0.  0.  0.  0.  0.  0.  0.  0.  0.  0.  0. ]]\n",
            "CPU times: user 15.2 ms, sys: 0 ns, total: 15.2 ms\n",
            "Wall time: 45.2 ms\n"
          ]
        }
      ]
    },
    {
      "cell_type": "code",
      "source": [
        "%%time\n",
        "print(knnModel.predict(XNew4))\n",
        "print(knnModel.predict_proba(XNew4))"
      ],
      "metadata": {
        "colab": {
          "base_uri": "https://localhost:8080/"
        },
        "id": "EZpFU7oN7_0d",
        "outputId": "ef1d5b7d-6956-4190-b1b8-337938beb6fc"
      },
      "execution_count": 30,
      "outputs": [
        {
          "output_type": "stream",
          "name": "stdout",
          "text": [
            "['AnatolianShepherdDogs']\n",
            "[[0.  0.  0.  0.  0.  0.  0.  0.  0.  0.  0.2 0.  0.  0.  0.2 0.  0.2 0.\n",
            "  0.  0.  0.  0.  0.  0.  0.  0.  0.  0.  0.  0.  0.  0.  0.  0.  0.  0.\n",
            "  0.  0.  0.  0.  0.  0.  0.  0.  0.  0.  0.  0.  0.  0.  0.  0.  0.  0.\n",
            "  0.  0.  0.  0.  0.  0.  0.  0.  0.  0.  0.  0.  0.  0.  0.  0.  0.  0.\n",
            "  0.  0.  0.  0.  0.  0.  0.  0.  0.  0.  0.  0.  0.  0.  0.  0.  0.  0.\n",
            "  0.  0.  0.  0.  0.  0.  0.  0.  0.  0.  0.  0.  0.  0.  0.  0.  0.  0.\n",
            "  0.  0.  0.  0.  0.  0.2 0.  0.  0.  0.  0.  0.  0.  0.  0.  0.  0.  0.\n",
            "  0.  0.  0.  0.  0.  0.  0.  0.  0.  0.  0.  0.  0.  0.  0.  0.  0.  0.\n",
            "  0.  0.  0.  0.  0.  0.  0.  0.  0.  0.  0.  0.  0.  0.  0.  0.  0.  0.\n",
            "  0.2 0.  0.  0.  0.  0.  0.  0.  0.  0.  0.  0.  0.  0.  0.  0.  0.  0.\n",
            "  0.  0.  0.  0.  0.  0.  0.  0.  0.  0.  0.  0.  0.  0. ]]\n",
            "CPU times: user 12.4 ms, sys: 836 µs, total: 13.3 ms\n",
            "Wall time: 14.4 ms\n"
          ]
        }
      ]
    },
    {
      "cell_type": "code",
      "source": [
        "%%time\n",
        "print(knnModel.predict(XNew5))\n",
        "print(knnModel.predict_proba(XNew5))"
      ],
      "metadata": {
        "colab": {
          "base_uri": "https://localhost:8080/"
        },
        "id": "Syw4GU0n8A_z",
        "outputId": "fb3f9564-0305-4c8c-9369-d7691ab07f20"
      },
      "execution_count": 31,
      "outputs": [
        {
          "output_type": "stream",
          "name": "stdout",
          "text": [
            "['AfghanHounds']\n",
            "[[0.  0.2 0.  0.  0.  0.  0.  0.  0.  0.  0.  0.  0.  0.  0.  0.  0.  0.\n",
            "  0.  0.  0.  0.  0.  0.  0.  0.  0.  0.  0.  0.  0.  0.  0.  0.  0.  0.\n",
            "  0.2 0.  0.2 0.  0.  0.  0.  0.  0.  0.  0.  0.  0.  0.  0.  0.  0.  0.\n",
            "  0.  0.  0.  0.  0.  0.  0.  0.  0.  0.  0.  0.  0.  0.  0.  0.  0.  0.\n",
            "  0.  0.  0.  0.  0.  0.2 0.  0.  0.  0.  0.  0.  0.  0.  0.  0.  0.  0.\n",
            "  0.  0.  0.  0.  0.  0.  0.  0.  0.  0.  0.  0.  0.  0.  0.  0.  0.  0.\n",
            "  0.  0.  0.  0.  0.  0.  0.  0.  0.  0.  0.  0.  0.  0.  0.  0.  0.  0.\n",
            "  0.  0.  0.  0.  0.  0.  0.  0.  0.  0.  0.  0.  0.  0.  0.  0.  0.  0.\n",
            "  0.  0.  0.  0.  0.  0.  0.  0.  0.  0.  0.  0.  0.  0.  0.  0.  0.  0.\n",
            "  0.  0.  0.  0.  0.2 0.  0.  0.  0.  0.  0.  0.  0.  0.  0.  0.  0.  0.\n",
            "  0.  0.  0.  0.  0.  0.  0.  0.  0.  0.  0.  0.  0.  0. ]]\n",
            "CPU times: user 10.1 ms, sys: 1.8 ms, total: 11.9 ms\n",
            "Wall time: 13.8 ms\n"
          ]
        }
      ]
    },
    {
      "cell_type": "code",
      "source": [
        "%%time\n",
        "#Using Logistic Regression\n",
        "\n",
        "LRModel = LogisticRegression()\n",
        "LRModel.fit(traits_X, traits_y)\n",
        "\n",
        "print(LRModel.score(traits_X, traits_y))\n",
        "print(LRModel.predict(XNew))\n",
        "print(LRModel.predict_proba(XNew))"
      ],
      "metadata": {
        "colab": {
          "base_uri": "https://localhost:8080/"
        },
        "id": "SYWIJXpCE5xF",
        "outputId": "cf1eca97-c2d2-4032-a751-90996e6d1aba"
      },
      "execution_count": 26,
      "outputs": [
        {
          "output_type": "stream",
          "name": "stdout",
          "text": [
            "0.979381443298969\n",
            "['Leonbergers']\n",
            "[[7.01467854e-04 9.04830718e-06 1.44176702e-05 7.25665808e-06\n",
            "  2.65216019e-04 2.04487958e-05 1.06971975e-03 1.51796431e-04\n",
            "  4.04397406e-05 2.19448718e-05 2.65331789e-05 1.89053446e-05\n",
            "  1.31883417e-04 2.55173089e-05 6.45978253e-07 1.09354237e-04\n",
            "  2.86846057e-06 1.58778961e-02 5.52456874e-04 1.32595911e-03\n",
            "  2.33683665e-04 6.36443577e-06 3.90716950e-04 1.81343032e-04\n",
            "  1.81343032e-04 1.50423504e-06 2.16729470e-05 1.07449911e-01\n",
            "  3.30767849e-04 1.15375930e-02 1.09388233e-02 1.16463854e-02\n",
            "  1.45371610e-03 4.13500415e-03 6.09876252e-04 1.09072080e-04\n",
            "  4.67058856e-05 5.08412535e-05 1.94913462e-04 2.43887479e-03\n",
            "  4.56204605e-05 5.61869424e-04 5.05740576e-04 2.53354768e-05\n",
            "  5.18281975e-03 3.39067045e-04 5.32279613e-06 9.82877060e-04\n",
            "  1.45130244e-04 2.06571436e-04 1.61102221e-03 9.38674816e-05\n",
            "  5.01742416e-06 1.50513698e-05 9.41872003e-04 4.57012672e-03\n",
            "  1.75437669e-04 6.55823778e-06 4.76244116e-03 4.15608932e-04\n",
            "  2.97619510e-03 1.08078069e-02 1.42761229e-04 2.25450553e-03\n",
            "  5.08428851e-03 5.72653007e-02 3.97341608e-03 1.85887652e-03\n",
            "  1.20435626e-03 9.97749903e-03 1.45935096e-03 1.54901362e-04\n",
            "  2.56487089e-03 1.79157363e-03 1.81515009e-05 5.74918895e-03\n",
            "  1.32297154e-03 1.79177502e-04 9.33471782e-04 2.02824179e-03\n",
            "  1.05244528e-03 1.78012315e-02 1.84755001e-05 3.97341608e-03\n",
            "  4.68712028e-04 3.57261382e-05 1.42329173e-02 1.48613711e-05\n",
            "  2.08417847e-04 5.78504554e-04 4.24480915e-04 2.71634811e-02\n",
            "  8.24459336e-05 4.00730442e-06 1.22999566e-03 2.37671409e-04\n",
            "  4.55005648e-05 1.66374651e-01 3.66405644e-05 3.26497587e-05\n",
            "  3.79550046e-05 5.65673797e-05 7.38632580e-04 9.82225710e-03\n",
            "  1.63303195e-04 1.89666477e-04 1.20007042e-02 3.90828717e-03\n",
            "  2.57966110e-03 2.13271418e-02 5.47203633e-04 1.98498834e-04\n",
            "  2.09405659e-03 4.39402557e-05 5.47203633e-04 1.60204316e-02\n",
            "  4.44247514e-04 1.61862567e-03 1.07201041e-04 4.61793348e-05\n",
            "  5.28318262e-03 2.20571273e-04 1.01814679e-03 1.51255131e-02\n",
            "  1.31195481e-02 9.65106151e-05 2.30640798e-03 5.38163230e-05\n",
            "  2.80120745e-04 3.30271507e-04 4.31883258e-03 7.94495382e-04\n",
            "  1.64209317e-04 6.40457722e-05 5.69935594e-04 1.17979020e-03\n",
            "  5.21936570e-02 2.99464276e-03 1.30811885e-05 3.63075016e-03\n",
            "  1.40622708e-02 1.57960947e-02 2.39015101e-04 3.91802628e-03\n",
            "  1.39036751e-03 5.20094126e-04 3.94225182e-05 6.50988868e-04\n",
            "  2.35491029e-04 2.24764976e-05 2.04248431e-04 1.64753145e-03\n",
            "  6.98040165e-02 7.68010102e-03 6.36886677e-03 1.95252772e-03\n",
            "  7.27877733e-04 1.62801198e-04 3.27458240e-04 5.30639805e-04\n",
            "  1.28559862e-04 7.69797263e-05 2.66734458e-06 1.97150366e-04\n",
            "  2.21844827e-05 4.66849194e-04 3.97374526e-03 1.26529203e-02\n",
            "  5.03502457e-02 1.23672182e-02 8.12122449e-03 9.66487256e-05\n",
            "  4.15935279e-03 6.08308598e-04 2.70430714e-05 1.85047645e-03\n",
            "  9.16517061e-03 1.09172451e-02 2.26752011e-03 4.59080995e-03\n",
            "  2.78585183e-03 8.49031012e-04 1.41136852e-03 1.47999048e-03\n",
            "  1.07492510e-02 5.26563873e-03 9.44029680e-04 2.56487089e-03\n",
            "  6.27250863e-04 3.81224550e-05 8.89890966e-03 3.14523351e-04\n",
            "  1.81036593e-06 8.04037283e-04]]\n",
            "CPU times: user 270 ms, sys: 192 ms, total: 462 ms\n",
            "Wall time: 248 ms\n"
          ]
        },
        {
          "output_type": "stream",
          "name": "stderr",
          "text": [
            "/usr/local/lib/python3.10/dist-packages/sklearn/linear_model/_logistic.py:460: ConvergenceWarning: lbfgs failed to converge (status=1):\n",
            "STOP: TOTAL NO. of ITERATIONS REACHED LIMIT.\n",
            "\n",
            "Increase the number of iterations (max_iter) or scale the data as shown in:\n",
            "    https://scikit-learn.org/stable/modules/preprocessing.html\n",
            "Please also refer to the documentation for alternative solver options:\n",
            "    https://scikit-learn.org/stable/modules/linear_model.html#logistic-regression\n",
            "  n_iter_i = _check_optimize_result(\n"
          ]
        }
      ]
    },
    {
      "cell_type": "code",
      "source": [
        "%%time\n",
        "print(LRModel.predict(XNew2))\n",
        "print(LRModel.predict_proba(XNew2))"
      ],
      "metadata": {
        "colab": {
          "base_uri": "https://localhost:8080/"
        },
        "id": "rprzCTpQ8ZvN",
        "outputId": "8bc36b36-f55c-440e-f9c8-f56ee131533f"
      },
      "execution_count": 32,
      "outputs": [
        {
          "output_type": "stream",
          "name": "stdout",
          "text": [
            "['BouviersdesFlandres']\n",
            "[[5.46905744e-03 4.50562346e-04 1.19385002e-02 4.21105989e-04\n",
            "  1.18220017e-04 1.81508325e-05 2.41735554e-06 2.38396049e-04\n",
            "  1.11951969e-03 4.73350294e-06 3.38076458e-03 7.91243854e-05\n",
            "  9.46519914e-05 8.61580310e-02 6.96454861e-06 1.35465829e-05\n",
            "  3.29879229e-06 4.88094454e-05 2.15222767e-04 1.79598754e-03\n",
            "  1.11164604e-02 4.92675100e-04 1.28951133e-03 3.03829112e-05\n",
            "  3.03829112e-05 3.67770633e-03 2.57093173e-02 1.05917410e-05\n",
            "  2.42100081e-07 4.67669872e-04 2.88077899e-05 3.00731214e-04\n",
            "  1.06047736e-04 3.41769856e-04 1.92110285e-05 1.18462503e-02\n",
            "  3.82224781e-04 5.85771031e-06 4.16299901e-01 2.43167613e-04\n",
            "  1.00143486e-06 8.93603474e-05 5.07183643e-02 6.92397572e-04\n",
            "  1.03683408e-04 3.50601078e-05 3.63305857e-02 6.95336303e-03\n",
            "  3.01368609e-04 4.48170276e-05 2.87827672e-05 6.26863504e-04\n",
            "  6.37731439e-04 1.27502552e-03 2.36330099e-04 1.35078869e-04\n",
            "  3.02287654e-04 3.09566116e-06 4.58700544e-03 5.89422594e-08\n",
            "  3.49929495e-05 3.72766735e-04 1.35878229e-06 8.06558505e-04\n",
            "  5.69326543e-04 1.25426807e-04 1.00759232e-06 4.84256418e-07\n",
            "  1.32939382e-05 1.50804855e-05 1.47435512e-05 3.10215262e-03\n",
            "  4.14462195e-03 5.25977459e-06 1.78937815e-04 5.11089642e-05\n",
            "  5.03759799e-02 6.29069278e-04 1.82361699e-03 3.39064998e-04\n",
            "  2.79050196e-06 4.14559852e-05 1.08236521e-05 1.00759232e-06\n",
            "  4.82359558e-07 4.21478330e-04 2.36241355e-06 6.73643751e-03\n",
            "  6.07778471e-04 8.42044040e-07 1.57093858e-05 2.29024464e-06\n",
            "  3.49025315e-03 1.13438832e-02 4.48412187e-06 1.79089796e-08\n",
            "  2.33357483e-03 6.26741017e-06 1.10160095e-04 1.80435040e-03\n",
            "  5.66964854e-05 4.54621690e-04 8.87957093e-07 9.22779346e-07\n",
            "  1.94149165e-04 2.05793918e-04 4.63967464e-02 3.29793191e-05\n",
            "  9.12582572e-07 1.95058718e-07 8.55188043e-03 6.03105819e-06\n",
            "  1.16326247e-05 3.04148159e-06 8.55188043e-03 1.92643128e-05\n",
            "  8.98329319e-03 2.10699811e-03 7.07347578e-06 1.37097230e-06\n",
            "  7.49416093e-06 1.08291040e-02 2.40072666e-06 6.99029091e-06\n",
            "  3.87197054e-05 3.42543244e-03 9.25982056e-06 1.37257870e-06\n",
            "  5.45687391e-05 1.77488130e-03 1.52313478e-04 2.13539073e-05\n",
            "  1.49490093e-03 9.97233436e-05 1.60829948e-03 2.52826615e-05\n",
            "  9.66046283e-06 4.21577650e-02 5.19895898e-06 1.22663847e-05\n",
            "  6.88395442e-08 1.67845982e-06 4.30651439e-06 4.85712834e-05\n",
            "  9.58683894e-06 1.41756333e-03 2.16059906e-06 1.71663458e-05\n",
            "  2.59938895e-05 3.61243599e-05 5.10431477e-02 4.57475958e-03\n",
            "  9.00612720e-07 9.25314871e-06 2.60974220e-04 2.77204759e-07\n",
            "  4.78128250e-05 1.69246190e-06 1.76624315e-07 2.18737730e-06\n",
            "  7.99011827e-04 1.16715211e-06 1.97459041e-05 6.33804580e-04\n",
            "  4.13447828e-06 2.83388122e-05 5.33770263e-04 3.31436607e-06\n",
            "  8.99044599e-08 7.27397146e-07 8.29517548e-06 2.62075430e-05\n",
            "  1.07301905e-05 9.28298078e-06 7.19437338e-03 6.73382221e-04\n",
            "  8.59671177e-05 1.05063258e-04 1.48778665e-03 3.95422869e-05\n",
            "  1.17541101e-04 5.76564148e-06 4.35519466e-06 9.29805949e-05\n",
            "  4.63289396e-05 6.81886980e-05 1.64325793e-03 4.14462195e-03\n",
            "  1.08815964e-04 5.72369990e-07 2.39783903e-03 4.73602585e-03\n",
            "  3.24658710e-03 2.75084769e-04]]\n",
            "CPU times: user 11.1 ms, sys: 0 ns, total: 11.1 ms\n",
            "Wall time: 25 ms\n"
          ]
        }
      ]
    },
    {
      "cell_type": "code",
      "source": [
        "%%time\n",
        "print(LRModel.predict(XNew3))\n",
        "print(LRModel.predict_proba(XNew3))"
      ],
      "metadata": {
        "colab": {
          "base_uri": "https://localhost:8080/"
        },
        "id": "BboUS_Fe8dkQ",
        "outputId": "1bd85400-8368-4be6-ae58-9c4db9f677f3"
      },
      "execution_count": 33,
      "outputs": [
        {
          "output_type": "stream",
          "name": "stdout",
          "text": [
            "['BouviersdesFlandres']\n",
            "[[4.72313134e-02 2.03212731e-02 1.75915041e-02 7.47808913e-04\n",
            "  1.25174614e-03 1.85342848e-03 2.14698094e-04 1.05245832e-03\n",
            "  1.48488158e-03 4.59955817e-04 5.03140191e-03 7.44510245e-04\n",
            "  2.63635287e-04 4.51062098e-03 3.24709190e-03 2.49429810e-03\n",
            "  1.53804762e-03 1.02520974e-02 1.49574742e-03 6.08489940e-03\n",
            "  6.39433075e-03 7.57981676e-03 2.96257790e-03 6.21109815e-04\n",
            "  6.21109815e-04 1.77536023e-02 1.77399695e-02 8.71575620e-04\n",
            "  1.67209953e-04 2.54344078e-03 5.62158780e-03 1.34748898e-02\n",
            "  1.09712676e-02 2.25394853e-03 6.10279923e-05 9.73532339e-03\n",
            "  2.34921380e-02 2.60089833e-04 1.25203764e-01 2.44180132e-03\n",
            "  1.75723796e-03 3.93034656e-04 2.73225127e-02 2.84100506e-03\n",
            "  1.75844800e-02 1.47068253e-03 3.18653298e-02 5.95857050e-03\n",
            "  2.78558144e-03 4.14904870e-04 7.46155983e-03 1.38493987e-02\n",
            "  1.13166200e-03 1.05985537e-02 8.99367826e-03 1.04584759e-03\n",
            "  8.31940006e-03 5.94332176e-04 3.30970453e-03 1.59604003e-04\n",
            "  9.43052638e-04 1.98731465e-03 7.97286345e-04 1.39303975e-04\n",
            "  4.63098341e-04 2.48456675e-03 4.14469611e-05 4.53229376e-04\n",
            "  3.51188107e-04 7.01634393e-04 2.53996619e-04 6.23976269e-04\n",
            "  4.93110238e-03 5.10064147e-04 2.11230587e-04 2.73430863e-05\n",
            "  4.59884899e-03 4.27062687e-02 1.23231068e-02 1.82770654e-03\n",
            "  1.08738355e-03 1.12775117e-03 1.23738075e-03 4.14469611e-05\n",
            "  7.30208744e-05 1.71471420e-03 8.65325674e-05 2.23768790e-03\n",
            "  1.15480931e-02 3.81169785e-04 5.94384274e-03 2.47666031e-05\n",
            "  4.99832576e-03 1.17975039e-02 2.28388543e-04 1.19289067e-04\n",
            "  1.02844047e-02 7.95396403e-04 1.68274347e-03 3.26309958e-03\n",
            "  5.18819706e-03 3.82215630e-04 1.30362245e-04 7.38712884e-05\n",
            "  6.43867422e-04 1.02187139e-04 6.20859611e-03 1.18601945e-02\n",
            "  3.77052137e-04 4.27717866e-04 2.61516402e-03 2.31774304e-04\n",
            "  1.46882741e-04 1.57800379e-03 2.61516402e-03 8.91964815e-04\n",
            "  2.97179081e-02 2.23116238e-04 2.06066318e-04 3.40469204e-04\n",
            "  5.26533919e-05 8.70735650e-03 9.04322959e-04 8.77667250e-04\n",
            "  1.48290971e-04 5.68836705e-03 2.16615408e-04 3.60782485e-04\n",
            "  1.28772782e-04 4.11841176e-03 2.82383307e-04 3.55975176e-04\n",
            "  5.45483213e-03 5.39351550e-04 2.56138510e-04 5.63049387e-05\n",
            "  2.05045575e-03 3.17044496e-02 2.77416680e-05 1.25992563e-04\n",
            "  8.99644765e-05 1.92869810e-05 7.25396489e-05 5.43035012e-04\n",
            "  3.48475553e-04 1.31722326e-03 9.63984874e-04 6.61751327e-05\n",
            "  9.92984878e-05 5.83591396e-03 1.46875830e-02 6.49464899e-03\n",
            "  1.17877470e-03 5.24472665e-04 1.91340647e-03 6.53133788e-05\n",
            "  4.39777181e-05 2.50522651e-04 1.14875264e-04 1.08207666e-04\n",
            "  2.78331966e-03 1.64894653e-03 3.17204860e-03 1.26736954e-02\n",
            "  1.06164991e-03 4.88386530e-04 5.20475351e-02 1.32987489e-03\n",
            "  3.18754802e-04 4.65221363e-04 1.38202487e-03 1.70342226e-03\n",
            "  2.31609283e-03 3.00473642e-04 1.08913784e-02 5.87769656e-02\n",
            "  2.79020908e-03 1.83507035e-04 3.31706706e-03 2.78812772e-04\n",
            "  2.55133401e-03 3.57214839e-04 9.92590448e-04 1.41823970e-04\n",
            "  3.02066892e-04 1.10860732e-04 1.05742130e-04 4.93110238e-03\n",
            "  6.80604302e-05 1.58596918e-04 6.23811705e-03 1.13373409e-03\n",
            "  2.20497030e-03 4.71291923e-04]]\n",
            "CPU times: user 11.5 ms, sys: 699 µs, total: 12.2 ms\n",
            "Wall time: 16.2 ms\n"
          ]
        }
      ]
    },
    {
      "cell_type": "code",
      "source": [
        "%%time\n",
        "print(LRModel.predict(XNew4))\n",
        "print(LRModel.predict_proba(XNew4))"
      ],
      "metadata": {
        "colab": {
          "base_uri": "https://localhost:8080/"
        },
        "id": "PecKWUrW8eGf",
        "outputId": "69a0094b-2759-4a42-8706-3a5eba32dcca"
      },
      "execution_count": 34,
      "outputs": [
        {
          "output_type": "stream",
          "name": "stdout",
          "text": [
            "['Azawakhs']\n",
            "[[2.58467912e-05 3.59588116e-04 6.41743024e-05 3.49250254e-04\n",
            "  3.11737378e-05 3.98065314e-04 1.61240025e-06 5.99441600e-06\n",
            "  2.52334539e-07 8.04005972e-05 6.10130852e-04 5.08036701e-05\n",
            "  1.42600693e-06 5.89117004e-07 7.28721192e-01 1.61172287e-05\n",
            "  2.35494953e-02 1.41480662e-05 3.06196791e-06 2.37075292e-08\n",
            "  1.72282123e-05 1.31828570e-03 3.19330065e-05 3.46094108e-05\n",
            "  3.46094108e-05 5.22261196e-06 9.84684985e-06 1.95965783e-08\n",
            "  1.77847317e-07 9.04232074e-07 1.08011874e-05 1.50761647e-05\n",
            "  8.53873398e-05 4.32503936e-06 9.34334839e-09 3.31957102e-06\n",
            "  1.62408886e-03 1.26704957e-06 1.21342692e-06 3.47403043e-06\n",
            "  1.11256522e-03 1.34342979e-06 2.14430433e-06 6.18828942e-04\n",
            "  1.77224870e-04 1.27399419e-05 5.46603133e-05 3.01160160e-05\n",
            "  5.28902075e-05 5.05025649e-06 4.11883842e-07 9.01150984e-05\n",
            "  7.25653241e-05 1.60608696e-05 5.72886667e-04 1.63287324e-07\n",
            "  1.45813272e-04 1.05717484e-03 3.06147989e-06 3.74123880e-07\n",
            "  3.89552784e-07 2.23810644e-07 5.10646959e-04 1.82473787e-09\n",
            "  5.93398511e-09 1.26745153e-07 1.79698324e-08 2.49617365e-06\n",
            "  4.61905824e-08 1.53140405e-06 1.51695514e-07 2.69655501e-07\n",
            "  2.93868017e-09 3.33213563e-07 7.77493366e-07 3.00211947e-10\n",
            "  9.51309658e-10 3.38491138e-05 3.36738985e-08 2.98404712e-07\n",
            "  2.44834531e-05 1.08764157e-07 1.06582782e-03 1.79698324e-08\n",
            "  4.00203396e-08 5.75782243e-08 1.51162240e-08 1.34226561e-06\n",
            "  7.49109716e-07 1.65034865e-06 8.29534464e-06 1.03152296e-11\n",
            "  1.16566955e-06 3.16478564e-07 1.96601961e-06 1.88807935e-06\n",
            "  1.11813738e-05 1.95945251e-08 1.71148155e-06 5.01397431e-07\n",
            "  1.82404410e-05 2.24918775e-06 4.58525645e-06 2.00399515e-09\n",
            "  1.73861597e-06 6.06076240e-09 2.08236719e-09 2.12096948e-04\n",
            "  3.81561417e-06 8.56208627e-08 1.47402638e-08 5.72499912e-06\n",
            "  5.48347531e-08 1.33542655e-01 1.47402638e-08 1.06747813e-07\n",
            "  2.46729382e-07 1.40828799e-10 1.85630392e-07 1.36341350e-05\n",
            "  8.43782329e-09 2.94372322e-09 3.18477406e-06 5.65701618e-08\n",
            "  8.32722341e-10 7.06717135e-08 6.72850197e-08 5.33250873e-05\n",
            "  1.13728553e-09 1.06291828e-08 2.84433864e-11 2.33705135e-07\n",
            "  1.06870409e-08 1.54949689e-07 1.28869780e-09 5.16230284e-09\n",
            "  2.62800698e-07 2.99664573e-07 5.71588257e-06 2.61463273e-10\n",
            "  4.37996848e-08 3.57077146e-10 5.70875511e-08 5.48972669e-07\n",
            "  2.91140372e-07 7.31513881e-10 2.64611674e-04 5.68571440e-09\n",
            "  2.26960828e-06 6.22143933e-06 3.53218975e-07 3.12405908e-08\n",
            "  5.85538329e-07 2.12895079e-07 3.46731239e-10 3.25540047e-08\n",
            "  6.08781670e-10 4.02570191e-05 7.55168149e-07 3.70443108e-08\n",
            "  1.63701561e-07 5.36795158e-04 9.79927507e-02 5.38087632e-06\n",
            "  4.02989285e-03 2.98013869e-06 9.47260101e-06 3.92214678e-07\n",
            "  2.70191206e-07 2.94639046e-07 1.16720186e-06 4.07386160e-06\n",
            "  2.19824630e-05 2.12257029e-06 4.30579007e-08 3.76494390e-06\n",
            "  4.75090492e-07 4.79414894e-09 1.06576640e-08 9.87732313e-07\n",
            "  8.33716623e-06 4.66933159e-06 1.88712771e-06 9.21905884e-09\n",
            "  2.23895200e-09 8.85749284e-10 7.05070488e-10 2.93868017e-09\n",
            "  7.80867743e-09 2.19851235e-06 2.13262688e-09 2.50685075e-09\n",
            "  7.86784489e-07 1.04596249e-09]]\n",
            "CPU times: user 5.71 ms, sys: 0 ns, total: 5.71 ms\n",
            "Wall time: 5.63 ms\n"
          ]
        }
      ]
    },
    {
      "cell_type": "code",
      "source": [
        "%%time\n",
        "print(LRModel.predict(XNew5))\n",
        "print(LRModel.predict_proba(XNew5))"
      ],
      "metadata": {
        "colab": {
          "base_uri": "https://localhost:8080/"
        },
        "id": "0rKxChfk8ej2",
        "outputId": "e4bb7ff1-d911-412a-cf8d-3963af4805b8"
      },
      "execution_count": 35,
      "outputs": [
        {
          "output_type": "stream",
          "name": "stdout",
          "text": [
            "['AfghanHounds']\n",
            "[[2.79416994e-02 2.86599525e-01 4.79957731e-03 2.23336396e-04\n",
            "  7.64055897e-04 1.26768813e-03 5.52416937e-05 5.49715775e-05\n",
            "  5.07714134e-06 1.94735880e-05 8.88418931e-04 3.64234591e-04\n",
            "  3.10222864e-04 4.21570369e-04 1.48426746e-03 1.72481740e-03\n",
            "  3.27253065e-03 1.81541183e-02 1.27114272e-03 9.17712816e-03\n",
            "  2.94646300e-03 1.86338591e-02 3.79498839e-04 2.57341094e-04\n",
            "  2.57341094e-04 5.46580053e-03 1.45761664e-03 7.03926303e-04\n",
            "  4.04916878e-03 8.41394788e-03 1.19500171e-03 6.80496291e-03\n",
            "  1.86996161e-02 7.49318118e-05 1.30037673e-04 4.36173183e-04\n",
            "  7.13122487e-02 3.50428699e-04 7.65236670e-02 4.20187562e-03\n",
            "  4.45243185e-02 1.69009692e-03 2.91680807e-03 1.66499575e-03\n",
            "  9.91638051e-02 6.70832793e-04 3.52405535e-03 1.26219306e-04\n",
            "  3.49938625e-04 2.70044634e-04 1.37942035e-03 1.12209676e-03\n",
            "  1.48292365e-04 1.22180415e-03 4.27804525e-04 3.97759320e-05\n",
            "  5.79833968e-03 1.28612908e-04 1.94880682e-04 1.10320068e-03\n",
            "  1.44656056e-04 4.43731358e-04 9.87430373e-04 1.27759341e-06\n",
            "  3.89166202e-05 1.07809597e-04 3.58401522e-06 6.46419322e-04\n",
            "  8.64959847e-05 1.54325153e-05 8.35342625e-05 1.57112496e-05\n",
            "  1.77530376e-03 1.31105241e-04 1.06938429e-05 1.53907774e-06\n",
            "  1.92135555e-03 1.94878087e-02 1.99660082e-02 7.41694443e-04\n",
            "  4.01105825e-04 9.35474059e-04 1.66346298e-04 3.58401522e-06\n",
            "  6.50723622e-05 7.50785302e-04 6.29687335e-06 1.15455466e-05\n",
            "  1.82610601e-03 5.82610111e-05 1.31969388e-03 2.27913791e-05\n",
            "  1.41138936e-03 1.59266686e-03 4.00833007e-06 2.17315197e-03\n",
            "  1.13935029e-03 6.08474837e-04 1.99457663e-04 8.30302971e-05\n",
            "  5.54354101e-03 1.12871694e-05 6.94894144e-06 3.49823945e-04\n",
            "  6.56984700e-05 1.09690039e-05 1.59481798e-04 9.11129839e-03\n",
            "  1.41337194e-04 9.60826372e-04 9.91549532e-05 3.63814628e-05\n",
            "  7.46730593e-05 6.77855697e-04 9.91549532e-05 1.53485743e-03\n",
            "  1.38702219e-03 7.19154813e-06 3.51591031e-04 4.32826719e-04\n",
            "  7.36314546e-06 2.35698513e-03 4.43854705e-04 7.51406712e-04\n",
            "  5.17259177e-05 3.11209689e-03 2.52290777e-04 1.27518797e-04\n",
            "  2.61490915e-04 5.08262932e-04 1.68987723e-03 4.19987757e-05\n",
            "  3.39291478e-03 6.78323989e-04 1.23337550e-04 1.12689807e-05\n",
            "  2.98951641e-04 3.77077570e-03 3.97912380e-07 1.37195435e-04\n",
            "  4.11643550e-05 1.15653966e-05 9.20075728e-05 8.38119731e-06\n",
            "  4.81046423e-05 1.63755285e-03 7.15062761e-04 5.13098702e-05\n",
            "  1.55686600e-06 8.47255615e-04 2.01065352e-03 1.81475455e-04\n",
            "  6.43385255e-03 5.52998610e-04 1.36866249e-02 2.65500721e-05\n",
            "  4.52556218e-06 6.15916493e-05 6.65169006e-05 2.14666537e-04\n",
            "  4.91974622e-04 1.70265126e-03 3.06678199e-04 1.56860918e-02\n",
            "  1.26314439e-03 6.94585672e-04 4.52819058e-02 8.39927311e-03\n",
            "  2.87010000e-04 1.48287930e-03 3.18349517e-05 4.52456396e-03\n",
            "  2.76198886e-03 1.25590590e-05 1.91932242e-02 1.36903289e-02\n",
            "  5.74085139e-04 1.11734588e-05 5.99565576e-04 1.80515269e-05\n",
            "  1.03129590e-03 4.60800609e-05 3.12161270e-03 1.11036868e-05\n",
            "  5.25406646e-05 5.13989410e-05 1.42272395e-05 1.77530376e-03\n",
            "  2.51190395e-05 1.07128447e-04 3.27825991e-03 1.08523470e-04\n",
            "  1.19036736e-04 5.23976450e-04]]\n",
            "CPU times: user 4.39 ms, sys: 860 µs, total: 5.25 ms\n",
            "Wall time: 5.15 ms\n"
          ]
        }
      ]
    },
    {
      "cell_type": "code",
      "source": [
        "%%time\n",
        "#Using Gaussian Naive Bayes\n",
        "\n",
        "GNBModel = GaussianNB()\n",
        "GNBModel.fit(traits_X, traits_y)\n",
        "\n",
        "print(GNBModel.score(traits_X, traits_y))\n",
        "print(GNBModel.predict(XNew))\n",
        "print(GNBModel.predict_proba(XNew))"
      ],
      "metadata": {
        "colab": {
          "base_uri": "https://localhost:8080/"
        },
        "id": "EjaZHAy0E8wc",
        "outputId": "8f18182e-5440-42da-c4d8-8794ac19c185"
      },
      "execution_count": 27,
      "outputs": [
        {
          "output_type": "stream",
          "name": "stdout",
          "text": [
            "0.979381443298969\n",
            "['Leonbergers']\n",
            "[[0. 0. 0. 0. 0. 0. 0. 0. 0. 0. 0. 0. 0. 0. 0. 0. 0. 0. 0. 0. 0. 0. 0. 0.\n",
            "  0. 0. 0. 0. 0. 0. 0. 0. 0. 0. 0. 0. 0. 0. 0. 0. 0. 0. 0. 0. 0. 0. 0. 0.\n",
            "  0. 0. 0. 0. 0. 0. 0. 0. 0. 0. 0. 0. 0. 0. 0. 0. 0. 0. 0. 0. 0. 0. 0. 0.\n",
            "  0. 0. 0. 0. 0. 0. 0. 0. 0. 0. 0. 0. 0. 0. 0. 0. 0. 0. 0. 0. 0. 0. 0. 0.\n",
            "  0. 1. 0. 0. 0. 0. 0. 0. 0. 0. 0. 0. 0. 0. 0. 0. 0. 0. 0. 0. 0. 0. 0. 0.\n",
            "  0. 0. 0. 0. 0. 0. 0. 0. 0. 0. 0. 0. 0. 0. 0. 0. 0. 0. 0. 0. 0. 0. 0. 0.\n",
            "  0. 0. 0. 0. 0. 0. 0. 0. 0. 0. 0. 0. 0. 0. 0. 0. 0. 0. 0. 0. 0. 0. 0. 0.\n",
            "  0. 0. 0. 0. 0. 0. 0. 0. 0. 0. 0. 0. 0. 0. 0. 0. 0. 0. 0. 0. 0. 0. 0. 0.\n",
            "  0. 0.]]\n",
            "CPU times: user 52.7 ms, sys: 4.6 ms, total: 57.3 ms\n",
            "Wall time: 56.4 ms\n"
          ]
        }
      ]
    },
    {
      "cell_type": "code",
      "source": [
        "%%time\n",
        "print(GNBModel.predict(XNew2))\n",
        "print(GNBModel.predict_proba(XNew2))"
      ],
      "metadata": {
        "colab": {
          "base_uri": "https://localhost:8080/"
        },
        "id": "3Yi9IVoV85bF",
        "outputId": "5537d702-a4c9-4346-f44d-73a04f84ee75"
      },
      "execution_count": 36,
      "outputs": [
        {
          "output_type": "stream",
          "name": "stdout",
          "text": [
            "['BouviersdesFlandres']\n",
            "[[0. 0. 0. 0. 0. 0. 0. 0. 0. 0. 0. 0. 0. 0. 0. 0. 0. 0. 0. 0. 0. 0. 0. 0.\n",
            "  0. 0. 0. 0. 0. 0. 0. 0. 0. 0. 0. 0. 0. 0. 1. 0. 0. 0. 0. 0. 0. 0. 0. 0.\n",
            "  0. 0. 0. 0. 0. 0. 0. 0. 0. 0. 0. 0. 0. 0. 0. 0. 0. 0. 0. 0. 0. 0. 0. 0.\n",
            "  0. 0. 0. 0. 0. 0. 0. 0. 0. 0. 0. 0. 0. 0. 0. 0. 0. 0. 0. 0. 0. 0. 0. 0.\n",
            "  0. 0. 0. 0. 0. 0. 0. 0. 0. 0. 0. 0. 0. 0. 0. 0. 0. 0. 0. 0. 0. 0. 0. 0.\n",
            "  0. 0. 0. 0. 0. 0. 0. 0. 0. 0. 0. 0. 0. 0. 0. 0. 0. 0. 0. 0. 0. 0. 0. 0.\n",
            "  0. 0. 0. 0. 0. 0. 0. 0. 0. 0. 0. 0. 0. 0. 0. 0. 0. 0. 0. 0. 0. 0. 0. 0.\n",
            "  0. 0. 0. 0. 0. 0. 0. 0. 0. 0. 0. 0. 0. 0. 0. 0. 0. 0. 0. 0. 0. 0. 0. 0.\n",
            "  0. 0.]]\n",
            "CPU times: user 29.3 ms, sys: 0 ns, total: 29.3 ms\n",
            "Wall time: 132 ms\n"
          ]
        }
      ]
    },
    {
      "cell_type": "code",
      "source": [
        "%%time\n",
        "print(GNBModel.predict(XNew3))\n",
        "print(GNBModel.predict_proba(XNew3))"
      ],
      "metadata": {
        "colab": {
          "base_uri": "https://localhost:8080/"
        },
        "id": "c6OHZBxV87sx",
        "outputId": "b46f7012-edd5-411f-da82-5570b8a67ee1"
      },
      "execution_count": 37,
      "outputs": [
        {
          "output_type": "stream",
          "name": "stdout",
          "text": [
            "['GlenofImaalTerriers']\n",
            "[[0.         0.         0.         0.         0.         0.\n",
            "  0.         0.         0.         0.         0.         0.\n",
            "  0.         0.         0.         0.         0.         0.\n",
            "  0.         0.         0.         0.         0.         0.\n",
            "  0.         0.         0.         0.         0.         0.\n",
            "  0.         0.         0.         0.         0.         0.\n",
            "  0.         0.         0.         0.         0.         0.\n",
            "  0.         0.         0.         0.         0.         0.\n",
            "  0.         0.         0.         0.         0.         0.\n",
            "  0.         0.         0.         0.         0.         0.\n",
            "  0.         0.         0.         0.         0.         0.\n",
            "  0.         0.         0.         0.         0.         0.\n",
            "  0.         0.         0.         0.         0.         0.50000006\n",
            "  0.         0.         0.         0.         0.         0.\n",
            "  0.         0.         0.         0.         0.         0.\n",
            "  0.         0.         0.         0.         0.         0.\n",
            "  0.         0.         0.         0.         0.         0.\n",
            "  0.         0.         0.         0.         0.         0.\n",
            "  0.         0.         0.         0.         0.         0.\n",
            "  0.         0.         0.         0.         0.         0.\n",
            "  0.         0.         0.         0.         0.         0.\n",
            "  0.         0.         0.         0.         0.         0.\n",
            "  0.         0.         0.         0.         0.         0.\n",
            "  0.         0.         0.         0.         0.         0.\n",
            "  0.         0.         0.         0.         0.         0.\n",
            "  0.         0.         0.         0.         0.         0.\n",
            "  0.         0.         0.         0.         0.         0.\n",
            "  0.         0.         0.         0.         0.         0.\n",
            "  0.         0.         0.         0.         0.         0.\n",
            "  0.         0.5        0.         0.         0.         0.\n",
            "  0.         0.         0.         0.         0.         0.\n",
            "  0.         0.         0.         0.         0.         0.\n",
            "  0.         0.        ]]\n",
            "CPU times: user 27.1 ms, sys: 336 µs, total: 27.4 ms\n",
            "Wall time: 69.5 ms\n"
          ]
        }
      ]
    },
    {
      "cell_type": "code",
      "source": [
        "%%time\n",
        "print(GNBModel.predict(XNew4))\n",
        "print(GNBModel.predict_proba(XNew4))"
      ],
      "metadata": {
        "colab": {
          "base_uri": "https://localhost:8080/"
        },
        "id": "wNi0TCW98-bM",
        "outputId": "aa10e485-fd23-490c-f5e0-72687716ba21"
      },
      "execution_count": 38,
      "outputs": [
        {
          "output_type": "stream",
          "name": "stdout",
          "text": [
            "['Azawakhs']\n",
            "[[0. 0. 0. 0. 0. 0. 0. 0. 0. 0. 0. 0. 0. 0. 1. 0. 0. 0. 0. 0. 0. 0. 0. 0.\n",
            "  0. 0. 0. 0. 0. 0. 0. 0. 0. 0. 0. 0. 0. 0. 0. 0. 0. 0. 0. 0. 0. 0. 0. 0.\n",
            "  0. 0. 0. 0. 0. 0. 0. 0. 0. 0. 0. 0. 0. 0. 0. 0. 0. 0. 0. 0. 0. 0. 0. 0.\n",
            "  0. 0. 0. 0. 0. 0. 0. 0. 0. 0. 0. 0. 0. 0. 0. 0. 0. 0. 0. 0. 0. 0. 0. 0.\n",
            "  0. 0. 0. 0. 0. 0. 0. 0. 0. 0. 0. 0. 0. 0. 0. 0. 0. 0. 0. 0. 0. 0. 0. 0.\n",
            "  0. 0. 0. 0. 0. 0. 0. 0. 0. 0. 0. 0. 0. 0. 0. 0. 0. 0. 0. 0. 0. 0. 0. 0.\n",
            "  0. 0. 0. 0. 0. 0. 0. 0. 0. 0. 0. 0. 0. 0. 0. 0. 0. 0. 0. 0. 0. 0. 0. 0.\n",
            "  0. 0. 0. 0. 0. 0. 0. 0. 0. 0. 0. 0. 0. 0. 0. 0. 0. 0. 0. 0. 0. 0. 0. 0.\n",
            "  0. 0.]]\n",
            "CPU times: user 19.1 ms, sys: 0 ns, total: 19.1 ms\n",
            "Wall time: 19.3 ms\n"
          ]
        }
      ]
    },
    {
      "cell_type": "code",
      "source": [
        "%%time\n",
        "print(GNBModel.predict(XNew5))\n",
        "print(GNBModel.predict_proba(XNew5))"
      ],
      "metadata": {
        "colab": {
          "base_uri": "https://localhost:8080/"
        },
        "id": "V_7PX-af8-zO",
        "outputId": "0e77f7d6-b3a1-40e4-a85f-240166bca324"
      },
      "execution_count": 39,
      "outputs": [
        {
          "output_type": "stream",
          "name": "stdout",
          "text": [
            "['AfghanHounds']\n",
            "[[0. 1. 0. 0. 0. 0. 0. 0. 0. 0. 0. 0. 0. 0. 0. 0. 0. 0. 0. 0. 0. 0. 0. 0.\n",
            "  0. 0. 0. 0. 0. 0. 0. 0. 0. 0. 0. 0. 0. 0. 0. 0. 0. 0. 0. 0. 0. 0. 0. 0.\n",
            "  0. 0. 0. 0. 0. 0. 0. 0. 0. 0. 0. 0. 0. 0. 0. 0. 0. 0. 0. 0. 0. 0. 0. 0.\n",
            "  0. 0. 0. 0. 0. 0. 0. 0. 0. 0. 0. 0. 0. 0. 0. 0. 0. 0. 0. 0. 0. 0. 0. 0.\n",
            "  0. 0. 0. 0. 0. 0. 0. 0. 0. 0. 0. 0. 0. 0. 0. 0. 0. 0. 0. 0. 0. 0. 0. 0.\n",
            "  0. 0. 0. 0. 0. 0. 0. 0. 0. 0. 0. 0. 0. 0. 0. 0. 0. 0. 0. 0. 0. 0. 0. 0.\n",
            "  0. 0. 0. 0. 0. 0. 0. 0. 0. 0. 0. 0. 0. 0. 0. 0. 0. 0. 0. 0. 0. 0. 0. 0.\n",
            "  0. 0. 0. 0. 0. 0. 0. 0. 0. 0. 0. 0. 0. 0. 0. 0. 0. 0. 0. 0. 0. 0. 0. 0.\n",
            "  0. 0.]]\n",
            "CPU times: user 19 ms, sys: 0 ns, total: 19 ms\n",
            "Wall time: 18.7 ms\n"
          ]
        }
      ]
    }
  ]
}