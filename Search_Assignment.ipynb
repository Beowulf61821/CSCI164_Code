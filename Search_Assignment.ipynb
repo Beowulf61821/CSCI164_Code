{
  "nbformat": 4,
  "nbformat_minor": 0,
  "metadata": {
    "colab": {
      "provenance": [],
      "include_colab_link": true
    },
    "kernelspec": {
      "name": "python3",
      "display_name": "Python 3"
    }
  },
  "cells": [
    {
      "cell_type": "markdown",
      "metadata": {
        "id": "view-in-github",
        "colab_type": "text"
      },
      "source": [
        "<a href=\"https://colab.research.google.com/github/Beowulf61821/CSCI164_Code/blob/main/Search_Assignment.ipynb\" target=\"_parent\"><img src=\"https://colab.research.google.com/assets/colab-badge.svg\" alt=\"Open In Colab\"/></a>"
      ]
    },
    {
      "cell_type": "code",
      "metadata": {
        "id": "Gbe5KqWcISTq"
      },
      "source": [
        "#imports\n",
        "import random\n",
        "import heapq"
      ],
      "execution_count": null,
      "outputs": []
    },
    {
      "cell_type": "markdown",
      "metadata": {
        "id": "PHnbnN2uV8zr"
      },
      "source": [
        "# Tile Sliding Domain: Initial State Space"
      ]
    },
    {
      "cell_type": "code",
      "metadata": {
        "id": "jPCNOa4W-5yq"
      },
      "source": [
        "#3x3 dimension for 3x3 puzzles\n",
        "StateDimension=3\n",
        "InitialState = [1,2,3,4,5,6,0,7,8]\n",
        "GoalState=[1,2,3,4,5,6,7,8,0]\n",
        "Actions = lambda s: ['u', 'd', 'l', 'r']\n",
        "Opposite=dict([('u','d'),('d','u'),('l','r'),('r','l'), (None, None)])"
      ],
      "execution_count": null,
      "outputs": []
    },
    {
      "cell_type": "code",
      "metadata": {
        "id": "XjnzkkC8_HE8"
      },
      "source": [
        "def Result(state, action):\n",
        "  i = state.index(0)\n",
        "  newState = list(state)\n",
        "  row,col=i//StateDimension, i % StateDimension\n",
        "  if ( (action=='u' and row==0) or\n",
        "       (action=='d' and row==StateDimension-1) or\n",
        "       (action=='l' and col==0) or\n",
        "       (action=='r' and col==StateDimension-1)):\n",
        "      return newState\n",
        "  if action=='u':\n",
        "    l,r = row*StateDimension+col, (row-1)*StateDimension+col\n",
        "  elif action=='d':\n",
        "    l,r = row*StateDimension+col, (row+1)*StateDimension+col\n",
        "  elif action=='l':\n",
        "    l,r = row*StateDimension+col, row*StateDimension+col-1\n",
        "  elif action=='r' :\n",
        "    l,r = row*StateDimension+col, row*StateDimension+col+1\n",
        "  newState[l], newState[r] = newState[r], newState[l]\n",
        "  return newState\n",
        "\n",
        "def PrintState(s):\n",
        "  for i in range(0,len(s),StateDimension):\n",
        "    print(s[i:i+StateDimension])\n",
        "\n",
        "def LegalMove(state, action):\n",
        "  i = state.index(0)\n",
        "  row,col=i//StateDimension, i % StateDimension\n",
        "  newState = state.copy()\n",
        "  if ( (action=='u' and row==0) or\n",
        "       (action=='d' and row==StateDimension-1) or\n",
        "       (action=='l' and col==0) or\n",
        "       (action=='r' and col==StateDimension-1)):\n",
        "      return False\n",
        "  return True\n"
      ],
      "execution_count": null,
      "outputs": []
    },
    {
      "cell_type": "code",
      "metadata": {
        "id": "4z6hE5HsNwHf"
      },
      "source": [
        "def SingleTileManhattanDistance(tile, left, right):\n",
        "  leftIndex = left.index(tile)\n",
        "  rightIndex = right.index(tile)\n",
        "  return (abs(leftIndex//StateDimension-rightIndex//StateDimension) +\n",
        "          abs(leftIndex%StateDimension-rightIndex%StateDimension))\n",
        "\n",
        "def ManhattanDistance(left, right):\n",
        "  distances = [SingleTileManhattanDistance(tile, left, right)\n",
        "     for tile in range(1, StateDimension**2)]\n",
        "  ###print (\"Distances= \", distances)\n",
        "  return sum(distances)\n"
      ],
      "execution_count": null,
      "outputs": []
    },
    {
      "cell_type": "code",
      "metadata": {
        "id": "7PE_gAdLSY_z"
      },
      "source": [
        "def OutOfPlace(left, right):\n",
        "  distances = [left[i]!=right[i] and right[i] != 0\n",
        "     for i in range(StateDimension**2)]\n",
        "  return sum(distances)"
      ],
      "execution_count": null,
      "outputs": []
    },
    {
      "cell_type": "code",
      "metadata": {
        "colab": {
          "base_uri": "https://localhost:8080/"
        },
        "id": "bE7MrTAI_t6i",
        "outputId": "4c873630-d0f8-4942-ed50-df88b0d4e5cf"
      },
      "source": [
        "PrintState(InitialState)"
      ],
      "execution_count": null,
      "outputs": [
        {
          "output_type": "stream",
          "name": "stdout",
          "text": [
            "[1, 2, 3]\n",
            "[4, 5, 6]\n",
            "[0, 7, 8]\n"
          ]
        }
      ]
    },
    {
      "cell_type": "code",
      "metadata": {
        "colab": {
          "base_uri": "https://localhost:8080/"
        },
        "id": "wRULKFeXVcp3",
        "outputId": "b0f7564a-0c7f-458d-febc-06f8a6e0de8a"
      },
      "source": [
        "PrintState(GoalState)"
      ],
      "execution_count": null,
      "outputs": [
        {
          "output_type": "stream",
          "name": "stdout",
          "text": [
            "[1, 2, 3]\n",
            "[4, 5, 6]\n",
            "[7, 8, 0]\n"
          ]
        }
      ]
    },
    {
      "cell_type": "code",
      "metadata": {
        "colab": {
          "base_uri": "https://localhost:8080/"
        },
        "id": "Ke12RA7cPaS9",
        "outputId": "a72953cc-ea77-4016-fc5b-b6c24d68fd95"
      },
      "source": [
        "print(\"ManhattanDistance=  \", ManhattanDistance(InitialState, GoalState))\n",
        "print(\"OutOfPlace= \", OutOfPlace(InitialState, GoalState))\n"
      ],
      "execution_count": null,
      "outputs": [
        {
          "output_type": "stream",
          "name": "stdout",
          "text": [
            "ManhattanDistance=   2\n",
            "OutOfPlace=  2\n"
          ]
        }
      ]
    },
    {
      "cell_type": "code",
      "metadata": {
        "colab": {
          "base_uri": "https://localhost:8080/"
        },
        "id": "j-EYW_gqGZtl",
        "outputId": "77ee730d-d613-4edc-e2c1-d5c2d6e9cd17"
      },
      "source": [
        "PrintState(InitialState)\n",
        "print()\n",
        "state1 = Result(InitialState, 'u')\n",
        "PrintState(state1)\n",
        "print()\n",
        "state1 = Result(state1, 'r')\n",
        "PrintState(state1)"
      ],
      "execution_count": null,
      "outputs": [
        {
          "output_type": "stream",
          "name": "stdout",
          "text": [
            "[1, 2, 3]\n",
            "[4, 5, 6]\n",
            "[0, 7, 8]\n",
            "\n",
            "[1, 2, 3]\n",
            "[0, 5, 6]\n",
            "[4, 7, 8]\n",
            "\n",
            "[1, 2, 3]\n",
            "[5, 0, 6]\n",
            "[4, 7, 8]\n"
          ]
        }
      ]
    },
    {
      "cell_type": "markdown",
      "metadata": {
        "id": "Mp0tnomdTFoC"
      },
      "source": [
        "# Random Walk\n",
        "\n",
        "Take some random moves from a state and return the new state and the sequence of moves.\n",
        "\n",
        "Do not include moves undoing last move, or having no effect."
      ]
    },
    {
      "cell_type": "code",
      "metadata": {
        "id": "1RVh0-S9IFiy"
      },
      "source": [
        "def RandomWalk(state, steps):\n",
        "  actionSequence = []\n",
        "  actionLast = None\n",
        "  for i in range(steps):\n",
        "    action = None\n",
        "    while action==None:\n",
        "      action = random.choice(Actions(state))\n",
        "      action = action if (LegalMove(state, action)\n",
        "          and action!= Opposite[actionLast]) else None\n",
        "    actionLast = action\n",
        "    state = Result(state, action)\n",
        "    actionSequence.append(action)\n",
        "  return state, actionSequence\n",
        "\n"
      ],
      "execution_count": null,
      "outputs": []
    },
    {
      "cell_type": "code",
      "metadata": {
        "id": "wcn5POkxKlER",
        "colab": {
          "base_uri": "https://localhost:8080/"
        },
        "outputId": "caffc9d1-2913-47b0-f42a-29377f7fa07b"
      },
      "source": [
        "state1, sol = RandomWalk(InitialState, 15)\n",
        "PrintState(state1)\n",
        "print (ManhattanDistance(state1, GoalState), sol)\n",
        "\n",
        "state1, sol = RandomWalk(InitialState, 5)\n",
        "PrintState(InitialState)\n",
        "print (sol)\n",
        "PrintState(state1)"
      ],
      "execution_count": null,
      "outputs": [
        {
          "output_type": "stream",
          "name": "stdout",
          "text": [
            "[5, 3, 8]\n",
            "[0, 2, 1]\n",
            "[4, 6, 7]\n",
            "15 ['u', 'r', 'u', 'l', 'd', 'r', 'r', 'd', 'l', 'u', 'u', 'r', 'd', 'l', 'l']\n",
            "[1, 2, 3]\n",
            "[4, 5, 6]\n",
            "[0, 7, 8]\n",
            "['u', 'u', 'r', 'd', 'r']\n",
            "[2, 5, 3]\n",
            "[1, 6, 0]\n",
            "[4, 7, 8]\n"
          ]
        }
      ]
    },
    {
      "cell_type": "code",
      "metadata": {
        "id": "Rc_8ohYvNIq-"
      },
      "source": [
        "# this function applies users moves to the puzzle\n",
        "def ApplyMoves(actions, state):\n",
        "  for action in actions:\n",
        "    state = Result(state, action)\n",
        "  return state"
      ],
      "execution_count": null,
      "outputs": []
    },
    {
      "cell_type": "code",
      "metadata": {
        "colab": {
          "base_uri": "https://localhost:8080/"
        },
        "id": "Wv7MGqh8NXqy",
        "outputId": "0ed11a9e-c91d-4483-ee9b-0b204d6d16ec"
      },
      "source": [
        "PrintState(InitialState)\n",
        "print(['r','r'])\n",
        "PrintState(ApplyMoves(['r','r'],InitialState))"
      ],
      "execution_count": null,
      "outputs": [
        {
          "output_type": "stream",
          "name": "stdout",
          "text": [
            "[1, 2, 3]\n",
            "[4, 5, 6]\n",
            "[0, 7, 8]\n",
            "['r', 'r']\n",
            "[1, 2, 3]\n",
            "[4, 5, 6]\n",
            "[7, 8, 0]\n"
          ]
        }
      ]
    },
    {
      "cell_type": "code",
      "metadata": {
        "id": "_VS2KzQbOHlO"
      },
      "source": [
        "def ReverseMoves(actions):\n",
        "  ret = [Opposite[a] for a in actions]\n",
        "  ret.reverse()\n",
        "  return ret"
      ],
      "execution_count": null,
      "outputs": []
    },
    {
      "cell_type": "code",
      "metadata": {
        "colab": {
          "base_uri": "https://localhost:8080/"
        },
        "id": "tp_pqYBXOsqS",
        "outputId": "4c5c9f36-26ac-4f86-91d7-098529bd00c5"
      },
      "source": [
        "state1, sol = RandomWalk(GoalState, 5)\n",
        "PrintState(state1)\n",
        "print (sol)\n",
        "print(ReverseMoves(sol))\n",
        "PrintState (ApplyMoves(ReverseMoves(sol), state1))\n"
      ],
      "execution_count": null,
      "outputs": [
        {
          "output_type": "stream",
          "name": "stdout",
          "text": [
            "[1, 2, 3]\n",
            "[5, 6, 0]\n",
            "[4, 7, 8]\n",
            "['l', 'l', 'u', 'r', 'r']\n",
            "['l', 'l', 'd', 'r', 'r']\n",
            "[1, 2, 3]\n",
            "[4, 5, 6]\n",
            "[7, 8, 0]\n"
          ]
        }
      ]
    },
    {
      "cell_type": "markdown",
      "metadata": {
        "id": "8ABBDMJLROdo"
      },
      "source": [
        "## Problem Class\n",
        "\n",
        "INITIAL = InitialState  \n",
        "IsGoal = Goal Test  \n",
        "Actions = Actions List  \n",
        "Result = Action Behavior  \n",
        "ActionCost = Action Cost  "
      ]
    },
    {
      "cell_type": "code",
      "metadata": {
        "id": "fo6sq7myRQpE"
      },
      "source": [
        "class Problem(object): pass"
      ],
      "execution_count": null,
      "outputs": []
    },
    {
      "cell_type": "markdown",
      "metadata": {
        "id": "aAHXlWteQ2LN"
      },
      "source": [
        "## Node"
      ]
    },
    {
      "cell_type": "code",
      "metadata": {
        "id": "URRYlfS9Q3vx"
      },
      "source": [
        "class Node(object):\n",
        "  def __init__(self, state, parent=None, action=None, path_cost=0 ):\n",
        "    self.State=state\n",
        "    self.Parent=parent\n",
        "    self.Action=action\n",
        "    self.PathCost = path_cost\n",
        "\n",
        "  def __str__(self):\n",
        "    action = \"<none>\" if not self.Action else self.Action\n",
        "    return str(self.State) + \", \" + action\n",
        "  def __repr__(self):\n",
        "    action = \"<none>\" if not self.Action else self.Action\n",
        "    return str(self.State) + \", \" + action\n",
        "  def __lt__(self, other):\n",
        "    return self.PathCost < other.PathCost;"
      ],
      "execution_count": null,
      "outputs": []
    },
    {
      "cell_type": "markdown",
      "metadata": {
        "id": "LpzKnx4rkxL9"
      },
      "source": [
        "## Expand"
      ]
    },
    {
      "cell_type": "code",
      "metadata": {
        "id": "CRj9UnyHdDo_"
      },
      "source": [
        "def Expand(problem, node):\n",
        "  ret = []\n",
        "  s = node.State\n",
        "  for action in problem.Actions(s):\n",
        "    sPrime = problem.Result(s, action)\n",
        "    cost =node.PathCost + problem.ActionCost(s,action,sPrime)\n",
        "    ret.append(Node(sPrime, node, action, cost))\n",
        "  return ret\n"
      ],
      "execution_count": null,
      "outputs": []
    },
    {
      "cell_type": "markdown",
      "metadata": {
        "id": "Ee2ZYxjVlBSl"
      },
      "source": [
        "## Breadth-First Search"
      ]
    },
    {
      "cell_type": "code",
      "metadata": {
        "id": "DZoCxoGzkt4E"
      },
      "source": [
        "def BreadthFirstSearch(problem):\n",
        "  node = Node(tuple(problem.INITIAL))\n",
        "  if problem.IsGoal(node.State):\n",
        "    return node, 0\n",
        "  Frontier = []\n",
        "  Frontier.append(node)\n",
        "  reached = set()\n",
        "  reached.add(tuple(problem.INITIAL))\n",
        "  nodesExpanded = 0\n",
        "  while (Frontier):\n",
        "    ### print([str(n) for n in Frontier])\n",
        "    node = Frontier.pop(0)\n",
        "    ### print(node)\n",
        "    for child in Expand(problem, node):\n",
        "      s = tuple(child.State)\n",
        "      ### print (s, \"IsGoal=\", problem.IsGoal(s))\n",
        "      if problem.IsGoal(s):\n",
        "        return child, nodesExpanded\n",
        "      if s not in reached:\n",
        "        reached.add(s)\n",
        "        Frontier.append(child)\n",
        "    nodesExpanded += 1\n",
        "    if nodesExpanded > 500000:\n",
        "      break;\n",
        "  return None, nodesExpanded"
      ],
      "execution_count": null,
      "outputs": []
    },
    {
      "cell_type": "markdown",
      "metadata": {
        "id": "AoX48XG6lFOf"
      },
      "source": [
        "## Best-First Search"
      ]
    },
    {
      "cell_type": "code",
      "metadata": {
        "id": "lUIAdr_qa1KT"
      },
      "source": [
        "def BestFirstSearch(problem, f):\n",
        "  node = Node(tuple(problem.INITIAL))\n",
        "  Frontier = []\n",
        "  heapq.heappush(Frontier,(f(node), node))\n",
        "  reached = {}\n",
        "  reached[tuple(problem.INITIAL)]=node\n",
        "  nodesExpanded = 0\n",
        "  while (Frontier):\n",
        "    ##print([(x, str(n)) for (x,n) in Frontier])\n",
        "    fValue, node = heapq.heappop(Frontier)\n",
        "    ##print (node.State, \"IsGoal=\", problem.IsGoal(tuple(node.State)))\n",
        "    if problem.IsGoal(tuple(node.State)):\n",
        "      return node, nodesExpanded    ### print(node)\n",
        "    for child in Expand(problem, node):\n",
        "      s = tuple(child.State)\n",
        "      if s not in reached or child.PathCost < reached[s].PathCost:\n",
        "        reached[s] = child\n",
        "        heapq.heappush(Frontier, (f(child), child))\n",
        "    nodesExpanded += 1\n",
        "    if nodesExpanded > 500000:\n",
        "      break;\n",
        "  return None, nodesExpanded"
      ],
      "execution_count": null,
      "outputs": []
    },
    {
      "cell_type": "markdown",
      "metadata": {
        "id": "kRjolRYslOa4"
      },
      "source": [
        "## Problem 1"
      ]
    },
    {
      "cell_type": "code",
      "metadata": {
        "colab": {
          "base_uri": "https://localhost:8080/"
        },
        "id": "dLWDIbmsRGY3",
        "outputId": "19b0b8a3-1400-4f78-970a-1570685697c2"
      },
      "source": [
        "TileSliding = Problem()\n",
        "TileSliding.INITIAL = InitialState\n",
        "TileSliding.IsGoal = lambda s: s==(1,2,3,4,5,6,7,8,0)\n",
        "TileSliding.Actions = Actions\n",
        "TileSliding.Result=Result\n",
        "TileSliding.ActionCost = lambda s, a, sPrime: 1\n",
        "print( TileSliding.IsGoal((1,2,3,4,5,6,7,8,0)) )\n",
        "print( Node(InitialState) )\n",
        "print(1+TileSliding.ActionCost(1,2,3))"
      ],
      "execution_count": null,
      "outputs": [
        {
          "output_type": "stream",
          "name": "stdout",
          "text": [
            "True\n",
            "[1, 2, 3, 4, 5, 6, 0, 7, 8], <none>\n",
            "2\n"
          ]
        }
      ]
    },
    {
      "cell_type": "code",
      "metadata": {
        "colab": {
          "base_uri": "https://localhost:8080/"
        },
        "id": "6VoIEO4c1gHz",
        "outputId": "9683ce60-820c-498a-c0da-b6997871bd7c"
      },
      "source": [
        "TileSliding.INITIAL = [1,2,3,4,5,0,6,7,8]\n",
        "ret, cost = BreadthFirstSearch(TileSliding)\n",
        "print (ret, cost)"
      ],
      "execution_count": null,
      "outputs": [
        {
          "output_type": "stream",
          "name": "stdout",
          "text": [
            "[1, 2, 3, 4, 5, 6, 7, 8, 0], r 1664\n"
          ]
        }
      ]
    },
    {
      "cell_type": "code",
      "metadata": {
        "id": "3hsBKY7Fle3w"
      },
      "source": [
        "#provides solution\n",
        "#I added the if node ==None then return empty list since some 4x4 puzzles will go over iteration limit and will provide an empty list\n",
        "def Solution(node):\n",
        "  if node==None:\n",
        "    return []\n",
        "  if node.Parent==None:\n",
        "    return []\n",
        "  return Solution(node.Parent) + [node.Action]\n"
      ],
      "execution_count": null,
      "outputs": []
    },
    {
      "cell_type": "code",
      "metadata": {
        "colab": {
          "base_uri": "https://localhost:8080/"
        },
        "id": "rtr7Vr84NAfY",
        "outputId": "dd914283-9db5-4aae-9783-7a77bc29149e"
      },
      "source": [
        "sol = Solution(ret)\n",
        "print (sol)\n",
        "print (TileSliding.INITIAL)\n",
        "print (ApplyMoves(sol, TileSliding.INITIAL))"
      ],
      "execution_count": null,
      "outputs": [
        {
          "output_type": "stream",
          "name": "stdout",
          "text": [
            "['d', 'l', 'l', 'u', 'r', 'd', 'r', 'u', 'l', 'l', 'd', 'r', 'r']\n",
            "[1, 2, 3, 4, 5, 0, 6, 7, 8]\n",
            "[1, 2, 3, 4, 5, 6, 7, 8, 0]\n"
          ]
        }
      ]
    },
    {
      "cell_type": "code",
      "metadata": {
        "colab": {
          "base_uri": "https://localhost:8080/"
        },
        "id": "RDE3dNP8NOU7",
        "outputId": "95d0cec5-8369-49aa-d887-4a2316186d7f"
      },
      "source": [
        "TileSliding.INITIAL = [1,2,3,4,5,0,6,7,8]\n",
        "ret, cost = BreadthFirstSearch(TileSliding)\n",
        "print (ret, cost)"
      ],
      "execution_count": null,
      "outputs": [
        {
          "output_type": "stream",
          "name": "stdout",
          "text": [
            "[1, 2, 3, 4, 5, 6, 7, 8, 0], r 1664\n"
          ]
        }
      ]
    },
    {
      "cell_type": "code",
      "metadata": {
        "colab": {
          "base_uri": "https://localhost:8080/"
        },
        "id": "YBkLupiYNyZ_",
        "outputId": "5991cd48-949a-4b94-e7a5-77c2ab751210"
      },
      "source": [
        "sol = Solution(ret)\n",
        "print (sol)\n",
        "print (TileSliding.INITIAL)\n",
        "print (ApplyMoves(sol, TileSliding.INITIAL))"
      ],
      "execution_count": null,
      "outputs": [
        {
          "output_type": "stream",
          "name": "stdout",
          "text": [
            "['d', 'l', 'l', 'u', 'r', 'd', 'r', 'u', 'l', 'l', 'd', 'r', 'r']\n",
            "[1, 2, 3, 4, 5, 0, 6, 7, 8]\n",
            "[1, 2, 3, 4, 5, 6, 7, 8, 0]\n"
          ]
        }
      ]
    },
    {
      "cell_type": "code",
      "metadata": {
        "colab": {
          "base_uri": "https://localhost:8080/"
        },
        "id": "GXdlMLxwhxMF",
        "outputId": "1502d06f-3ed9-4658-ac3d-f35bbfe72a66"
      },
      "source": [
        "UniformCostF = lambda n: n.PathCost\n",
        "AStarF = lambda n: n.PathCost+ManhattanDistance(n.State, GoalState)\n",
        "TileSliding.INITIAL = [1,2,3,4,5,0,6,7,8]\n",
        "ret, cost = BestFirstSearch(TileSliding, UniformCostF)\n",
        "print (ret)\n",
        "sol = Solution(ret)\n",
        "print (sol)\n",
        "print (TileSliding.INITIAL)\n",
        "print (ApplyMoves(sol, TileSliding.INITIAL))\n",
        "print (\"Nodes Expanded=\", cost)"
      ],
      "execution_count": null,
      "outputs": [
        {
          "output_type": "stream",
          "name": "stdout",
          "text": [
            "[1, 2, 3, 4, 5, 6, 7, 8, 0], r\n",
            "['d', 'l', 'l', 'u', 'r', 'd', 'r', 'u', 'l', 'l', 'd', 'r', 'r']\n",
            "[1, 2, 3, 4, 5, 0, 6, 7, 8]\n",
            "[1, 2, 3, 4, 5, 6, 7, 8, 0]\n",
            "Nodes Expanded= 2233\n"
          ]
        }
      ]
    },
    {
      "cell_type": "markdown",
      "metadata": {
        "id": "bu6svMo0n9Pc"
      },
      "source": [
        "# Problem 2"
      ]
    },
    {
      "cell_type": "code",
      "metadata": {
        "colab": {
          "base_uri": "https://localhost:8080/"
        },
        "id": "rXzEVLYEn8m1",
        "outputId": "af3960aa-5d68-4128-900f-f28edd69c45c"
      },
      "source": [
        "state1, sol = RandomWalk(GoalState, 10)\n",
        "PrintState(state1)\n",
        "print (sol)\n",
        "print(ReverseMoves(sol))\n",
        "PrintState (ApplyMoves(ReverseMoves(sol), state1))"
      ],
      "execution_count": null,
      "outputs": [
        {
          "output_type": "stream",
          "name": "stdout",
          "text": [
            "[4, 3, 1]\n",
            "[5, 0, 2]\n",
            "[7, 8, 6]\n",
            "['u', 'u', 'l', 'l', 'd', 'r', 'r', 'u', 'l', 'd']\n",
            "['u', 'r', 'd', 'l', 'l', 'u', 'r', 'r', 'd', 'd']\n",
            "[1, 2, 3]\n",
            "[4, 5, 6]\n",
            "[7, 8, 0]\n"
          ]
        }
      ]
    },
    {
      "cell_type": "code",
      "metadata": {
        "colab": {
          "base_uri": "https://localhost:8080/"
        },
        "id": "tKnMcesqoCss",
        "outputId": "738471ed-a3c7-4bab-87f9-ead876f61b2d"
      },
      "source": [
        "TileSliding.INITIAL = state1\n",
        "ret, cost = BreadthFirstSearch(TileSliding)\n",
        "print (ret)\n",
        "sol = Solution(ret)\n",
        "print (sol)\n",
        "print (TileSliding.INITIAL)\n",
        "print (ApplyMoves(sol, TileSliding.INITIAL))\n",
        "print (\"Length of solution: \", len(sol))\n",
        "print (\"Nodes Expanded=\", cost)"
      ],
      "execution_count": null,
      "outputs": [
        {
          "output_type": "stream",
          "name": "stdout",
          "text": [
            "[1, 2, 3, 4, 5, 6, 7, 8, 0], d\n",
            "['u', 'r', 'd', 'l', 'l', 'u', 'r', 'r', 'd', 'd']\n",
            "[4, 3, 1, 5, 0, 2, 7, 8, 6]\n",
            "[1, 2, 3, 4, 5, 6, 7, 8, 0]\n",
            "Length of solution:  10\n",
            "Nodes Expanded= 387\n"
          ]
        }
      ]
    },
    {
      "cell_type": "code",
      "metadata": {
        "colab": {
          "base_uri": "https://localhost:8080/"
        },
        "id": "k24bl418eL5m",
        "outputId": "0a9be28e-07be-4dfb-8062-85b63c6b0efc"
      },
      "source": [
        "UniformCostF = lambda n: n.PathCost\n",
        "TileSliding.INITIAL = state1\n",
        "ret, cost = BestFirstSearch(TileSliding, UniformCostF)\n",
        "print (ret)\n",
        "sol = Solution(ret)\n",
        "print (sol)\n",
        "print (TileSliding.INITIAL)\n",
        "print (ApplyMoves(sol, TileSliding.INITIAL))\n",
        "print (\"Length of solution: \", len(sol))\n",
        "print (\"Nodes Expanded=\", cost)"
      ],
      "execution_count": null,
      "outputs": [
        {
          "output_type": "stream",
          "name": "stdout",
          "text": [
            "[1, 2, 3, 4, 5, 6, 7, 8, 0], d\n",
            "['u', 'r', 'd', 'l', 'l', 'u', 'r', 'r', 'd', 'd']\n",
            "[4, 3, 1, 5, 0, 2, 7, 8, 6]\n",
            "[1, 2, 3, 4, 5, 6, 7, 8, 0]\n",
            "Length of solution:  10\n",
            "Nodes Expanded= 648\n"
          ]
        }
      ]
    },
    {
      "cell_type": "markdown",
      "metadata": {
        "id": "tdtWdXGlXFGG"
      },
      "source": [
        "# Problem List"
      ]
    },
    {
      "cell_type": "code",
      "metadata": {
        "colab": {
          "base_uri": "https://localhost:8080/"
        },
        "id": "iDhmyFXQXI3N",
        "outputId": "5c491663-d101-45b9-978c-3ef474465f4d"
      },
      "source": [
        "findNum = 10\n",
        "randomWalkDistance = 300\n",
        "problemList = []\n",
        "for i in range(10):\n",
        "  state1, sol = RandomWalk(GoalState, 300)\n",
        "  problemList.append(state1)\n",
        "print (problemList)"
      ],
      "execution_count": null,
      "outputs": [
        {
          "output_type": "stream",
          "name": "stdout",
          "text": [
            "[[7, 8, 0, 4, 2, 1, 6, 3, 5], [5, 4, 3, 8, 1, 7, 0, 6, 2], [1, 4, 5, 6, 2, 8, 0, 3, 7], [4, 3, 0, 8, 5, 1, 2, 6, 7], [6, 2, 8, 4, 0, 1, 7, 5, 3], [8, 6, 1, 7, 3, 4, 0, 2, 5], [2, 7, 8, 1, 4, 3, 5, 6, 0], [0, 4, 2, 6, 1, 5, 3, 7, 8], [3, 4, 5, 2, 8, 7, 1, 6, 0], [4, 7, 3, 2, 0, 1, 5, 8, 6]]\n"
          ]
        }
      ]
    },
    {
      "cell_type": "markdown",
      "metadata": {
        "id": "TpdrxwA8UvFn"
      },
      "source": [
        "### Breadth First Search w/ Test Problems"
      ]
    },
    {
      "cell_type": "code",
      "metadata": {
        "colab": {
          "base_uri": "https://localhost:8080/"
        },
        "id": "xrni2RRIXkfU",
        "outputId": "deb43b58-d39c-458d-e767-9af1fb9ac3ad"
      },
      "source": [
        "#Breadth-First Search 3x3\n",
        "testProblems = [[8, 2, 1, 5, 3, 6, 7, 4, 0], [6, 4, 7, 2, 0, 5, 1, 8, 3], [2, 5, 7, 3, 6, 4, 1, 8, 0], [1, 5, 3, 6, 0, 8, 7, 4, 2], [0, 8, 1, 4, 2, 6, 5, 3, 7], [6, 7, 8, 4, 0, 1, 3, 5, 2], [7, 2, 5, 6, 0, 3, 4, 8, 1], [5, 2, 8, 6, 1, 3, 7, 4, 0], [5, 6, 0, 3, 1, 4, 8, 7, 2], [4, 1, 0, 7, 8, 5, 2, 6, 3]]\n",
        "\n",
        "Solutions = []\n",
        "for s in testProblems:\n",
        "  TileSliding.INITIAL = s\n",
        "  ret, cost = BreadthFirstSearch(TileSliding)\n",
        "  sol = Solution(ret)\n",
        "  print (sol)\n",
        "  print (\"-----------------------\")\n",
        "  print (TileSliding.INITIAL,'\\n')\n",
        "  print (ApplyMoves(sol, TileSliding.INITIAL))\n",
        "  print (\"Length of solution: \", len(sol))\n",
        "  print (\"Nodes Expanded=\", cost)\n",
        "  print (\"-----------------------\")\n",
        "  Solutions.append((''.join(map(str, s)), ''.join(sol), cost))\n",
        "print (\"-------\")\n",
        "print (Solutions)\n"
      ],
      "execution_count": null,
      "outputs": [
        {
          "output_type": "stream",
          "name": "stdout",
          "text": [
            "['u', 'l', 'd', 'l', 'u', 'u', 'r', 'd', 'l', 'd', 'r', 'u', 'l', 'u', 'r', 'r', 'd', 'l', 'l', 'u', 'r', 'd', 'r', 'd']\n",
            "-----------------------\n",
            "[8, 2, 1, 5, 3, 6, 7, 4, 0] \n",
            "\n",
            "[1, 2, 3, 4, 5, 6, 7, 8, 0]\n",
            "Length of solution:  24\n",
            "Nodes Expanded= 104405\n",
            "-----------------------\n",
            "['u', 'r', 'd', 'd', 'l', 'u', 'u', 'l', 'd', 'd', 'r', 'u', 'u', 'r', 'd', 'l', 'u', 'l', 'd', 'd', 'r', 'r']\n",
            "-----------------------\n",
            "[6, 4, 7, 2, 0, 5, 1, 8, 3] \n",
            "\n",
            "[1, 2, 3, 4, 5, 6, 7, 8, 0]\n",
            "Length of solution:  22\n",
            "Nodes Expanded= 66720\n",
            "-----------------------\n",
            "['u', 'l', 'l', 'd', 'r', 'r', 'u', 'u', 'l', 'd', 'r', 'u', 'l', 'l', 'd', 'r', 'd', 'l', 'u', 'r', 'r', 'd']\n",
            "-----------------------\n",
            "[2, 5, 7, 3, 6, 4, 1, 8, 0] \n",
            "\n",
            "[1, 2, 3, 4, 5, 6, 7, 8, 0]\n",
            "Length of solution:  22\n",
            "Nodes Expanded= 64322\n",
            "-----------------------\n",
            "['u', 'r', 'd', 'd', 'l', 'u', 'r', 'u', 'l', 'd', 'l', 'd', 'r', 'r', 'u', 'l', 'd', 'l', 'u', 'r', 'd', 'r']\n",
            "-----------------------\n",
            "[1, 5, 3, 6, 0, 8, 7, 4, 2] \n",
            "\n",
            "[1, 2, 3, 4, 5, 6, 7, 8, 0]\n",
            "Length of solution:  22\n",
            "Nodes Expanded= 67412\n",
            "-----------------------\n",
            "['d', 'd', 'r', 'r', 'u', 'l', 'u', 'l', 'd', 'd', 'r', 'u', 'l', 'u', 'r', 'r', 'd', 'l', 'l', 'u', 'r', 'r', 'd', 'd']\n",
            "-----------------------\n",
            "[0, 8, 1, 4, 2, 6, 5, 3, 7] \n",
            "\n",
            "[1, 2, 3, 4, 5, 6, 7, 8, 0]\n",
            "Length of solution:  24\n",
            "Nodes Expanded= 100472\n",
            "-----------------------\n",
            "['u', 'l', 'd', 'r', 'd', 'l', 'u', 'r', 'u', 'r', 'd', 'd', 'l', 'u', 'u', 'r', 'd', 'd', 'l', 'u', 'l', 'u', 'r', 'r', 'd', 'd']\n",
            "-----------------------\n",
            "[6, 7, 8, 4, 0, 1, 3, 5, 2] \n",
            "\n",
            "[1, 2, 3, 4, 5, 6, 7, 8, 0]\n",
            "Length of solution:  26\n",
            "Nodes Expanded= 151072\n",
            "-----------------------\n",
            "['u', 'l', 'd', 'r', 'u', 'r', 'd', 'd', 'l', 'u', 'r', 'u', 'l', 'l', 'd', 'r', 'u', 'r', 'd', 'l', 'u', 'l', 'd', 'd', 'r', 'r']\n",
            "-----------------------\n",
            "[7, 2, 5, 6, 0, 3, 4, 8, 1] \n",
            "\n",
            "[1, 2, 3, 4, 5, 6, 7, 8, 0]\n",
            "Length of solution:  26\n",
            "Nodes Expanded= 150436\n",
            "-----------------------\n",
            "['u', 'u', 'l', 'd', 'l', 'd', 'r', 'u', 'r', 'd', 'l', 'u', 'l', 'u', 'r', 'r', 'd', 'd', 'l', 'u', 'l', 'd', 'r', 'r']\n",
            "-----------------------\n",
            "[5, 2, 8, 6, 1, 3, 7, 4, 0] \n",
            "\n",
            "[1, 2, 3, 4, 5, 6, 7, 8, 0]\n",
            "Length of solution:  24\n",
            "Nodes Expanded= 98623\n",
            "-----------------------\n",
            "['l', 'd', 'l', 'u', 'r', 'd', 'd', 'l', 'u', 'r', 'r', 'd', 'l', 'l', 'u', 'r', 'r', 'u', 'l', 'd', 'd', 'r']\n",
            "-----------------------\n",
            "[5, 6, 0, 3, 1, 4, 8, 7, 2] \n",
            "\n",
            "[1, 2, 3, 4, 5, 6, 7, 8, 0]\n",
            "Length of solution:  22\n",
            "Nodes Expanded= 66871\n",
            "-----------------------\n",
            "['d', 'd', 'l', 'u', 'r', 'd', 'l', 'l', 'u', 'u', 'r', 'd', 'd', 'r', 'u', 'u', 'l', 'd', 'r', 'd']\n",
            "-----------------------\n",
            "[4, 1, 0, 7, 8, 5, 2, 6, 3] \n",
            "\n",
            "[1, 2, 3, 4, 5, 6, 7, 8, 0]\n",
            "Length of solution:  20\n",
            "Nodes Expanded= 28409\n",
            "-----------------------\n",
            "-------\n",
            "[('821536740', 'uldluurdldrulurrdllurdrd', 104405), ('647205183', 'urddluulddruurdlulddrr', 66720), ('257364180', 'ulldrruuldrulldrdlurrd', 64322), ('153608742', 'urddluruldldrruldlurdr', 67412), ('081426537', 'ddrrululddrulurrdllurrdd', 100472), ('678401352', 'uldrdlururddluurddlulurrdd', 151072), ('725603481', 'uldrurddlurulldrurdlulddrr', 150436), ('528613740', 'uuldldrurdlulurrddluldrr', 98623), ('560314872', 'ldlurddlurrdllurrulddr', 66871), ('410785263', 'ddlurdlluurddruuldrd', 28409)]\n"
          ]
        }
      ]
    },
    {
      "cell_type": "markdown",
      "metadata": {
        "id": "YLVN3sTkU0jw"
      },
      "source": [
        "### Uniform Cost Search w/ Test Problems"
      ]
    },
    {
      "cell_type": "code",
      "metadata": {
        "colab": {
          "base_uri": "https://localhost:8080/"
        },
        "id": "LsWVfbeLRYfO",
        "outputId": "522a6fd3-9c19-40f3-dc40-5a690ed07c74"
      },
      "source": [
        "#UCS 3x3\n",
        "UniformCostF = lambda n: n.PathCost\n",
        "testProblems = [[8, 2, 1, 5, 3, 6, 7, 4, 0], [6, 4, 7, 2, 0, 5, 1, 8, 3], [2, 5, 7, 3, 6, 4, 1, 8, 0], [1, 5, 3, 6, 0, 8, 7, 4, 2], [0, 8, 1, 4, 2, 6, 5, 3, 7], [6, 7, 8, 4, 0, 1, 3, 5, 2], [7, 2, 5, 6, 0, 3, 4, 8, 1], [5, 2, 8, 6, 1, 3, 7, 4, 0], [5, 6, 0, 3, 1, 4, 8, 7, 2], [4, 1, 0, 7, 8, 5, 2, 6, 3]]\n",
        "\n",
        "Solutions = []\n",
        "for s in testProblems:\n",
        "  TileSliding.INITIAL = s\n",
        "  ret, cost = BestFirstSearch(TileSliding, UniformCostF)\n",
        "  sol = Solution(ret)\n",
        "  print (sol)\n",
        "  print (\"-----------------------\")\n",
        "  print (TileSliding.INITIAL,'\\n')\n",
        "  print (ApplyMoves(sol, TileSliding.INITIAL))\n",
        "  print (\"Length of solution: \", len(sol))\n",
        "  print (\"Nodes Expanded=\", cost)\n",
        "  print (\"-----------------------\")\n",
        "  Solutions.append((''.join(map(str, s)), ''.join(sol), cost))\n",
        "print (\"-------\")\n",
        "print (Solutions)"
      ],
      "execution_count": null,
      "outputs": [
        {
          "output_type": "stream",
          "name": "stdout",
          "text": [
            "['u', 'l', 'd', 'l', 'u', 'u', 'r', 'd', 'l', 'd', 'r', 'u', 'l', 'u', 'r', 'r', 'd', 'l', 'l', 'u', 'r', 'd', 'r', 'd']\n",
            "-----------------------\n",
            "[8, 2, 1, 5, 3, 6, 7, 4, 0] \n",
            "\n",
            "[1, 2, 3, 4, 5, 6, 7, 8, 0]\n",
            "Length of solution:  24\n",
            "Nodes Expanded= 136853\n",
            "-----------------------\n",
            "['u', 'r', 'd', 'd', 'l', 'u', 'u', 'l', 'd', 'd', 'r', 'u', 'u', 'r', 'd', 'l', 'u', 'l', 'd', 'd', 'r', 'r']\n",
            "-----------------------\n",
            "[6, 4, 7, 2, 0, 5, 1, 8, 3] \n",
            "\n",
            "[1, 2, 3, 4, 5, 6, 7, 8, 0]\n",
            "Length of solution:  22\n",
            "Nodes Expanded= 101205\n",
            "-----------------------\n",
            "['u', 'l', 'l', 'd', 'r', 'r', 'u', 'l', 'u', 'r', 'd', 'l', 'u', 'l', 'd', 'r', 'd', 'l', 'u', 'r', 'r', 'd']\n",
            "-----------------------\n",
            "[2, 5, 7, 3, 6, 4, 1, 8, 0] \n",
            "\n",
            "[1, 2, 3, 4, 5, 6, 7, 8, 0]\n",
            "Length of solution:  22\n",
            "Nodes Expanded= 77111\n",
            "-----------------------\n",
            "['l', 'd', 'r', 'r', 'u', 'l', 'l', 'd', 'r', 'u', 'u', 'l', 'd', 'd', 'r', 'u', 'l', 'u', 'r', 'd', 'd', 'r']\n",
            "-----------------------\n",
            "[1, 5, 3, 6, 0, 8, 7, 4, 2] \n",
            "\n",
            "[1, 2, 3, 4, 5, 6, 7, 8, 0]\n",
            "Length of solution:  22\n",
            "Nodes Expanded= 90711\n",
            "-----------------------\n",
            "['d', 'd', 'r', 'r', 'u', 'l', 'u', 'l', 'd', 'd', 'r', 'u', 'l', 'u', 'r', 'r', 'd', 'l', 'l', 'u', 'r', 'r', 'd', 'd']\n",
            "-----------------------\n",
            "[0, 8, 1, 4, 2, 6, 5, 3, 7] \n",
            "\n",
            "[1, 2, 3, 4, 5, 6, 7, 8, 0]\n",
            "Length of solution:  24\n",
            "Nodes Expanded= 122091\n",
            "-----------------------\n",
            "['u', 'l', 'd', 'r', 'd', 'l', 'u', 'r', 'u', 'r', 'd', 'd', 'l', 'u', 'u', 'r', 'd', 'd', 'l', 'u', 'l', 'u', 'r', 'r', 'd', 'd']\n",
            "-----------------------\n",
            "[6, 7, 8, 4, 0, 1, 3, 5, 2] \n",
            "\n",
            "[1, 2, 3, 4, 5, 6, 7, 8, 0]\n",
            "Length of solution:  26\n",
            "Nodes Expanded= 170844\n",
            "-----------------------\n",
            "['l', 'u', 'r', 'd', 'r', 'u', 'l', 'd', 'd', 'r', 'u', 'l', 'd', 'l', 'u', 'r', 'd', 'r', 'u', 'u', 'l', 'l', 'd', 'r', 'd', 'r']\n",
            "-----------------------\n",
            "[7, 2, 5, 6, 0, 3, 4, 8, 1] \n",
            "\n",
            "[1, 2, 3, 4, 5, 6, 7, 8, 0]\n",
            "Length of solution:  26\n",
            "Nodes Expanded= 166182\n",
            "-----------------------\n",
            "['l', 'l', 'u', 'r', 'd', 'r', 'u', 'u', 'l', 'l', 'd', 'r', 'd', 'l', 'u', 'r', 'r', 'd', 'l', 'u', 'u', 'r', 'd', 'd']\n",
            "-----------------------\n",
            "[5, 2, 8, 6, 1, 3, 7, 4, 0] \n",
            "\n",
            "[1, 2, 3, 4, 5, 6, 7, 8, 0]\n",
            "Length of solution:  24\n",
            "Nodes Expanded= 131474\n",
            "-----------------------\n",
            "['l', 'd', 'l', 'u', 'r', 'd', 'd', 'l', 'u', 'r', 'r', 'd', 'l', 'l', 'u', 'r', 'r', 'u', 'l', 'd', 'd', 'r']\n",
            "-----------------------\n",
            "[5, 6, 0, 3, 1, 4, 8, 7, 2] \n",
            "\n",
            "[1, 2, 3, 4, 5, 6, 7, 8, 0]\n",
            "Length of solution:  22\n",
            "Nodes Expanded= 94762\n",
            "-----------------------\n",
            "['d', 'l', 'd', 'r', 'u', 'l', 'd', 'l', 'u', 'u', 'r', 'd', 'd', 'r', 'u', 'u', 'l', 'd', 'r', 'd']\n",
            "-----------------------\n",
            "[4, 1, 0, 7, 8, 5, 2, 6, 3] \n",
            "\n",
            "[1, 2, 3, 4, 5, 6, 7, 8, 0]\n",
            "Length of solution:  20\n",
            "Nodes Expanded= 43546\n",
            "-----------------------\n",
            "-------\n",
            "[('821536740', 'uldluurdldrulurrdllurdrd', 136853), ('647205183', 'urddluulddruurdlulddrr', 101205), ('257364180', 'ulldrrulurdluldrdlurrd', 77111), ('153608742', 'ldrrulldruulddrulurddr', 90711), ('081426537', 'ddrrululddrulurrdllurrdd', 122091), ('678401352', 'uldrdlururddluurddlulurrdd', 170844), ('725603481', 'lurdrulddruldlurdruulldrdr', 166182), ('528613740', 'llurdruulldrdlurrdluurdd', 131474), ('560314872', 'ldlurddlurrdllurrulddr', 94762), ('410785263', 'dldruldluurddruuldrd', 43546)]\n"
          ]
        }
      ]
    },
    {
      "cell_type": "markdown",
      "metadata": {
        "id": "p8yiFsHoU6sf"
      },
      "source": [
        "### AStar using ManhattanDistance w/ Test Problems"
      ]
    },
    {
      "cell_type": "code",
      "metadata": {
        "colab": {
          "base_uri": "https://localhost:8080/"
        },
        "id": "6VD8LuUJRhxU",
        "outputId": "becd1ac4-57c1-4492-b84d-d7b1ff26b597"
      },
      "source": [
        "#AStar with ManhattanDistance 3x3\n",
        "AStarFb = lambda n: n.PathCost + ManhattanDistance(n.State, GoalState)\n",
        "testProblems = [[8, 2, 1, 5, 3, 6, 7, 4, 0], [6, 4, 7, 2, 0, 5, 1, 8, 3], [2, 5, 7, 3, 6, 4, 1, 8, 0], [1, 5, 3, 6, 0, 8, 7, 4, 2], [0, 8, 1, 4, 2, 6, 5, 3, 7], [6, 7, 8, 4, 0, 1, 3, 5, 2], [7, 2, 5, 6, 0, 3, 4, 8, 1], [5, 2, 8, 6, 1, 3, 7, 4, 0], [5, 6, 0, 3, 1, 4, 8, 7, 2], [4, 1, 0, 7, 8, 5, 2, 6, 3]]\n",
        "\n",
        "Solutions = []\n",
        "for s in testProblems:\n",
        "  TileSliding.INITIAL = s\n",
        "  ret, cost = BestFirstSearch(TileSliding, AStarF)\n",
        "  sol = Solution(ret)\n",
        "  print (sol)\n",
        "  print (\"-----------------------\")\n",
        "  print (TileSliding.INITIAL,'\\n')\n",
        "  print (ApplyMoves(sol, TileSliding.INITIAL))\n",
        "  print (\"Length of solution: \", len(sol))\n",
        "  print (\"Nodes Expanded=\", cost)\n",
        "  print (\"-----------------------\")\n",
        "  Solutions.append((''.join(map(str, s)), ''.join(sol), cost))\n",
        "print (\"-------\")\n",
        "print (Solutions)"
      ],
      "execution_count": null,
      "outputs": [
        {
          "output_type": "stream",
          "name": "stdout",
          "text": [
            "['u', 'l', 'd', 'l', 'u', 'u', 'r', 'd', 'l', 'd', 'r', 'u', 'l', 'u', 'r', 'r', 'd', 'l', 'l', 'u', 'r', 'd', 'r', 'd']\n",
            "-----------------------\n",
            "[8, 2, 1, 5, 3, 6, 7, 4, 0] \n",
            "\n",
            "[1, 2, 3, 4, 5, 6, 7, 8, 0]\n",
            "Length of solution:  24\n",
            "Nodes Expanded= 2878\n",
            "-----------------------\n",
            "['u', 'r', 'd', 'd', 'l', 'u', 'u', 'l', 'd', 'd', 'r', 'u', 'u', 'r', 'd', 'l', 'u', 'l', 'd', 'd', 'r', 'r']\n",
            "-----------------------\n",
            "[6, 4, 7, 2, 0, 5, 1, 8, 3] \n",
            "\n",
            "[1, 2, 3, 4, 5, 6, 7, 8, 0]\n",
            "Length of solution:  22\n",
            "Nodes Expanded= 674\n",
            "-----------------------\n",
            "['u', 'l', 'l', 'd', 'r', 'r', 'u', 'u', 'l', 'd', 'r', 'u', 'l', 'l', 'd', 'r', 'd', 'l', 'u', 'r', 'r', 'd']\n",
            "-----------------------\n",
            "[2, 5, 7, 3, 6, 4, 1, 8, 0] \n",
            "\n",
            "[1, 2, 3, 4, 5, 6, 7, 8, 0]\n",
            "Length of solution:  22\n",
            "Nodes Expanded= 504\n",
            "-----------------------\n",
            "['l', 'd', 'r', 'r', 'u', 'l', 'u', 'l', 'd', 'r', 'd', 'l', 'u', 'u', 'r', 'd', 'd', 'l', 'u', 'r', 'd', 'r']\n",
            "-----------------------\n",
            "[1, 5, 3, 6, 0, 8, 7, 4, 2] \n",
            "\n",
            "[1, 2, 3, 4, 5, 6, 7, 8, 0]\n",
            "Length of solution:  22\n",
            "Nodes Expanded= 2015\n",
            "-----------------------\n",
            "['d', 'r', 'd', 'r', 'u', 'l', 'u', 'l', 'd', 'd', 'r', 'u', 'l', 'u', 'r', 'r', 'd', 'l', 'l', 'u', 'r', 'd', 'r', 'd']\n",
            "-----------------------\n",
            "[0, 8, 1, 4, 2, 6, 5, 3, 7] \n",
            "\n",
            "[1, 2, 3, 4, 5, 6, 7, 8, 0]\n",
            "Length of solution:  24\n",
            "Nodes Expanded= 2186\n",
            "-----------------------\n",
            "['u', 'l', 'd', 'r', 'd', 'l', 'u', 'r', 'u', 'r', 'd', 'd', 'l', 'u', 'u', 'r', 'd', 'd', 'l', 'u', 'l', 'u', 'r', 'r', 'd', 'd']\n",
            "-----------------------\n",
            "[6, 7, 8, 4, 0, 1, 3, 5, 2] \n",
            "\n",
            "[1, 2, 3, 4, 5, 6, 7, 8, 0]\n",
            "Length of solution:  26\n",
            "Nodes Expanded= 2136\n",
            "-----------------------\n",
            "['d', 'l', 'u', 'r', 'd', 'r', 'u', 'u', 'l', 'd', 'd', 'l', 'u', 'u', 'r', 'd', 'r', 'd', 'l', 'l', 'u', 'u', 'r', 'r', 'd', 'd']\n",
            "-----------------------\n",
            "[7, 2, 5, 6, 0, 3, 4, 8, 1] \n",
            "\n",
            "[1, 2, 3, 4, 5, 6, 7, 8, 0]\n",
            "Length of solution:  26\n",
            "Nodes Expanded= 6626\n",
            "-----------------------\n",
            "['u', 'u', 'l', 'd', 'l', 'd', 'r', 'u', 'r', 'd', 'l', 'u', 'l', 'u', 'r', 'r', 'd', 'd', 'l', 'u', 'l', 'd', 'r', 'r']\n",
            "-----------------------\n",
            "[5, 2, 8, 6, 1, 3, 7, 4, 0] \n",
            "\n",
            "[1, 2, 3, 4, 5, 6, 7, 8, 0]\n",
            "Length of solution:  24\n",
            "Nodes Expanded= 2185\n",
            "-----------------------\n",
            "['l', 'd', 'l', 'u', 'r', 'd', 'd', 'l', 'u', 'r', 'r', 'd', 'l', 'l', 'u', 'r', 'r', 'u', 'l', 'd', 'd', 'r']\n",
            "-----------------------\n",
            "[5, 6, 0, 3, 1, 4, 8, 7, 2] \n",
            "\n",
            "[1, 2, 3, 4, 5, 6, 7, 8, 0]\n",
            "Length of solution:  22\n",
            "Nodes Expanded= 701\n",
            "-----------------------\n",
            "['d', 'd', 'l', 'u', 'r', 'd', 'l', 'l', 'u', 'u', 'r', 'd', 'd', 'r', 'u', 'u', 'l', 'd', 'r', 'd']\n",
            "-----------------------\n",
            "[4, 1, 0, 7, 8, 5, 2, 6, 3] \n",
            "\n",
            "[1, 2, 3, 4, 5, 6, 7, 8, 0]\n",
            "Length of solution:  20\n",
            "Nodes Expanded= 496\n",
            "-----------------------\n",
            "-------\n",
            "[('821536740', 'uldluurdldrulurrdllurdrd', 2878), ('647205183', 'urddluulddruurdlulddrr', 674), ('257364180', 'ulldrruuldrulldrdlurrd', 504), ('153608742', 'ldrrululdrdluurddlurdr', 2015), ('081426537', 'drdrululddrulurrdllurdrd', 2186), ('678401352', 'uldrdlururddluurddlulurrdd', 2136), ('725603481', 'dlurdruulddluurdrdlluurrdd', 6626), ('528613740', 'uuldldrurdlulurrddluldrr', 2185), ('560314872', 'ldlurddlurrdllurrulddr', 701), ('410785263', 'ddlurdlluurddruuldrd', 496)]\n"
          ]
        }
      ]
    },
    {
      "cell_type": "markdown",
      "metadata": {
        "id": "dluzNjyYVBSl"
      },
      "source": [
        "### AStar using OutOfPlace w/ Test Problems"
      ]
    },
    {
      "cell_type": "code",
      "metadata": {
        "colab": {
          "base_uri": "https://localhost:8080/"
        },
        "id": "m7icYl-JUGbR",
        "outputId": "3885a9d3-d7c4-42db-d85e-a1c145b1da96"
      },
      "source": [
        "#AStar with OutOfPlace 3x3\n",
        "AStarFb = lambda n: n.PathCost + OutOfPlace(n.State, GoalState)\n",
        "testProblems = [[8, 2, 1, 5, 3, 6, 7, 4, 0], [6, 4, 7, 2, 0, 5, 1, 8, 3], [2, 5, 7, 3, 6, 4, 1, 8, 0], [1, 5, 3, 6, 0, 8, 7, 4, 2], [0, 8, 1, 4, 2, 6, 5, 3, 7], [6, 7, 8, 4, 0, 1, 3, 5, 2], [7, 2, 5, 6, 0, 3, 4, 8, 1], [5, 2, 8, 6, 1, 3, 7, 4, 0], [5, 6, 0, 3, 1, 4, 8, 7, 2], [4, 1, 0, 7, 8, 5, 2, 6, 3]]\n",
        "\n",
        "Solutions = []\n",
        "for s in testProblems:\n",
        "  TileSliding.INITIAL = s\n",
        "  ret, cost = BestFirstSearch(TileSliding, AStarFb)\n",
        "  sol = Solution(ret)\n",
        "  print (sol)\n",
        "  print (\"-----------------------\")\n",
        "  print (TileSliding.INITIAL,'\\n')\n",
        "  print (ApplyMoves(sol, TileSliding.INITIAL))\n",
        "  print (\"Length of solution: \", len(sol))\n",
        "  print (\"Nodes Expanded=\", cost)\n",
        "  print (\"-----------------------\")\n",
        "  Solutions.append((''.join(map(str, s)), ''.join(sol), cost))\n",
        "print (\"-------\")\n",
        "print (Solutions)"
      ],
      "execution_count": null,
      "outputs": [
        {
          "output_type": "stream",
          "name": "stdout",
          "text": [
            "['u', 'l', 'd', 'l', 'u', 'u', 'r', 'd', 'l', 'd', 'r', 'u', 'l', 'u', 'r', 'r', 'd', 'l', 'l', 'u', 'r', 'd', 'r', 'd']\n",
            "-----------------------\n",
            "[8, 2, 1, 5, 3, 6, 7, 4, 0] \n",
            "\n",
            "[1, 2, 3, 4, 5, 6, 7, 8, 0]\n",
            "Length of solution:  24\n",
            "Nodes Expanded= 18648\n",
            "-----------------------\n",
            "['u', 'r', 'd', 'd', 'l', 'u', 'u', 'l', 'd', 'd', 'r', 'u', 'u', 'r', 'd', 'l', 'u', 'l', 'd', 'd', 'r', 'r']\n",
            "-----------------------\n",
            "[6, 4, 7, 2, 0, 5, 1, 8, 3] \n",
            "\n",
            "[1, 2, 3, 4, 5, 6, 7, 8, 0]\n",
            "Length of solution:  22\n",
            "Nodes Expanded= 8975\n",
            "-----------------------\n",
            "['u', 'l', 'l', 'd', 'r', 'r', 'u', 'l', 'u', 'r', 'd', 'l', 'u', 'l', 'd', 'r', 'd', 'l', 'u', 'r', 'r', 'd']\n",
            "-----------------------\n",
            "[2, 5, 7, 3, 6, 4, 1, 8, 0] \n",
            "\n",
            "[1, 2, 3, 4, 5, 6, 7, 8, 0]\n",
            "Length of solution:  22\n",
            "Nodes Expanded= 7215\n",
            "-----------------------\n",
            "['l', 'd', 'r', 'r', 'u', 'l', 'l', 'd', 'r', 'u', 'u', 'l', 'd', 'd', 'r', 'u', 'l', 'u', 'r', 'd', 'd', 'r']\n",
            "-----------------------\n",
            "[1, 5, 3, 6, 0, 8, 7, 4, 2] \n",
            "\n",
            "[1, 2, 3, 4, 5, 6, 7, 8, 0]\n",
            "Length of solution:  22\n",
            "Nodes Expanded= 10643\n",
            "-----------------------\n",
            "['r', 'r', 'd', 'l', 'd', 'l', 'u', 'u', 'r', 'd', 'r', 'u', 'l', 'd', 'd', 'r', 'u', 'l', 'l', 'd', 'r', 'u', 'r', 'd']\n",
            "-----------------------\n",
            "[0, 8, 1, 4, 2, 6, 5, 3, 7] \n",
            "\n",
            "[1, 2, 3, 4, 5, 6, 7, 8, 0]\n",
            "Length of solution:  24\n",
            "Nodes Expanded= 17972\n",
            "-----------------------\n",
            "['u', 'l', 'd', 'r', 'd', 'l', 'u', 'r', 'u', 'r', 'd', 'd', 'l', 'u', 'u', 'r', 'd', 'd', 'l', 'u', 'l', 'u', 'r', 'r', 'd', 'd']\n",
            "-----------------------\n",
            "[6, 7, 8, 4, 0, 1, 3, 5, 2] \n",
            "\n",
            "[1, 2, 3, 4, 5, 6, 7, 8, 0]\n",
            "Length of solution:  26\n",
            "Nodes Expanded= 43936\n",
            "-----------------------\n",
            "['d', 'l', 'u', 'r', 'd', 'r', 'u', 'u', 'l', 'd', 'd', 'l', 'u', 'u', 'r', 'd', 'r', 'd', 'l', 'l', 'u', 'u', 'r', 'r', 'd', 'd']\n",
            "-----------------------\n",
            "[7, 2, 5, 6, 0, 3, 4, 8, 1] \n",
            "\n",
            "[1, 2, 3, 4, 5, 6, 7, 8, 0]\n",
            "Length of solution:  26\n",
            "Nodes Expanded= 45158\n",
            "-----------------------\n",
            "['l', 'l', 'u', 'r', 'd', 'r', 'u', 'u', 'l', 'l', 'd', 'r', 'd', 'l', 'u', 'r', 'r', 'd', 'l', 'u', 'u', 'r', 'd', 'd']\n",
            "-----------------------\n",
            "[5, 2, 8, 6, 1, 3, 7, 4, 0] \n",
            "\n",
            "[1, 2, 3, 4, 5, 6, 7, 8, 0]\n",
            "Length of solution:  24\n",
            "Nodes Expanded= 18380\n",
            "-----------------------\n",
            "['l', 'd', 'l', 'u', 'r', 'd', 'd', 'l', 'u', 'r', 'r', 'd', 'l', 'l', 'u', 'r', 'r', 'u', 'l', 'd', 'd', 'r']\n",
            "-----------------------\n",
            "[5, 6, 0, 3, 1, 4, 8, 7, 2] \n",
            "\n",
            "[1, 2, 3, 4, 5, 6, 7, 8, 0]\n",
            "Length of solution:  22\n",
            "Nodes Expanded= 7753\n",
            "-----------------------\n",
            "['d', 'd', 'l', 'u', 'r', 'd', 'l', 'l', 'u', 'u', 'r', 'd', 'd', 'r', 'u', 'u', 'l', 'd', 'r', 'd']\n",
            "-----------------------\n",
            "[4, 1, 0, 7, 8, 5, 2, 6, 3] \n",
            "\n",
            "[1, 2, 3, 4, 5, 6, 7, 8, 0]\n",
            "Length of solution:  20\n",
            "Nodes Expanded= 3168\n",
            "-----------------------\n",
            "-------\n",
            "[('821536740', 'uldluurdldrulurrdllurdrd', 18648), ('647205183', 'urddluulddruurdlulddrr', 8975), ('257364180', 'ulldrrulurdluldrdlurrd', 7215), ('153608742', 'ldrrulldruulddrulurddr', 10643), ('081426537', 'rrdldluurdrulddrulldrurd', 17972), ('678401352', 'uldrdlururddluurddlulurrdd', 43936), ('725603481', 'dlurdruulddluurdrdlluurrdd', 45158), ('528613740', 'llurdruulldrdlurrdluurdd', 18380), ('560314872', 'ldlurddlurrdllurrulddr', 7753), ('410785263', 'ddlurdlluurddruuldrd', 3168)]\n"
          ]
        }
      ]
    },
    {
      "cell_type": "markdown",
      "metadata": {
        "id": "TEBWJx6DwN-r"
      },
      "source": [
        "### Best First Search -- Greedy"
      ]
    },
    {
      "cell_type": "code",
      "metadata": {
        "colab": {
          "base_uri": "https://localhost:8080/"
        },
        "id": "fI27-Y5ivXdw",
        "outputId": "95aecc72-50d0-49dd-81bb-9f446c214f16"
      },
      "source": [
        "### Best First with OutOfPlace 3x3\n",
        "bestFirstSearchf = lambda n: OutOfPlace(n.State, GoalState)\n",
        "testProblems = [[8, 2, 1, 5, 3, 6, 7, 4, 0], [6, 4, 7, 2, 0, 5, 1, 8, 3], [2, 5, 7, 3, 6, 4, 1, 8, 0], [1, 5, 3, 6, 0, 8, 7, 4, 2], [0, 8, 1, 4, 2, 6, 5, 3, 7], [6, 7, 8, 4, 0, 1, 3, 5, 2], [7, 2, 5, 6, 0, 3, 4, 8, 1], [5, 2, 8, 6, 1, 3, 7, 4, 0], [5, 6, 0, 3, 1, 4, 8, 7, 2], [4, 1, 0, 7, 8, 5, 2, 6, 3]]\n",
        "\n",
        "Solutions = []\n",
        "for s in testProblems:\n",
        "  TileSliding.INITIAL = s\n",
        "  ret, cost = BestFirstSearch(TileSliding, bestFirstSearchf)\n",
        "  sol = Solution(ret)\n",
        "  print (sol)\n",
        "  print (\"-----------------------\")\n",
        "  print (TileSliding.INITIAL,'\\n')\n",
        "  print (ApplyMoves(sol, TileSliding.INITIAL))\n",
        "  print (\"Length of solution: \", len(sol))\n",
        "  print (\"Nodes Expanded=\", cost)\n",
        "  print (\"-----------------------\")\n",
        "  Solutions.append((''.join(map(str, s)), ''.join(sol), cost))\n",
        "print (\"-------\")\n",
        "print (Solutions)"
      ],
      "execution_count": null,
      "outputs": [
        {
          "output_type": "stream",
          "name": "stdout",
          "text": [
            "['u', 'l', 'l', 'u', 'r', 'r', 'd', 'l', 'l', 'u', 'r', 'r', 'd', 'd', 'l', 'u', 'r', 'u', 'l', 'd', 'l', 'u', 'r', 'd', 'r', 'u', 'l', 'l', 'd', 'r', 'u', 'r', 'd', 'l', 'l', 'd', 'r', 'r', 'u', 'l', 'd', 'l', 'u', 'r', 'r', 'd']\n",
            "-----------------------\n",
            "[8, 2, 1, 5, 3, 6, 7, 4, 0] \n",
            "\n",
            "[1, 2, 3, 4, 5, 6, 7, 8, 0]\n",
            "Length of solution:  46\n",
            "Nodes Expanded= 616\n",
            "-----------------------\n",
            "['l', 'u', 'r', 'd', 'r', 'd', 'l', 'l', 'u', 'u', 'r', 'r', 'd', 'l', 'u', 'l', 'd', 'r', 'd', 'l', 'u', 'r', 'd', 'r', 'u', 'l', 'l', 'd', 'r', 'u', 'l', 'u', 'r', 'd', 'd', 'l', 'u', 'r', 'u', 'l', 'd', 'd', 'r', 'r', 'u', 'l', 'd', 'l', 'u', 'r', 'r', 'd', 'l', 'u', 'l', 'd', 'r', 'r']\n",
            "-----------------------\n",
            "[6, 4, 7, 2, 0, 5, 1, 8, 3] \n",
            "\n",
            "[1, 2, 3, 4, 5, 6, 7, 8, 0]\n",
            "Length of solution:  58\n",
            "Nodes Expanded= 627\n",
            "-----------------------\n",
            "['u', 'l', 'l', 'd', 'r', 'u', 'u', 'l', 'd', 'd', 'r', 'r', 'u', 'l', 'd', 'l', 'u', 'r', 'r', 'u', 'l', 'd', 'r', 'd', 'l', 'l', 'u', 'r', 'u', 'r', 'd', 'd', 'l', 'l', 'u', 'r', 'r', 'u', 'l', 'd', 'd', 'r', 'u', 'l', 'u', 'r', 'd', 'l', 'l', 'u', 'r', 'r', 'd', 'l', 'u', 'l', 'd', 'r', 'r', 'd']\n",
            "-----------------------\n",
            "[2, 5, 7, 3, 6, 4, 1, 8, 0] \n",
            "\n",
            "[1, 2, 3, 4, 5, 6, 7, 8, 0]\n",
            "Length of solution:  60\n",
            "Nodes Expanded= 1434\n",
            "-----------------------\n",
            "['l', 'd', 'r', 'r', 'u', 'l', 'l', 'd', 'r', 'u', 'u', 'l', 'd', 'd', 'r', 'u', 'l', 'u', 'r', 'd', 'd', 'r']\n",
            "-----------------------\n",
            "[1, 5, 3, 6, 0, 8, 7, 4, 2] \n",
            "\n",
            "[1, 2, 3, 4, 5, 6, 7, 8, 0]\n",
            "Length of solution:  22\n",
            "Nodes Expanded= 361\n",
            "-----------------------\n",
            "['d', 'r', 'd', 'l', 'u', 'u', 'r', 'd', 'd', 'r', 'u', 'u', 'l', 'd', 'r', 'd', 'l', 'u', 'l', 'u', 'r', 'd', 'l', 'd', 'r', 'u', 'l', 'u', 'r', 'd', 'l', 'd', 'r', 'u', 'l', 'u', 'r', 'd', 'd', 'l', 'u', 'u', 'r', 'd', 'l', 'd', 'r', 'r', 'u', 'l', 'd', 'l', 'u', 'r', 'r', 'd', 'l', 'u', 'l', 'd', 'r', 'u', 'u', 'l', 'd', 'd', 'r', 'u', 'l', 'u', 'r', 'd', 'd', 'r']\n",
            "-----------------------\n",
            "[0, 8, 1, 4, 2, 6, 5, 3, 7] \n",
            "\n",
            "[1, 2, 3, 4, 5, 6, 7, 8, 0]\n",
            "Length of solution:  74\n",
            "Nodes Expanded= 1053\n",
            "-----------------------\n",
            "['r', 'u', 'l', 'd', 'r', 'd', 'l', 'u', 'l', 'u', 'r', 'd', 'r', 'u', 'l', 'd', 'r', 'd', 'l', 'l', 'u', 'r', 'r', 'd', 'l', 'l', 'u', 'r', 'r', 'd', 'l', 'u', 'l', 'u', 'r', 'r', 'd', 'l', 'u', 'l', 'd', 'r', 'r', 'd']\n",
            "-----------------------\n",
            "[6, 7, 8, 4, 0, 1, 3, 5, 2] \n",
            "\n",
            "[1, 2, 3, 4, 5, 6, 7, 8, 0]\n",
            "Length of solution:  44\n",
            "Nodes Expanded= 548\n",
            "-----------------------\n",
            "['l', 'd', 'r', 'r', 'u', 'l', 'd', 'l', 'u', 'r', 'u', 'l', 'd', 'd', 'r', 'r', 'u', 'l', 'u', 'r', 'd', 'd', 'l', 'l', 'u', 'r', 'u', 'r', 'd', 'd', 'l', 'l', 'u', 'r', 'r', 'u', 'l', 'd', 'd', 'r', 'u', 'l', 'u', 'r', 'd', 'l', 'l', 'u', 'r', 'r', 'd', 'l', 'u', 'l', 'd', 'r', 'r', 'd']\n",
            "-----------------------\n",
            "[7, 2, 5, 6, 0, 3, 4, 8, 1] \n",
            "\n",
            "[1, 2, 3, 4, 5, 6, 7, 8, 0]\n",
            "Length of solution:  58\n",
            "Nodes Expanded= 1052\n",
            "-----------------------\n",
            "['l', 'u', 'u', 'l', 'd', 'r', 'u', 'r', 'd', 'l', 'l', 'u', 'r', 'd', 'l', 'd', 'r', 'r', 'u', 'l', 'l', 'd', 'r', 'u', 'u', 'l', 'd', 'd', 'r', 'r', 'u', 'l', 'u', 'r', 'd', 'd', 'l', 'u', 'u', 'r', 'd', 'd', 'l', 'u', 'r', 'u', 'l', 'd', 'd', 'r', 'u', 'l', 'u', 'r', 'd', 'd']\n",
            "-----------------------\n",
            "[5, 2, 8, 6, 1, 3, 7, 4, 0] \n",
            "\n",
            "[1, 2, 3, 4, 5, 6, 7, 8, 0]\n",
            "Length of solution:  56\n",
            "Nodes Expanded= 1176\n",
            "-----------------------\n",
            "['d', 'd', 'l', 'l', 'u', 'u', 'r', 'd', 'l', 'u', 'r', 'd', 'r', 'u', 'l', 'd', 'r', 'd', 'l', 'l', 'u', 'r', 'r', 'u', 'l', 'd', 'd', 'r', 'u', 'l', 'u', 'r', 'd', 'd', 'l', 'l', 'u', 'r', 'd', 'r', 'u', 'l', 'l', 'd', 'r', 'r', 'u', 'l', 'd', 'l', 'u', 'r', 'r', 'd', 'l', 'u', 'l', 'd', 'r', 'r']\n",
            "-----------------------\n",
            "[5, 6, 0, 3, 1, 4, 8, 7, 2] \n",
            "\n",
            "[1, 2, 3, 4, 5, 6, 7, 8, 0]\n",
            "Length of solution:  60\n",
            "Nodes Expanded= 1002\n",
            "-----------------------\n",
            "['l', 'd', 'r', 'd', 'l', 'l', 'u', 'u', 'r', 'r', 'd', 'd', 'l', 'l', 'u', 'u', 'r', 'd', 'l', 'd', 'r', 'u', 'u', 'r', 'd', 'd', 'l', 'u', 'r', 'u', 'l', 'd', 'd', 'r']\n",
            "-----------------------\n",
            "[4, 1, 0, 7, 8, 5, 2, 6, 3] \n",
            "\n",
            "[1, 2, 3, 4, 5, 6, 7, 8, 0]\n",
            "Length of solution:  34\n",
            "Nodes Expanded= 274\n",
            "-----------------------\n",
            "-------\n",
            "[('821536740', 'ullurrdllurrddluruldlurdrulldrurdlldrruldlurrd', 616), ('647205183', 'lurdrdlluurrdluldrdlurdrulldrulurddlurulddrruldlurrdluldrr', 627), ('257364180', 'ulldruulddrruldlurruldrdllururddllurrulddrulurdllurrdluldrrd', 1434), ('153608742', 'ldrrulldruulddrulurddr', 361), ('081426537', 'drdluurddruuldrdlulurdldrulurdldrulurddluurdldrruldlurrdluldruulddrulurddr', 1053), ('678401352', 'ruldrdlulurdruldrdllurrdllurrdlulurrdluldrrd', 548), ('725603481', 'ldrruldlurulddrrulurddllururddllurrulddrulurdllurrdluldrrd', 1052), ('528613740', 'luuldrurdllurdldrrulldruulddrrulurddluurddlurulddrulurdd', 1176), ('560314872', 'ddlluurdlurdruldrdllurrulddrulurddllurdrulldrruldlurrdluldrr', 1002), ('410785263', 'ldrdlluurrddlluurdldruurddlurulddr', 274)]\n"
          ]
        }
      ]
    },
    {
      "cell_type": "code",
      "metadata": {
        "colab": {
          "base_uri": "https://localhost:8080/"
        },
        "id": "rQw9QKTCMvBY",
        "outputId": "ffdd0772-e675-4693-faef-4a552588e1df"
      },
      "source": [
        "### Best First with ManhattanDistance 3x3\n",
        "bestFirstSearchf = lambda n: ManhattanDistance(n.State, GoalState)\n",
        "testProblems = [[8, 2, 1, 5, 3, 6, 7, 4, 0], [6, 4, 7, 2, 0, 5, 1, 8, 3], [2, 5, 7, 3, 6, 4, 1, 8, 0], [1, 5, 3, 6, 0, 8, 7, 4, 2], [0, 8, 1, 4, 2, 6, 5, 3, 7], [6, 7, 8, 4, 0, 1, 3, 5, 2], [7, 2, 5, 6, 0, 3, 4, 8, 1], [5, 2, 8, 6, 1, 3, 7, 4, 0], [5, 6, 0, 3, 1, 4, 8, 7, 2], [4, 1, 0, 7, 8, 5, 2, 6, 3]]\n",
        "\n",
        "Solutions = []\n",
        "for s in testProblems:\n",
        "  TileSliding.INITIAL = s\n",
        "  ret, cost = BestFirstSearch(TileSliding, bestFirstSearchf)\n",
        "  sol = Solution(ret)\n",
        "  print (sol)\n",
        "  print (\"-----------------------\")\n",
        "  print (TileSliding.INITIAL,'\\n')\n",
        "  print (ApplyMoves(sol, TileSliding.INITIAL))\n",
        "  print (\"Length of solution: \", len(sol))\n",
        "  print (\"Nodes Expanded=\", cost)\n",
        "  print (\"-----------------------\")\n",
        "  Solutions.append((''.join(map(str, s)), ''.join(sol), cost))\n",
        "print (\"-------\")\n",
        "print (Solutions)"
      ],
      "execution_count": null,
      "outputs": [
        {
          "output_type": "stream",
          "name": "stdout",
          "text": [
            "['u', 'l', 'l', 'u', 'r', 'r', 'd', 'l', 'd', 'l', 'u', 'r', 'd', 'l', 'u', 'r', 'r', 'd', 'l', 'l', 'u', 'u', 'r', 'd', 'd', 'l', 'u', 'r', 'u', 'l', 'd', 'd', 'r', 'u', 'l', 'u', 'r', 'd', 'd', 'r']\n",
            "-----------------------\n",
            "[8, 2, 1, 5, 3, 6, 7, 4, 0] \n",
            "\n",
            "[1, 2, 3, 4, 5, 6, 7, 8, 0]\n",
            "Length of solution:  40\n",
            "Nodes Expanded= 399\n",
            "-----------------------\n",
            "['u', 'l', 'd', 'r', 'r', 'u', 'l', 'd', 'r', 'd', 'l', 'u', 'u', 'l', 'd', 'd', 'r', 'u', 'r', 'u', 'l', 'd', 'd', 'r', 'u', 'u', 'l', 'd', 'l', 'u', 'r', 'd', 'r', 'd', 'l', 'l', 'u', 'u', 'r', 'd', 'l', 'd', 'r', 'r']\n",
            "-----------------------\n",
            "[6, 4, 7, 2, 0, 5, 1, 8, 3] \n",
            "\n",
            "[1, 2, 3, 4, 5, 6, 7, 8, 0]\n",
            "Length of solution:  44\n",
            "Nodes Expanded= 479\n",
            "-----------------------\n",
            "['u', 'l', 'u', 'l', 'd', 'd', 'r', 'r', 'u', 'u', 'l', 'l', 'd', 'r', 'd', 'l', 'u', 'r', 'r', 'd', 'l', 'u', 'l', 'd', 'r', 'r', 'u', 'l', 'u', 'r', 'd', 'l', 'l', 'u', 'r', 'r', 'd', 'l', 'u', 'l', 'd', 'r', 'r', 'd']\n",
            "-----------------------\n",
            "[2, 5, 7, 3, 6, 4, 1, 8, 0] \n",
            "\n",
            "[1, 2, 3, 4, 5, 6, 7, 8, 0]\n",
            "Length of solution:  44\n",
            "Nodes Expanded= 406\n",
            "-----------------------\n",
            "['d', 'r', 'u', 'l', 'd', 'r', 'u', 'l', 'u', 'r', 'd', 'd', 'l', 'u', 'r', 'u', 'l', 'd', 'l', 'u', 'r', 'r', 'd', 'l', 'd', 'r', 'u', 'u', 'l', 'l', 'd', 'r', 'r', 'u', 'l', 'd', 'l', 'u', 'r', 'r', 'd', 'l', 'u', 'l', 'd', 'r', 'r', 'd']\n",
            "-----------------------\n",
            "[1, 5, 3, 6, 0, 8, 7, 4, 2] \n",
            "\n",
            "[1, 2, 3, 4, 5, 6, 7, 8, 0]\n",
            "Length of solution:  48\n",
            "Nodes Expanded= 411\n",
            "-----------------------\n",
            "['r', 'd', 'd', 'l', 'u', 'u', 'r', 'd', 'l', 'd', 'r', 'u', 'u', 'l', 'd', 'd', 'r', 'r', 'u', 'l', 'l', 'u', 'r', 'r', 'd', 'l', 'd', 'l', 'u', 'r', 'r', 'd', 'l', 'l', 'u', 'r', 'u', 'l', 'd', 'r', 'd', 'r', 'u', 'u', 'l', 'l', 'd', 'r', 'u', 'r', 'd', 'd']\n",
            "-----------------------\n",
            "[0, 8, 1, 4, 2, 6, 5, 3, 7] \n",
            "\n",
            "[1, 2, 3, 4, 5, 6, 7, 8, 0]\n",
            "Length of solution:  52\n",
            "Nodes Expanded= 508\n",
            "-----------------------\n",
            "['u', 'r', 'd', 'd', 'l', 'u', 'u', 'r', 'd', 'd', 'l', 'l', 'u', 'u', 'r', 'd', 'd', 'r', 'u', 'l', 'u', 'r', 'd', 'd', 'l', 'u', 'l', 'd', 'r', 'u', 'r', 'd', 'l', 'l', 'u', 'r', 'r', 'd', 'l', 'u', 'l', 'd', 'r', 'r']\n",
            "-----------------------\n",
            "[6, 7, 8, 4, 0, 1, 3, 5, 2] \n",
            "\n",
            "[1, 2, 3, 4, 5, 6, 7, 8, 0]\n",
            "Length of solution:  44\n",
            "Nodes Expanded= 93\n",
            "-----------------------\n",
            "['l', 'u', 'r', 'r', 'd', 'l', 'u', 'l', 'd', 'd', 'r', 'r', 'u', 'l', 'd', 'l', 'u', 'u', 'r', 'd', 'r', 'd', 'l', 'l', 'u', 'u', 'r', 'd', 'd', 'l', 'u', 'r', 'u', 'l', 'd', 'd', 'r', 'u', 'l', 'u', 'r', 'd', 'd', 'r']\n",
            "-----------------------\n",
            "[7, 2, 5, 6, 0, 3, 4, 8, 1] \n",
            "\n",
            "[1, 2, 3, 4, 5, 6, 7, 8, 0]\n",
            "Length of solution:  44\n",
            "Nodes Expanded= 390\n",
            "-----------------------\n",
            "['u', 'u', 'l', 'd', 'l', 'u', 'r', 'd', 'r', 'd', 'l', 'u', 'u', 'r', 'd', 'l', 'l', 'd', 'r', 'r', 'u', 'l', 'd', 'l', 'u', 'r', 'r', 'd']\n",
            "-----------------------\n",
            "[5, 2, 8, 6, 1, 3, 7, 4, 0] \n",
            "\n",
            "[1, 2, 3, 4, 5, 6, 7, 8, 0]\n",
            "Length of solution:  28\n",
            "Nodes Expanded= 122\n",
            "-----------------------\n",
            "['l', 'd', 'l', 'u', 'r', 'd', 'r', 'u', 'l', 'd', 'l', 'd', 'r', 'r', 'u', 'l', 'd', 'l', 'u', 'u', 'r', 'd', 'd', 'l', 'u', 'r', 'r', 'd', 'l', 'l', 'u', 'u', 'r', 'd', 'd', 'l', 'u', 'r', 'u', 'l', 'd', 'd', 'r', 'r']\n",
            "-----------------------\n",
            "[5, 6, 0, 3, 1, 4, 8, 7, 2] \n",
            "\n",
            "[1, 2, 3, 4, 5, 6, 7, 8, 0]\n",
            "Length of solution:  44\n",
            "Nodes Expanded= 362\n",
            "-----------------------\n",
            "['d', 'd', 'l', 'l', 'u', 'u', 'r', 'r', 'd', 'd', 'l', 'u', 'u', 'r', 'd', 'd', 'l', 'u', 'r', 'u', 'l', 'd', 'd', 'r']\n",
            "-----------------------\n",
            "[4, 1, 0, 7, 8, 5, 2, 6, 3] \n",
            "\n",
            "[1, 2, 3, 4, 5, 6, 7, 8, 0]\n",
            "Length of solution:  24\n",
            "Nodes Expanded= 79\n",
            "-----------------------\n",
            "-------\n",
            "[('821536740', 'ullurrdldlurdlurrdlluurddlurulddrulurddr', 399), ('647205183', 'uldrruldrdluulddrurulddruuldlurdrdlluurdldrr', 479), ('257364180', 'ululddrruulldrdlurrdluldrrulurdllurrdluldrrd', 406), ('153608742', 'druldrulurddluruldlurrdldruulldrruldlurrdluldrrd', 411), ('081426537', 'rddluurdldruulddrrullurrdldlurrdlluruldrdruulldrurdd', 508), ('678401352', 'urddluurddlluurddrulurddluldrurdllurrdluldrr', 93), ('725603481', 'lurrdlulddrruldluurdrdlluurddlurulddrulurddr', 390), ('528613740', 'uuldlurdrdluurdlldrruldlurrd', 122), ('560314872', 'ldlurdruldldrruldluurddlurrdlluurddlurulddrr', 362), ('410785263', 'ddlluurrddluurddlurulddr', 79)]\n"
          ]
        }
      ]
    },
    {
      "cell_type": "markdown",
      "metadata": {
        "id": "TFLhS5QmxRz2"
      },
      "source": [
        "# Domain 2"
      ]
    },
    {
      "cell_type": "code",
      "metadata": {
        "id": "PqDD8fsrxXK7"
      },
      "source": [
        "VectorWorldDim = 10\n",
        "VectorWorld = Problem()\n",
        "VectorWorld.INITIAL = [0]\n",
        "VectorWorld.IsGoal = lambda s: s==[3,] or s==(3,)\n",
        "VectorWorld.Actions = lambda s: ['Left', 'Right']\n",
        "##TileSliding.Result=VectorWorldResult\n",
        "VectorWorld.ActionCost = lambda s, a, sPrime: 1"
      ],
      "execution_count": null,
      "outputs": []
    },
    {
      "cell_type": "code",
      "metadata": {
        "id": "uWNR8AQJyCN7"
      },
      "source": [
        "def VectorWorldResult(state, action):\n",
        "  if action=='Left':\n",
        "    return [(state[0]+VectorWorldDim-1)%VectorWorldDim]\n",
        "  else:\n",
        "    return [(state[0]+1)%VectorWorldDim]\n",
        "VectorWorld.Result=VectorWorldResult\n"
      ],
      "execution_count": null,
      "outputs": []
    },
    {
      "cell_type": "code",
      "metadata": {
        "colab": {
          "base_uri": "https://localhost:8080/"
        },
        "id": "Ox26cyPP2xba",
        "outputId": "106ec2ec-090b-4243-dee9-02577dc95f55"
      },
      "source": [
        "print (VectorWorld.IsGoal((3,)))"
      ],
      "execution_count": null,
      "outputs": [
        {
          "output_type": "stream",
          "name": "stdout",
          "text": [
            "True\n"
          ]
        }
      ]
    },
    {
      "cell_type": "code",
      "metadata": {
        "colab": {
          "base_uri": "https://localhost:8080/"
        },
        "id": "SBfeM9Vbykci",
        "outputId": "48488181-9b46-4f66-a854-6f09d5c135a9"
      },
      "source": [
        "ret, cost = BreadthFirstSearch(VectorWorld)\n",
        "print (\"ret=\", ret)\n",
        "sol = Solution(ret)\n",
        "print (sol)\n"
      ],
      "execution_count": null,
      "outputs": [
        {
          "output_type": "stream",
          "name": "stdout",
          "text": [
            "ret= [3], Right\n",
            "['Right', 'Right', 'Right']\n"
          ]
        }
      ]
    },
    {
      "cell_type": "code",
      "metadata": {
        "id": "dAbJ75Ym4WmP"
      },
      "source": [
        "VectorWorld.INITIAL = [8]"
      ],
      "execution_count": null,
      "outputs": []
    },
    {
      "cell_type": "code",
      "metadata": {
        "colab": {
          "base_uri": "https://localhost:8080/"
        },
        "id": "QGO1VglP4Zq6",
        "outputId": "52922169-1e50-474e-c744-5d0302a00983"
      },
      "source": [
        "ret, cost = BreadthFirstSearch(VectorWorld)\n",
        "print (\"ret=\", ret)\n",
        "sol = Solution(ret)\n",
        "print (sol)"
      ],
      "execution_count": null,
      "outputs": [
        {
          "output_type": "stream",
          "name": "stdout",
          "text": [
            "ret= [3], Left\n",
            "['Left', 'Left', 'Left', 'Left', 'Left']\n"
          ]
        }
      ]
    },
    {
      "cell_type": "markdown",
      "source": [
        "4x4 Problems"
      ],
      "metadata": {
        "id": "WmL4rNjoc8ZN"
      }
    },
    {
      "cell_type": "code",
      "source": [
        "#initialize dimensions, initial state, goal state, and actions\n",
        "StateDimension=4\n",
        "InitialState = [1,2,3,4,5,6,0,7,8,9,10,11,12,13,14,15]\n",
        "GoalState=[1,2,3,4,5,6,7,8,9,10,11,12,13,14,15,0]\n",
        "Actions = lambda s: ['u', 'd', 'l', 'r']\n",
        "Opposite=dict([('u','d'),('d','u'),('l','r'),('r','l'), (None, None)])"
      ],
      "metadata": {
        "id": "oy3CP6nwxElf"
      },
      "execution_count": null,
      "outputs": []
    },
    {
      "cell_type": "code",
      "source": [
        "TileSliding = Problem()\n",
        "TileSliding.INITIAL = InitialState\n",
        "TileSliding.IsGoal = lambda s: s==(1,2,3,4,5,6,7,8,9,10,11,12,13,14,15,0)\n",
        "TileSliding.Actions = Actions\n",
        "TileSliding.Result=Result\n",
        "TileSliding.ActionCost = lambda s, a, sPrime: 1\n",
        "print( TileSliding.IsGoal((1,2,3,4,5,6,7,8,9,10,11,12,13,14,15,0)) )\n",
        "print( Node(InitialState) )\n",
        "print(1+TileSliding.ActionCost(1,2,3))"
      ],
      "metadata": {
        "colab": {
          "base_uri": "https://localhost:8080/"
        },
        "id": "OIcHt9ATgayV",
        "outputId": "d5e994d9-bbb0-43b3-cbeb-6ee66b520422"
      },
      "execution_count": null,
      "outputs": [
        {
          "output_type": "stream",
          "name": "stdout",
          "text": [
            "True\n",
            "[1, 2, 3, 4, 5, 6, 0, 7, 8, 9, 10, 11, 12, 13, 14, 15], <none>\n",
            "2\n"
          ]
        }
      ]
    },
    {
      "cell_type": "code",
      "source": [
        "TileSliding.INITIAL = [1,2,3,4,5,0,6,7,8,9,10,11,12,13,14,15]\n",
        "ret, cost = BreadthFirstSearch(TileSliding)\n",
        "print (ret, cost)"
      ],
      "metadata": {
        "colab": {
          "base_uri": "https://localhost:8080/"
        },
        "id": "Xlx_5WbhgzIt",
        "outputId": "e3d766cb-d6b2-4e64-8fe5-e87795b3c29d"
      },
      "execution_count": null,
      "outputs": [
        {
          "output_type": "stream",
          "name": "stdout",
          "text": [
            "None 500001\n"
          ]
        }
      ]
    },
    {
      "cell_type": "code",
      "source": [
        "UniformCostF = lambda n: n.PathCost\n",
        "AStarF = lambda n: n.PathCost+ManhattanDistance(n.State, GoalState)\n",
        "TileSliding.INITIAL = [1,2,3,4,5,0,6,7,8,9,10,11,12,13,14,15]\n",
        "ret, cost = BestFirstSearch(TileSliding, UniformCostF)\n",
        "print (ret)\n",
        "sol = Solution(ret)\n",
        "print (sol)\n",
        "print (TileSliding.INITIAL)\n",
        "print (ApplyMoves(sol, TileSliding.INITIAL))\n",
        "print (\"Nodes Expanded=\", cost)"
      ],
      "metadata": {
        "colab": {
          "base_uri": "https://localhost:8080/"
        },
        "id": "divOcoR_hOu_",
        "outputId": "a94096db-7bbb-4d0f-8bf8-626e4e828f94"
      },
      "execution_count": null,
      "outputs": [
        {
          "output_type": "stream",
          "name": "stdout",
          "text": [
            "None\n",
            "[]\n",
            "[1, 2, 3, 4, 5, 0, 6, 7, 8, 9, 10, 11, 12, 13, 14, 15]\n",
            "[1, 2, 3, 4, 5, 0, 6, 7, 8, 9, 10, 11, 12, 13, 14, 15]\n",
            "Nodes Expanded= 500001\n"
          ]
        }
      ]
    },
    {
      "cell_type": "code",
      "source": [
        "state2, sol2 = RandomWalk(GoalState, 10)\n",
        "PrintState(state2)\n",
        "print (sol2)\n",
        "print(ReverseMoves(sol2))\n",
        "PrintState (ApplyMoves(ReverseMoves(sol2), state2))"
      ],
      "metadata": {
        "colab": {
          "base_uri": "https://localhost:8080/"
        },
        "id": "Cv9w-XhtgBlB",
        "outputId": "97b2638d-e69d-40d8-8e34-238935985ce3"
      },
      "execution_count": null,
      "outputs": [
        {
          "output_type": "stream",
          "name": "stdout",
          "text": [
            "[1, 2, 3, 4]\n",
            "[5, 6, 14, 7]\n",
            "[9, 11, 0, 8]\n",
            "[13, 10, 15, 12]\n",
            "['l', 'l', 'u', 'r', 'd', 'r', 'u', 'u', 'l', 'd']\n",
            "['u', 'r', 'd', 'd', 'l', 'u', 'l', 'd', 'r', 'r']\n",
            "[1, 2, 3, 4]\n",
            "[5, 6, 7, 8]\n",
            "[9, 10, 11, 12]\n",
            "[13, 14, 15, 0]\n"
          ]
        }
      ]
    },
    {
      "cell_type": "code",
      "source": [
        "TileSliding.INITIAL = state2\n",
        "ret, cost = BreadthFirstSearch(TileSliding)\n",
        "print (ret)\n",
        "sol2 = Solution(ret)\n",
        "print (sol2)\n",
        "print (TileSliding.INITIAL)\n",
        "print (ApplyMoves(sol2, TileSliding.INITIAL))\n",
        "print (\"Length of solution: \", len(sol2))\n",
        "print (\"Nodes Expanded=\", cost)"
      ],
      "metadata": {
        "colab": {
          "base_uri": "https://localhost:8080/"
        },
        "id": "94Upl_hWhjCo",
        "outputId": "3c6445cc-8c39-46e1-8ac2-1abd4bbb150d"
      },
      "execution_count": null,
      "outputs": [
        {
          "output_type": "stream",
          "name": "stdout",
          "text": [
            "[1, 2, 3, 4, 5, 6, 7, 8, 9, 10, 11, 12, 13, 14, 15, 0], r\n",
            "['u', 'r', 'd', 'd', 'l', 'u', 'l', 'd', 'r', 'r']\n",
            "[1, 2, 3, 4, 5, 6, 14, 7, 9, 11, 0, 8, 13, 10, 15, 12]\n",
            "[1, 2, 3, 4, 5, 6, 7, 8, 9, 10, 11, 12, 13, 14, 15, 0]\n",
            "Length of solution:  10\n",
            "Nodes Expanded= 1898\n"
          ]
        }
      ]
    },
    {
      "cell_type": "code",
      "source": [
        "UniformCostF = lambda n: n.PathCost\n",
        "TileSliding.INITIAL = state2\n",
        "ret, cost = BestFirstSearch(TileSliding, UniformCostF)\n",
        "print (ret)\n",
        "sol2 = Solution(ret)\n",
        "print (sol2)\n",
        "print (TileSliding.INITIAL)\n",
        "print (ApplyMoves(sol2, TileSliding.INITIAL))\n",
        "print (\"Length of solution: \", len(sol2))\n",
        "print (\"Nodes Expanded=\", cost)"
      ],
      "metadata": {
        "colab": {
          "base_uri": "https://localhost:8080/"
        },
        "id": "GdsDM-ssiO9e",
        "outputId": "6a5e7e98-bf47-4866-e6df-f9bdc01fc993"
      },
      "execution_count": null,
      "outputs": [
        {
          "output_type": "stream",
          "name": "stdout",
          "text": [
            "[1, 2, 3, 4, 5, 6, 7, 8, 9, 10, 11, 12, 13, 14, 15, 0], r\n",
            "['u', 'r', 'd', 'd', 'l', 'u', 'l', 'd', 'r', 'r']\n",
            "[1, 2, 3, 4, 5, 6, 14, 7, 9, 11, 0, 8, 13, 10, 15, 12]\n",
            "[1, 2, 3, 4, 5, 6, 7, 8, 9, 10, 11, 12, 13, 14, 15, 0]\n",
            "Length of solution:  10\n",
            "Nodes Expanded= 5204\n"
          ]
        }
      ]
    },
    {
      "cell_type": "code",
      "source": [
        "findNum = 10\n",
        "randomWalkDistance = 300\n",
        "problemList = []\n",
        "for i in range(10):\n",
        "  state1, sol = RandomWalk(GoalState, 300)\n",
        "  problemList.append(state1)\n",
        "print (problemList)"
      ],
      "metadata": {
        "colab": {
          "base_uri": "https://localhost:8080/"
        },
        "id": "QQnslLNfk7nU",
        "outputId": "2420a9b2-f620-4304-9bd7-6eeae19114af"
      },
      "execution_count": null,
      "outputs": [
        {
          "output_type": "stream",
          "name": "stdout",
          "text": [
            "[[13, 7, 12, 15, 14, 4, 10, 9, 1, 8, 2, 11, 6, 0, 3, 5], [5, 2, 6, 9, 3, 1, 14, 4, 0, 13, 12, 15, 8, 10, 11, 7], [10, 6, 2, 8, 3, 4, 1, 14, 15, 9, 12, 7, 5, 11, 13, 0], [1, 5, 4, 10, 13, 9, 6, 7, 15, 3, 14, 8, 12, 2, 11, 0], [3, 6, 7, 10, 9, 8, 12, 1, 15, 13, 14, 2, 11, 4, 5, 0], [13, 14, 5, 2, 3, 6, 12, 10, 8, 11, 15, 7, 9, 0, 4, 1], [15, 1, 0, 10, 7, 2, 4, 12, 3, 11, 13, 6, 8, 9, 5, 14], [12, 15, 6, 1, 4, 13, 9, 10, 0, 8, 11, 5, 14, 3, 2, 7], [1, 3, 0, 4, 7, 10, 2, 15, 6, 9, 11, 14, 8, 13, 12, 5], [10, 5, 1, 2, 9, 14, 4, 0, 6, 15, 7, 13, 12, 8, 11, 3]]\n"
          ]
        }
      ]
    },
    {
      "cell_type": "code",
      "source": [
        "#Breadth-First Search 4x4\n",
        "testProblems = [[13, 7, 12, 15, 14, 4, 10, 9, 1, 8, 2, 11, 6, 0, 3, 5], [5, 2, 6, 9, 3, 1, 14, 4, 0, 13, 12, 15, 8, 10, 11, 7], [10, 6, 2, 8, 3, 4, 1, 14, 15, 9, 12, 7, 5, 11, 13, 0], [1, 5, 4, 10, 13, 9, 6, 7, 15, 3, 14, 8, 12, 2, 11, 0], [3, 6, 7, 10, 9, 8, 12, 1, 15, 13, 14, 2, 11, 4, 5, 0], [13, 14, 5, 2, 3, 6, 12, 10, 8, 11, 15, 7, 9, 0, 4, 1], [15, 1, 0, 10, 7, 2, 4, 12, 3, 11, 13, 6, 8, 9, 5, 14], [12, 15, 6, 1, 4, 13, 9, 10, 0, 8, 11, 5, 14, 3, 2, 7], [1, 3, 0, 4, 7, 10, 2, 15, 6, 9, 11, 14, 8, 13, 12, 5], [10, 5, 1, 2, 9, 14, 4, 0, 6, 15, 7, 13, 12, 8, 11, 3]]\n",
        "\n",
        "Solutions = []\n",
        "for s in testProblems:\n",
        "  TileSliding.INITIAL = s\n",
        "  ret, cost = BreadthFirstSearch(TileSliding)\n",
        "  sol2 = Solution(ret)\n",
        "  print (sol2)\n",
        "  print (\"-----------------------\")\n",
        "  print (TileSliding.INITIAL,'\\n')\n",
        "  print (ApplyMoves(sol2, TileSliding.INITIAL))\n",
        "  print (\"Length of solution: \", len(sol2))\n",
        "  print (\"Nodes Expanded=\", cost)\n",
        "  print (\"-----------------------\")\n",
        "  Solutions.append((''.join(map(str, s)), ''.join(sol2), cost))\n",
        "print (\"-------\")\n",
        "print (Solutions)"
      ],
      "metadata": {
        "colab": {
          "base_uri": "https://localhost:8080/"
        },
        "id": "Co6ouHrSlFM6",
        "outputId": "0d15035f-b364-47fc-c575-302158a3befa"
      },
      "execution_count": null,
      "outputs": [
        {
          "output_type": "stream",
          "name": "stdout",
          "text": [
            "[]\n",
            "-----------------------\n",
            "[13, 7, 12, 15, 14, 4, 10, 9, 1, 8, 2, 11, 6, 0, 3, 5] \n",
            "\n",
            "[13, 7, 12, 15, 14, 4, 10, 9, 1, 8, 2, 11, 6, 0, 3, 5]\n",
            "Length of solution:  0\n",
            "Nodes Expanded= 500001\n",
            "-----------------------\n",
            "[]\n",
            "-----------------------\n",
            "[5, 2, 6, 9, 3, 1, 14, 4, 0, 13, 12, 15, 8, 10, 11, 7] \n",
            "\n",
            "[5, 2, 6, 9, 3, 1, 14, 4, 0, 13, 12, 15, 8, 10, 11, 7]\n",
            "Length of solution:  0\n",
            "Nodes Expanded= 500001\n",
            "-----------------------\n",
            "[]\n",
            "-----------------------\n",
            "[10, 6, 2, 8, 3, 4, 1, 14, 15, 9, 12, 7, 5, 11, 13, 0] \n",
            "\n",
            "[10, 6, 2, 8, 3, 4, 1, 14, 15, 9, 12, 7, 5, 11, 13, 0]\n",
            "Length of solution:  0\n",
            "Nodes Expanded= 500001\n",
            "-----------------------\n",
            "[]\n",
            "-----------------------\n",
            "[1, 5, 4, 10, 13, 9, 6, 7, 15, 3, 14, 8, 12, 2, 11, 0] \n",
            "\n",
            "[1, 5, 4, 10, 13, 9, 6, 7, 15, 3, 14, 8, 12, 2, 11, 0]\n",
            "Length of solution:  0\n",
            "Nodes Expanded= 500001\n",
            "-----------------------\n",
            "[]\n",
            "-----------------------\n",
            "[3, 6, 7, 10, 9, 8, 12, 1, 15, 13, 14, 2, 11, 4, 5, 0] \n",
            "\n",
            "[3, 6, 7, 10, 9, 8, 12, 1, 15, 13, 14, 2, 11, 4, 5, 0]\n",
            "Length of solution:  0\n",
            "Nodes Expanded= 500001\n",
            "-----------------------\n",
            "[]\n",
            "-----------------------\n",
            "[13, 14, 5, 2, 3, 6, 12, 10, 8, 11, 15, 7, 9, 0, 4, 1] \n",
            "\n",
            "[13, 14, 5, 2, 3, 6, 12, 10, 8, 11, 15, 7, 9, 0, 4, 1]\n",
            "Length of solution:  0\n",
            "Nodes Expanded= 500001\n",
            "-----------------------\n",
            "[]\n",
            "-----------------------\n",
            "[15, 1, 0, 10, 7, 2, 4, 12, 3, 11, 13, 6, 8, 9, 5, 14] \n",
            "\n",
            "[15, 1, 0, 10, 7, 2, 4, 12, 3, 11, 13, 6, 8, 9, 5, 14]\n",
            "Length of solution:  0\n",
            "Nodes Expanded= 500001\n",
            "-----------------------\n",
            "[]\n",
            "-----------------------\n",
            "[12, 15, 6, 1, 4, 13, 9, 10, 0, 8, 11, 5, 14, 3, 2, 7] \n",
            "\n",
            "[12, 15, 6, 1, 4, 13, 9, 10, 0, 8, 11, 5, 14, 3, 2, 7]\n",
            "Length of solution:  0\n",
            "Nodes Expanded= 500001\n",
            "-----------------------\n",
            "[]\n",
            "-----------------------\n",
            "[1, 3, 0, 4, 7, 10, 2, 15, 6, 9, 11, 14, 8, 13, 12, 5] \n",
            "\n",
            "[1, 3, 0, 4, 7, 10, 2, 15, 6, 9, 11, 14, 8, 13, 12, 5]\n",
            "Length of solution:  0\n",
            "Nodes Expanded= 500001\n",
            "-----------------------\n",
            "[]\n",
            "-----------------------\n",
            "[10, 5, 1, 2, 9, 14, 4, 0, 6, 15, 7, 13, 12, 8, 11, 3] \n",
            "\n",
            "[10, 5, 1, 2, 9, 14, 4, 0, 6, 15, 7, 13, 12, 8, 11, 3]\n",
            "Length of solution:  0\n",
            "Nodes Expanded= 500001\n",
            "-----------------------\n",
            "-------\n",
            "[('1371215144109182116035', '', 500001), ('5269311440131215810117', '', 500001), ('1062834114159127511130', '', 500001), ('1541013967153148122110', '', 500001), ('3671098121151314211450', '', 500001), ('1314523612108111579041', '', 500001), ('1510107241231113689514', '', 500001), ('1215614139100811514327', '', 500001), ('1304710215691114813125', '', 500001), ('1051291440615713128113', '', 500001)]\n"
          ]
        }
      ]
    },
    {
      "cell_type": "code",
      "source": [
        "##UCS 4x4\n",
        "UniformCostF = lambda n: n.PathCost\n",
        "testProblems = [[13, 7, 12, 15, 14, 4, 10, 9, 1, 8, 2, 11, 6, 0, 3, 5], [5, 2, 6, 9, 3, 1, 14, 4, 0, 13, 12, 15, 8, 10, 11, 7], [10, 6, 2, 8, 3, 4, 1, 14, 15, 9, 12, 7, 5, 11, 13, 0], [1, 5, 4, 10, 13, 9, 6, 7, 15, 3, 14, 8, 12, 2, 11, 0], [3, 6, 7, 10, 9, 8, 12, 1, 15, 13, 14, 2, 11, 4, 5, 0], [13, 14, 5, 2, 3, 6, 12, 10, 8, 11, 15, 7, 9, 0, 4, 1], [15, 1, 0, 10, 7, 2, 4, 12, 3, 11, 13, 6, 8, 9, 5, 14], [12, 15, 6, 1, 4, 13, 9, 10, 0, 8, 11, 5, 14, 3, 2, 7], [1, 3, 0, 4, 7, 10, 2, 15, 6, 9, 11, 14, 8, 13, 12, 5], [10, 5, 1, 2, 9, 14, 4, 0, 6, 15, 7, 13, 12, 8, 11, 3]]\n",
        "\n",
        "Solutions = []\n",
        "for s in testProblems:\n",
        "  TileSliding.INITIAL = s\n",
        "  ret, cost = BestFirstSearch(TileSliding, UniformCostF)\n",
        "  sol2 = Solution(ret)\n",
        "  print (sol2)\n",
        "  print (\"-----------------------\")\n",
        "  print (TileSliding.INITIAL,'\\n')\n",
        "  print (ApplyMoves(sol2, TileSliding.INITIAL))\n",
        "  print (\"Length of solution: \", len(sol2))\n",
        "  print (\"Nodes Expanded=\", cost)\n",
        "  print (\"-----------------------\")\n",
        "  Solutions.append((''.join(map(str, s)), ''.join(sol2), cost))\n",
        "print (\"-------\")\n",
        "print (Solutions)"
      ],
      "metadata": {
        "colab": {
          "base_uri": "https://localhost:8080/"
        },
        "id": "wulH9cQUnq2p",
        "outputId": "2e3943ee-08e0-461c-ae58-d6dd01f14b4c"
      },
      "execution_count": null,
      "outputs": [
        {
          "output_type": "stream",
          "name": "stdout",
          "text": [
            "[]\n",
            "-----------------------\n",
            "[13, 7, 12, 15, 14, 4, 10, 9, 1, 8, 2, 11, 6, 0, 3, 5] \n",
            "\n",
            "[13, 7, 12, 15, 14, 4, 10, 9, 1, 8, 2, 11, 6, 0, 3, 5]\n",
            "Length of solution:  0\n",
            "Nodes Expanded= 500001\n",
            "-----------------------\n",
            "[]\n",
            "-----------------------\n",
            "[5, 2, 6, 9, 3, 1, 14, 4, 0, 13, 12, 15, 8, 10, 11, 7] \n",
            "\n",
            "[5, 2, 6, 9, 3, 1, 14, 4, 0, 13, 12, 15, 8, 10, 11, 7]\n",
            "Length of solution:  0\n",
            "Nodes Expanded= 500001\n",
            "-----------------------\n",
            "[]\n",
            "-----------------------\n",
            "[10, 6, 2, 8, 3, 4, 1, 14, 15, 9, 12, 7, 5, 11, 13, 0] \n",
            "\n",
            "[10, 6, 2, 8, 3, 4, 1, 14, 15, 9, 12, 7, 5, 11, 13, 0]\n",
            "Length of solution:  0\n",
            "Nodes Expanded= 500001\n",
            "-----------------------\n",
            "[]\n",
            "-----------------------\n",
            "[1, 5, 4, 10, 13, 9, 6, 7, 15, 3, 14, 8, 12, 2, 11, 0] \n",
            "\n",
            "[1, 5, 4, 10, 13, 9, 6, 7, 15, 3, 14, 8, 12, 2, 11, 0]\n",
            "Length of solution:  0\n",
            "Nodes Expanded= 500001\n",
            "-----------------------\n",
            "[]\n",
            "-----------------------\n",
            "[3, 6, 7, 10, 9, 8, 12, 1, 15, 13, 14, 2, 11, 4, 5, 0] \n",
            "\n",
            "[3, 6, 7, 10, 9, 8, 12, 1, 15, 13, 14, 2, 11, 4, 5, 0]\n",
            "Length of solution:  0\n",
            "Nodes Expanded= 500001\n",
            "-----------------------\n",
            "[]\n",
            "-----------------------\n",
            "[13, 14, 5, 2, 3, 6, 12, 10, 8, 11, 15, 7, 9, 0, 4, 1] \n",
            "\n",
            "[13, 14, 5, 2, 3, 6, 12, 10, 8, 11, 15, 7, 9, 0, 4, 1]\n",
            "Length of solution:  0\n",
            "Nodes Expanded= 500001\n",
            "-----------------------\n",
            "[]\n",
            "-----------------------\n",
            "[15, 1, 0, 10, 7, 2, 4, 12, 3, 11, 13, 6, 8, 9, 5, 14] \n",
            "\n",
            "[15, 1, 0, 10, 7, 2, 4, 12, 3, 11, 13, 6, 8, 9, 5, 14]\n",
            "Length of solution:  0\n",
            "Nodes Expanded= 500001\n",
            "-----------------------\n",
            "[]\n",
            "-----------------------\n",
            "[12, 15, 6, 1, 4, 13, 9, 10, 0, 8, 11, 5, 14, 3, 2, 7] \n",
            "\n",
            "[12, 15, 6, 1, 4, 13, 9, 10, 0, 8, 11, 5, 14, 3, 2, 7]\n",
            "Length of solution:  0\n",
            "Nodes Expanded= 500001\n",
            "-----------------------\n",
            "[]\n",
            "-----------------------\n",
            "[1, 3, 0, 4, 7, 10, 2, 15, 6, 9, 11, 14, 8, 13, 12, 5] \n",
            "\n",
            "[1, 3, 0, 4, 7, 10, 2, 15, 6, 9, 11, 14, 8, 13, 12, 5]\n",
            "Length of solution:  0\n",
            "Nodes Expanded= 500001\n",
            "-----------------------\n",
            "[]\n",
            "-----------------------\n",
            "[10, 5, 1, 2, 9, 14, 4, 0, 6, 15, 7, 13, 12, 8, 11, 3] \n",
            "\n",
            "[10, 5, 1, 2, 9, 14, 4, 0, 6, 15, 7, 13, 12, 8, 11, 3]\n",
            "Length of solution:  0\n",
            "Nodes Expanded= 500001\n",
            "-----------------------\n",
            "-------\n",
            "[('1371215144109182116035', '', 500001), ('5269311440131215810117', '', 500001), ('1062834114159127511130', '', 500001), ('1541013967153148122110', '', 500001), ('3671098121151314211450', '', 500001), ('1314523612108111579041', '', 500001), ('1510107241231113689514', '', 500001), ('1215614139100811514327', '', 500001), ('1304710215691114813125', '', 500001), ('1051291440615713128113', '', 500001)]\n"
          ]
        }
      ]
    },
    {
      "cell_type": "code",
      "source": [
        "##AStar Search Manhattan 4x4\n",
        "AStarFb = lambda n: n.PathCost + ManhattanDistance(n.State, GoalState)\n",
        "testProblems = [[13, 7, 12, 15, 14, 4, 10, 9, 1, 8, 2, 11, 6, 0, 3, 5], [5, 2, 6, 9, 3, 1, 14, 4, 0, 13, 12, 15, 8, 10, 11, 7], [10, 6, 2, 8, 3, 4, 1, 14, 15, 9, 12, 7, 5, 11, 13, 0], [1, 5, 4, 10, 13, 9, 6, 7, 15, 3, 14, 8, 12, 2, 11, 0], [3, 6, 7, 10, 9, 8, 12, 1, 15, 13, 14, 2, 11, 4, 5, 0], [13, 14, 5, 2, 3, 6, 12, 10, 8, 11, 15, 7, 9, 0, 4, 1], [15, 1, 0, 10, 7, 2, 4, 12, 3, 11, 13, 6, 8, 9, 5, 14], [12, 15, 6, 1, 4, 13, 9, 10, 0, 8, 11, 5, 14, 3, 2, 7], [1, 3, 0, 4, 7, 10, 2, 15, 6, 9, 11, 14, 8, 13, 12, 5], [10, 5, 1, 2, 9, 14, 4, 0, 6, 15, 7, 13, 12, 8, 11, 3]]\n",
        "\n",
        "Solutions = []\n",
        "for s in testProblems:\n",
        "  TileSliding.INITIAL = s\n",
        "  ret, cost = BestFirstSearch(TileSliding, AStarF)\n",
        "  sol2 = Solution(ret)\n",
        "  print (sol2)\n",
        "  print (\"-----------------------\")\n",
        "  print (TileSliding.INITIAL,'\\n')\n",
        "  print (ApplyMoves(sol2, TileSliding.INITIAL))\n",
        "  print (\"Length of solution: \", len(sol2))\n",
        "  print (\"Nodes Expanded=\", cost)\n",
        "  print (\"-----------------------\")\n",
        "  Solutions.append((''.join(map(str, s)), ''.join(sol2), cost))\n",
        "print (\"-------\")\n",
        "print (Solutions)"
      ],
      "metadata": {
        "colab": {
          "base_uri": "https://localhost:8080/"
        },
        "id": "tqzmGufFosAa",
        "outputId": "d287df61-0bf3-4c34-fecd-93b02760723e"
      },
      "execution_count": null,
      "outputs": [
        {
          "output_type": "stream",
          "name": "stdout",
          "text": [
            "[]\n",
            "-----------------------\n",
            "[13, 7, 12, 15, 14, 4, 10, 9, 1, 8, 2, 11, 6, 0, 3, 5] \n",
            "\n",
            "[13, 7, 12, 15, 14, 4, 10, 9, 1, 8, 2, 11, 6, 0, 3, 5]\n",
            "Length of solution:  0\n",
            "Nodes Expanded= 500001\n",
            "-----------------------\n",
            "[]\n",
            "-----------------------\n",
            "[5, 2, 6, 9, 3, 1, 14, 4, 0, 13, 12, 15, 8, 10, 11, 7] \n",
            "\n",
            "[5, 2, 6, 9, 3, 1, 14, 4, 0, 13, 12, 15, 8, 10, 11, 7]\n",
            "Length of solution:  0\n",
            "Nodes Expanded= 500001\n",
            "-----------------------\n",
            "[]\n",
            "-----------------------\n",
            "[10, 6, 2, 8, 3, 4, 1, 14, 15, 9, 12, 7, 5, 11, 13, 0] \n",
            "\n",
            "[10, 6, 2, 8, 3, 4, 1, 14, 15, 9, 12, 7, 5, 11, 13, 0]\n",
            "Length of solution:  0\n",
            "Nodes Expanded= 500001\n",
            "-----------------------\n",
            "['l', 'u', 'l', 'd', 'l', 'u', 'u', 'r', 'u', 'r', 'r', 'd', 'l', 'd', 'd', 'l', 'l', 'u', 'u', 'r', 'r', 'u', 'l', 'd', 'd', 'r', 'u', 'r', 'u', 'l', 'l', 'd', 'r', 'r', 'd', 'd', 'l', 'l', 'u', 'r', 'r', 'd']\n",
            "-----------------------\n",
            "[1, 5, 4, 10, 13, 9, 6, 7, 15, 3, 14, 8, 12, 2, 11, 0] \n",
            "\n",
            "[1, 2, 3, 4, 5, 6, 7, 8, 9, 10, 11, 12, 13, 14, 15, 0]\n",
            "Length of solution:  42\n",
            "Nodes Expanded= 188446\n",
            "-----------------------\n",
            "[]\n",
            "-----------------------\n",
            "[3, 6, 7, 10, 9, 8, 12, 1, 15, 13, 14, 2, 11, 4, 5, 0] \n",
            "\n",
            "[3, 6, 7, 10, 9, 8, 12, 1, 15, 13, 14, 2, 11, 4, 5, 0]\n",
            "Length of solution:  0\n",
            "Nodes Expanded= 500001\n",
            "-----------------------\n",
            "[]\n",
            "-----------------------\n",
            "[13, 14, 5, 2, 3, 6, 12, 10, 8, 11, 15, 7, 9, 0, 4, 1] \n",
            "\n",
            "[13, 14, 5, 2, 3, 6, 12, 10, 8, 11, 15, 7, 9, 0, 4, 1]\n",
            "Length of solution:  0\n",
            "Nodes Expanded= 500001\n",
            "-----------------------\n",
            "[]\n",
            "-----------------------\n",
            "[15, 1, 0, 10, 7, 2, 4, 12, 3, 11, 13, 6, 8, 9, 5, 14] \n",
            "\n",
            "[15, 1, 0, 10, 7, 2, 4, 12, 3, 11, 13, 6, 8, 9, 5, 14]\n",
            "Length of solution:  0\n",
            "Nodes Expanded= 500001\n",
            "-----------------------\n",
            "[]\n",
            "-----------------------\n",
            "[12, 15, 6, 1, 4, 13, 9, 10, 0, 8, 11, 5, 14, 3, 2, 7] \n",
            "\n",
            "[12, 15, 6, 1, 4, 13, 9, 10, 0, 8, 11, 5, 14, 3, 2, 7]\n",
            "Length of solution:  0\n",
            "Nodes Expanded= 500001\n",
            "-----------------------\n",
            "[]\n",
            "-----------------------\n",
            "[1, 3, 0, 4, 7, 10, 2, 15, 6, 9, 11, 14, 8, 13, 12, 5] \n",
            "\n",
            "[1, 3, 0, 4, 7, 10, 2, 15, 6, 9, 11, 14, 8, 13, 12, 5]\n",
            "Length of solution:  0\n",
            "Nodes Expanded= 500001\n",
            "-----------------------\n",
            "['l', 'd', 'r', 'd', 'l', 'l', 'l', 'u', 'r', 'r', 'r', 'd', 'l', 'l', 'u', 'l', 'd', 'r', 'u', 'u', 'l', 'u', 'r', 'r', 'r', 'd', 'l', 'd', 'r', 'd', 'l', 'l', 'u', 'u', 'l', 'd', 'r', 'u', 'l', 'u', 'r', 'r', 'd', 'r', 'd', 'd']\n",
            "-----------------------\n",
            "[10, 5, 1, 2, 9, 14, 4, 0, 6, 15, 7, 13, 12, 8, 11, 3] \n",
            "\n",
            "[1, 2, 3, 4, 5, 6, 7, 8, 9, 10, 11, 12, 13, 14, 15, 0]\n",
            "Length of solution:  46\n",
            "Nodes Expanded= 406745\n",
            "-----------------------\n",
            "-------\n",
            "[('1371215144109182116035', '', 500001), ('5269311440131215810117', '', 500001), ('1062834114159127511130', '', 500001), ('1541013967153148122110', 'luldluururrdlddlluurrulddrurulldrrddllurrd', 188446), ('3671098121151314211450', '', 500001), ('1314523612108111579041', '', 500001), ('1510107241231113689514', '', 500001), ('1215614139100811514327', '', 500001), ('1304710215691114813125', '', 500001), ('1051291440615713128113', 'ldrdlllurrrdlluldruulurrrdldrdlluuldrulurrdrdd', 406745)]\n"
          ]
        }
      ]
    },
    {
      "cell_type": "code",
      "source": [
        "#AStar OutOfPlace 4x4\n",
        "AStarFb = lambda n: n.PathCost + OutOfPlace(n.State, GoalState)\n",
        "testProblems = [[13, 7, 12, 15, 14, 4, 10, 9, 1, 8, 2, 11, 6, 0, 3, 5], [5, 2, 6, 9, 3, 1, 14, 4, 0, 13, 12, 15, 8, 10, 11, 7], [10, 6, 2, 8, 3, 4, 1, 14, 15, 9, 12, 7, 5, 11, 13, 0], [1, 5, 4, 10, 13, 9, 6, 7, 15, 3, 14, 8, 12, 2, 11, 0], [3, 6, 7, 10, 9, 8, 12, 1, 15, 13, 14, 2, 11, 4, 5, 0], [13, 14, 5, 2, 3, 6, 12, 10, 8, 11, 15, 7, 9, 0, 4, 1], [15, 1, 0, 10, 7, 2, 4, 12, 3, 11, 13, 6, 8, 9, 5, 14], [12, 15, 6, 1, 4, 13, 9, 10, 0, 8, 11, 5, 14, 3, 2, 7], [1, 3, 0, 4, 7, 10, 2, 15, 6, 9, 11, 14, 8, 13, 12, 5], [10, 5, 1, 2, 9, 14, 4, 0, 6, 15, 7, 13, 12, 8, 11, 3]]\n",
        "\n",
        "Solutions = []\n",
        "for s in testProblems:\n",
        "  TileSliding.INITIAL = s\n",
        "  ret, cost = BestFirstSearch(TileSliding, AStarFb)\n",
        "  sol2 = Solution(ret)\n",
        "  print (sol2)\n",
        "  print (\"-----------------------\")\n",
        "  print (TileSliding.INITIAL,'\\n')\n",
        "  print (ApplyMoves(sol2, TileSliding.INITIAL))\n",
        "  print (\"Length of solution: \", len(sol2))\n",
        "  print (\"Nodes Expanded=\", cost)\n",
        "  print (\"-----------------------\")\n",
        "  Solutions.append((''.join(map(str, s)), ''.join(sol2), cost))\n",
        "print (\"-------\")\n",
        "print (Solutions)"
      ],
      "metadata": {
        "colab": {
          "base_uri": "https://localhost:8080/"
        },
        "id": "M9USz5PcrAFV",
        "outputId": "6c77465f-11fa-47c5-ed7e-fe961a5c9d43"
      },
      "execution_count": null,
      "outputs": [
        {
          "output_type": "stream",
          "name": "stdout",
          "text": [
            "[]\n",
            "-----------------------\n",
            "[13, 7, 12, 15, 14, 4, 10, 9, 1, 8, 2, 11, 6, 0, 3, 5] \n",
            "\n",
            "[13, 7, 12, 15, 14, 4, 10, 9, 1, 8, 2, 11, 6, 0, 3, 5]\n",
            "Length of solution:  0\n",
            "Nodes Expanded= 500001\n",
            "-----------------------\n",
            "[]\n",
            "-----------------------\n",
            "[5, 2, 6, 9, 3, 1, 14, 4, 0, 13, 12, 15, 8, 10, 11, 7] \n",
            "\n",
            "[5, 2, 6, 9, 3, 1, 14, 4, 0, 13, 12, 15, 8, 10, 11, 7]\n",
            "Length of solution:  0\n",
            "Nodes Expanded= 500001\n",
            "-----------------------\n",
            "[]\n",
            "-----------------------\n",
            "[10, 6, 2, 8, 3, 4, 1, 14, 15, 9, 12, 7, 5, 11, 13, 0] \n",
            "\n",
            "[10, 6, 2, 8, 3, 4, 1, 14, 15, 9, 12, 7, 5, 11, 13, 0]\n",
            "Length of solution:  0\n",
            "Nodes Expanded= 500001\n",
            "-----------------------\n",
            "[]\n",
            "-----------------------\n",
            "[1, 5, 4, 10, 13, 9, 6, 7, 15, 3, 14, 8, 12, 2, 11, 0] \n",
            "\n",
            "[1, 5, 4, 10, 13, 9, 6, 7, 15, 3, 14, 8, 12, 2, 11, 0]\n",
            "Length of solution:  0\n",
            "Nodes Expanded= 500001\n",
            "-----------------------\n",
            "[]\n",
            "-----------------------\n",
            "[3, 6, 7, 10, 9, 8, 12, 1, 15, 13, 14, 2, 11, 4, 5, 0] \n",
            "\n",
            "[3, 6, 7, 10, 9, 8, 12, 1, 15, 13, 14, 2, 11, 4, 5, 0]\n",
            "Length of solution:  0\n",
            "Nodes Expanded= 500001\n",
            "-----------------------\n",
            "[]\n",
            "-----------------------\n",
            "[13, 14, 5, 2, 3, 6, 12, 10, 8, 11, 15, 7, 9, 0, 4, 1] \n",
            "\n",
            "[13, 14, 5, 2, 3, 6, 12, 10, 8, 11, 15, 7, 9, 0, 4, 1]\n",
            "Length of solution:  0\n",
            "Nodes Expanded= 500001\n",
            "-----------------------\n",
            "[]\n",
            "-----------------------\n",
            "[15, 1, 0, 10, 7, 2, 4, 12, 3, 11, 13, 6, 8, 9, 5, 14] \n",
            "\n",
            "[15, 1, 0, 10, 7, 2, 4, 12, 3, 11, 13, 6, 8, 9, 5, 14]\n",
            "Length of solution:  0\n",
            "Nodes Expanded= 500001\n",
            "-----------------------\n",
            "[]\n",
            "-----------------------\n",
            "[12, 15, 6, 1, 4, 13, 9, 10, 0, 8, 11, 5, 14, 3, 2, 7] \n",
            "\n",
            "[12, 15, 6, 1, 4, 13, 9, 10, 0, 8, 11, 5, 14, 3, 2, 7]\n",
            "Length of solution:  0\n",
            "Nodes Expanded= 500001\n",
            "-----------------------\n",
            "[]\n",
            "-----------------------\n",
            "[1, 3, 0, 4, 7, 10, 2, 15, 6, 9, 11, 14, 8, 13, 12, 5] \n",
            "\n",
            "[1, 3, 0, 4, 7, 10, 2, 15, 6, 9, 11, 14, 8, 13, 12, 5]\n",
            "Length of solution:  0\n",
            "Nodes Expanded= 500001\n",
            "-----------------------\n",
            "[]\n",
            "-----------------------\n",
            "[10, 5, 1, 2, 9, 14, 4, 0, 6, 15, 7, 13, 12, 8, 11, 3] \n",
            "\n",
            "[10, 5, 1, 2, 9, 14, 4, 0, 6, 15, 7, 13, 12, 8, 11, 3]\n",
            "Length of solution:  0\n",
            "Nodes Expanded= 500001\n",
            "-----------------------\n",
            "-------\n",
            "[('1371215144109182116035', '', 500001), ('5269311440131215810117', '', 500001), ('1062834114159127511130', '', 500001), ('1541013967153148122110', '', 500001), ('3671098121151314211450', '', 500001), ('1314523612108111579041', '', 500001), ('1510107241231113689514', '', 500001), ('1215614139100811514327', '', 500001), ('1304710215691114813125', '', 500001), ('1051291440615713128113', '', 500001)]\n"
          ]
        }
      ]
    },
    {
      "cell_type": "code",
      "source": [
        "#Best First OutOfPlace 4x4\n",
        "bestFirstSearchf = lambda n: OutOfPlace(n.State, GoalState)\n",
        "testProblems = [[13, 7, 12, 15, 14, 4, 10, 9, 1, 8, 2, 11, 6, 0, 3, 5], [5, 2, 6, 9, 3, 1, 14, 4, 0, 13, 12, 15, 8, 10, 11, 7], [10, 6, 2, 8, 3, 4, 1, 14, 15, 9, 12, 7, 5, 11, 13, 0], [1, 5, 4, 10, 13, 9, 6, 7, 15, 3, 14, 8, 12, 2, 11, 0], [3, 6, 7, 10, 9, 8, 12, 1, 15, 13, 14, 2, 11, 4, 5, 0], [13, 14, 5, 2, 3, 6, 12, 10, 8, 11, 15, 7, 9, 0, 4, 1], [15, 1, 0, 10, 7, 2, 4, 12, 3, 11, 13, 6, 8, 9, 5, 14], [12, 15, 6, 1, 4, 13, 9, 10, 0, 8, 11, 5, 14, 3, 2, 7], [1, 3, 0, 4, 7, 10, 2, 15, 6, 9, 11, 14, 8, 13, 12, 5], [10, 5, 1, 2, 9, 14, 4, 0, 6, 15, 7, 13, 12, 8, 11, 3]]\n",
        "\n",
        "Solutions = []\n",
        "for s in testProblems:\n",
        "  TileSliding.INITIAL = s\n",
        "  ret, cost = BestFirstSearch(TileSliding, bestFirstSearchf)\n",
        "  sol2 = Solution(ret)\n",
        "  print (sol2)\n",
        "  print (\"-----------------------\")\n",
        "  print (TileSliding.INITIAL,'\\n')\n",
        "  print (ApplyMoves(sol2, TileSliding.INITIAL))\n",
        "  print (\"Length of solution: \", len(sol2))\n",
        "  print (\"Nodes Expanded=\", cost)\n",
        "  print (\"-----------------------\")\n",
        "  Solutions.append((''.join(map(str, s)), ''.join(sol2), cost))\n",
        "print (\"-------\")\n",
        "print (Solutions)"
      ],
      "metadata": {
        "colab": {
          "base_uri": "https://localhost:8080/"
        },
        "id": "CR74bWeVvlI-",
        "outputId": "170461be-9b74-4607-db75-2b361b8d0294"
      },
      "execution_count": null,
      "outputs": [
        {
          "output_type": "stream",
          "name": "stdout",
          "text": [
            "['r', 'u', 'r', 'u', 'l', 'u', 'l', 'd', 'r', 'u', 'l', 'd', 'l', 'd', 'r', 'u', 'u', 'l', 'd', 'd', 'd', 'r', 'u', 'l', 'u', 'r', 'd', 'r', 'd', 'r', 'u', 'u', 'u', 'l', 'd', 'd', 'l', 'u', 'r', 'u', 'l', 'd', 'd', 'd', 'r', 'u', 'r', 'd', 'l', 'l', 'u', 'r', 'r', 'u', 'l', 'd', 'r', 'd', 'l', 'u', 'r', 'u', 'l', 'l', 'l', 'd', 'r', 'u', 'r', 'r', 'd', 'l', 'l', 'l', 'u', 'r', 'r', 'r', 'd', 'l', 'l', 'u', 'l', 'd', 'r', 'r', 'r', 'd', 'l', 'u', 'u', 'r', 'd', 'l', 'd', 'r', 'u', 'l', 'u', 'l', 'l', 'u', 'r', 'd', 'r', 'r', 'u', 'l', 'l', 'l', 'd', 'r', 'r', 'u', 'r', 'd', 'l', 'l', 'l', 'u', 'r', 'd', 'r', 'u', 'l', 'l', 'd', 'r', 'r', 'u', 'l', 'd', 'r', 'd', 'l', 'u', 'u', 'r', 'd', 'l', 'd', 'r', 'u', 'r', 'd', 'd', 'l', 'u', 'r', 'u', 'l', 'd', 'd', 'l', 'l', 'u', 'r', 'r', 'd', 'l', 'u', 'l', 'd', 'r', 'r', 'r', 'u', 'l', 'd', 'l', 'u', 'r', 'r', 'd', 'l', 'u', 'l', 'd', 'r', 'u', 'r', 'u', 'l', 'u', 'r', 'd', 'd', 'l', 'u', 'r', 'u', 'l', 'd', 'r', 'd', 'd', 'l', 'u', 'r', 'u', 'l', 'd', 'd', 'r', 'u', 'u', 'u', 'l', 'd', 'r', 'd', 'l', 'u', 'r', 'u', 'l', 'd', 'd', 'r', 'u', 'l', 'u', 'r', 'd', 'd', 'd']\n",
            "-----------------------\n",
            "[13, 7, 12, 15, 14, 4, 10, 9, 1, 8, 2, 11, 6, 0, 3, 5] \n",
            "\n",
            "[1, 2, 3, 4, 5, 6, 7, 8, 9, 10, 11, 12, 13, 14, 15, 0]\n",
            "Length of solution:  226\n",
            "Nodes Expanded= 26163\n",
            "-----------------------\n",
            "['r', 'd', 'l', 'u', 'u', 'r', 'r', 'd', 'd', 'r', 'u', 'u', 'l', 'l', 'l', 'u', 'r', 'r', 'd', 'l', 'u', 'r', 'd', 'd', 'r', 'u', 'l', 'd', 'd', 'r', 'u', 'u', 'u', 'l', 'd', 'd', 'r', 'u', 'u', 'l', 'l', 'l', 'd', 'd', 'r', 'r', 'r', 'd', 'l', 'u', 'l', 'u', 'l', 'u', 'r', 'd', 'd', 'd', 'r', 'r', 'u', 'u', 'l', 'u', 'l', 'd', 'r', 'r', 'd', 'd', 'l', 'l', 'u', 'l', 'u', 'r', 'u', 'l', 'd', 'd', 'd', 'r', 'r', 'u', 'l', 'd', 'l', 'u', 'r', 'r', 'd', 'l', 'u', 'r', 'd', 'r', 'u', 'l', 'l', 'u', 'r', 'r', 'd', 'l', 'l', 'd', 'r', 'u', 'u', 'l', 'd', 'r', 'r', 'd', 'l', 'l', 'l', 'u', 'r', 'u', 'l', 'u', 'r', 'd', 'l', 'd', 'd', 'r', 'u', 'u', 'u', 'l', 'd', 'r', 'd', 'd', 'r', 'r', 'u', 'l', 'd', 'l', 'u', 'u', 'r', 'd', 'r', 'd', 'l', 'l', 'u', 'u', 'r', 'd', 'd', 'l', 'u', 'r', 'u', 'l', 'd', 'd', 'r', 'u', 'l', 'u', 'r', 'd', 'd', 'r']\n",
            "-----------------------\n",
            "[5, 2, 6, 9, 3, 1, 14, 4, 0, 13, 12, 15, 8, 10, 11, 7] \n",
            "\n",
            "[1, 2, 3, 4, 5, 6, 7, 8, 9, 10, 11, 12, 13, 14, 15, 0]\n",
            "Length of solution:  170\n",
            "Nodes Expanded= 62536\n",
            "-----------------------\n",
            "['u', 'l', 'u', 'l', 'u', 'r', 'd', 'r', 'u', 'l', 'd', 'd', 'l', 'd', 'r', 'u', 'l', 'l', 'd', 'r', 'u', 'r', 'd', 'l', 'u', 'r', 'u', 'l', 'l', 'd', 'r', 'u', 'r', 'u', 'l', 'd', 'd', 'r', 'u', 'l', 'u', 'r', 'd', 'd', 'l', 'd', 'r', 'u', 'u', 'l', 'd', 'r', 'd', 'l', 'u', 'u', 'u', 'r', 'd', 'd', 'l', 'u', 'r', 'u', 'l', 'd', 'l', 'u', 'r', 'd', 'l', 'd', 'r', 'u', 'r', 'd', 'l', 'l', 'u', 'r', 'd', 'r', 'u', 'u', 'l', 'd', 'l', 'u', 'r', 'r', 'd', 'l', 'u', 'l', 'd', 'r', 'r', 'r', 'd', 'd', 'l', 'u', 'r', 'u', 'l', 'd', 'd', 'r']\n",
            "-----------------------\n",
            "[10, 6, 2, 8, 3, 4, 1, 14, 15, 9, 12, 7, 5, 11, 13, 0] \n",
            "\n",
            "[1, 2, 3, 4, 5, 6, 7, 8, 9, 10, 11, 12, 13, 14, 15, 0]\n",
            "Length of solution:  108\n",
            "Nodes Expanded= 22990\n",
            "-----------------------\n",
            "['u', 'l', 'd', 'l', 'u', 'u', 'r', 'r', 'u', 'l', 'l', 'l', 'd', 'd', 'r', 'u', 'l', 'u', 'r', 'd', 'd', 'r', 'r', 'd', 'l', 'u', 'l', 'd', 'r', 'u', 'u', 'r', 'd', 'l', 'u', 'l', 'd', 'r', 'u', 'l', 'u', 'r', 'd', 'd', 'd', 'l', 'u', 'u', 'r', 'd', 'l', 'd', 'r', 'u', 'u', 'u', 'l', 'd', 'l', 'u', 'r', 'r', 'd', 'l', 'u', 'l', 'd', 'r', 'd', 'r', 'u', 'l', 'u', 'r', 'd', 'd', 'l', 'u', 'r', 'u', 'l', 'd', 'd', 'r', 'r', 'u', 'l', 'd', 'l', 'u', 'r', 'r', 'd', 'l', 'u', 'l', 'd', 'd', 'l', 'u', 'r', 'r', 'r', 'd', 'l', 'l', 'u', 'l', 'd', 'r', 'u', 'r', 'd', 'r', 'u', 'l', 'l', 'u', 'u', 'l', 'd', 'r', 'd', 'l', 'u', 'u', 'r', 'd', 'd', 'd', 'l', 'u', 'r', 'u', 'l', 'd', 'r', 'd', 'l', 'u', 'u', 'r', 'd', 'l', 'd', 'r', 'u', 'r', 'u', 'l', 'u', 'r', 'd', 'd', 'l', 'u', 'r', 'u', 'l', 'd', 'd', 'r', 'r', 'u', 'l', 'd', 'l', 'u', 'r', 'r', 'd', 'l', 'u', 'l', 'd', 'r', 'r', 'd', 'l', 'u', 'r', 'u', 'l', 'd', 'd', 'r', 'u', 'u', 'u', 'l', 'd', 'l', 'u', 'r', 'r', 'd', 'd', 'l', 'u', 'l', 'd', 'r', 'r', 'u', 'l', 'l', 'd', 'r', 'u', 'r', 'd', 'd', 'l', 'u', 'r', 'u', 'l', 'd', 'd', 'r', 'u', 'l', 'u', 'r', 'd', 'l', 'l', 'u', 'r', 'r', 'd', 'l', 'u', 'l', 'd', 'r', 'r', 'd']\n",
            "-----------------------\n",
            "[1, 5, 4, 10, 13, 9, 6, 7, 15, 3, 14, 8, 12, 2, 11, 0] \n",
            "\n",
            "[1, 2, 3, 4, 5, 6, 7, 8, 9, 10, 11, 12, 13, 14, 15, 0]\n",
            "Length of solution:  238\n",
            "Nodes Expanded= 24603\n",
            "-----------------------\n",
            "['u', 'u', 'l', 'u', 'l', 'd', 'd', 'l', 'u', 'r', 'd', 'r', 'd', 'l', 'u', 'r', 'r', 'u', 'l', 'u', 'l', 'd', 'r', 'u', 'r', 'd', 'l', 'l', 'u', 'l', 'd', 'r', 'r', 'u', 'l', 'd', 'r', 'd', 'l', 'u', 'r', 'u', 'l', 'd', 'l', 'u', 'r', 'r', 'd', 'l', 'u', 'r', 'r', 'd', 'l', 'u', 'l', 'd', 'r', 'r', 'u', 'l', 'd', 'l', 'u', 'r', 'd', 'd', 'r', 'd', 'l', 'u', 'u', 'u', 'r', 'd', 'd', 'l', 'd', 'r', 'u', 'l', 'u', 'r', 'u', 'l', 'd', 'd', 'l', 'u', 'u', 'r', 'd', 'l', 'd', 'r', 'd', 'r', 'u', 'l', 'u', 'u', 'r', 'd', 'd', 'd', 'l', 'u', 'u', 'r', 'u', 'l', 'd', 'd', 'r', 'u', 'u', 'l', 'd', 'r', 'd', 'l', 'l', 'u', 'r', 'u', 'l', 'd', 'd', 'r', 'u', 'u', 'l', 'd', 'r', 'd', 'l', 'u', 'l', 'd', 'r', 'r', 'u', 'l', 'u', 'r', 'd', 'd', 'l', 'l', 'u', 'r', 'd', 'r', 'u', 'u', 'l', 'd', 'r', 'd', 'l', 'u', 'l', 'd', 'd', 'r', 'u', 'l', 'u', 'r', 'd', 'r', 'u', 'l', 'l', 'd', 'd', 'r', 'u', 'r', 'u', 'l', 'd', 'l', 'u', 'r', 'r', 'd', 'l', 'd', 'r', 'u', 'u', 'l', 'd', 'd', 'r', 'u', 'l', 'u', 'r', 'r', 'd', 'd', 'l', 'u', 'r', 'u', 'l', 'l', 'l', 'd', 'r', 'r', 'u', 'l', 'd', 'l', 'u', 'r', 'r', 'r', 'd', 'l', 'u', 'l', 'd', 'r', 'r', 'u', 'l', 'd', 'l', 'u', 'r', 'r', 'd', 'd', 'l', 'u', 'r', 'u', 'l', 'd', 'd', 'r', 'u', 'l', 'u', 'r', 'd', 'd']\n",
            "-----------------------\n",
            "[3, 6, 7, 10, 9, 8, 12, 1, 15, 13, 14, 2, 11, 4, 5, 0] \n",
            "\n",
            "[1, 2, 3, 4, 5, 6, 7, 8, 9, 10, 11, 12, 13, 14, 15, 0]\n",
            "Length of solution:  252\n",
            "Nodes Expanded= 22839\n",
            "-----------------------\n",
            "['r', 'u', 'l', 'l', 'd', 'r', 'u', 'r', 'u', 'r', 'd', 'l', 'l', 'u', 'r', 'u', 'l', 'd', 'r', 'r', 'u', 'l', 'l', 'd', 'l', 'u', 'r', 'd', 'd', 'l', 'u', 'u', 'r', 'd', 'd', 'd', 'l', 'u', 'r', 'u', 'u', 'l', 'd', 'd', 'r', 'u', 'l', 'u', 'r', 'r', 'd', 'r', 'u', 'l', 'd', 'l', 'u', 'r', 'r', 'd', 'l', 'u', 'l', 'l', 'd', 'r', 'u', 'r', 'd', 'l', 'l', 'u', 'r', 'd', 'r', 'u', 'l', 'd', 'd', 'r', 'u', 'u', 'l', 'd', 'r', 'd', 'l', 'u', 'u', 'r', 'r', 'd', 'l', 'u', 'l', 'l', 'd', 'r', 'r', 'r', 'u', 'l', 'l', 'd', 'l', 'u', 'r', 'r', 'r', 'd', 'd', 'd', 'l', 'u', 'r', 'u', 'u', 'l', 'd', 'd', 'd', 'r', 'u', 'u', 'l', 'u', 'r', 'd', 'd', 'l', 'd', 'l', 'u', 'r', 'r', 'd', 'l', 'u', 'l', 'd', 'r', 'u', 'l', 'l', 'd', 'r', 'u', 'r', 'd', 'l', 'l', 'u', 'r', 'd', 'r', 'u', 'l', 'l', 'u', 'u', 'r', 'd', 'l', 'd', 'r', 'u', 'u', 'l', 'd', 'd', 'd', 'r', 'u', 'l', 'u', 'r', 'd', 'l', 'd', 'r', 'u', 'u', 'l', 'd', 'r', 'd', 'l', 'u', 'u', 'u', 'r', 'r', 'r', 'd', 'l', 'u', 'l', 'l', 'd', 'r', 'r', 'r', 'u', 'l', 'l', 'd', 'l', 'u', 'r', 'r', 'r', 'd', 'd', 'd', 'l', 'u', 'r', 'u', 'u', 'l', 'd', 'd', 'd', 'r', 'u', 'u', 'l', 'u', 'r', 'd', 'd', 'd']\n",
            "-----------------------\n",
            "[13, 14, 5, 2, 3, 6, 12, 10, 8, 11, 15, 7, 9, 0, 4, 1] \n",
            "\n",
            "[1, 2, 3, 4, 5, 6, 7, 8, 9, 10, 11, 12, 13, 14, 15, 0]\n",
            "Length of solution:  232\n",
            "Nodes Expanded= 6490\n",
            "-----------------------\n",
            "['l', 'd', 'r', 'd', 'l', 'd', 'l', 'u', 'r', 'd', 'r', 'r', 'u', 'u', 'l', 'l', 'd', 'd', 'r', 'r', 'u', 'u', 'l', 'u', 'r', 'd', 'd', 'd', 'l', 'u', 'u', 'l', 'd', 'r', 'd', 'r', 'u', 'u', 'l', 'd', 'r', 'd', 'l', 'u', 'u', 'l', 'l', 'u', 'r', 'r', 'd', 'l', 'd', 'l', 'u', 'r', 'u', 'l', 'd', 'r', 'd', 'l', 'd', 'r', 'u', 'u', 'l', 'd', 'r', 'u', 'r', 'd', 'd', 'l', 'u', 'r', 'u', 'l', 'l', 'd', 'r', 'd', 'l', 'u', 'u', 'u', 'r', 'd', 'r', 'u', 'l', 'l', 'd', 'd', 'r', 'u', 'r', 'd', 'l', 'l', 'u', 'r', 'r', 'r', 'd', 'd', 'l', 'u', 'r', 'u', 'l', 'd', 'l', 'u', 'r', 'd', 'd', 'r', 'u', 'u', 'l', 'd', 'l', 'u', 'r', 'r', 'd', 'l', 'u', 'l', 'd', 'r', 'r', 'd']\n",
            "-----------------------\n",
            "[15, 1, 0, 10, 7, 2, 4, 12, 3, 11, 13, 6, 8, 9, 5, 14] \n",
            "\n",
            "[1, 2, 3, 4, 5, 6, 7, 8, 9, 10, 11, 12, 13, 14, 15, 0]\n",
            "Length of solution:  134\n",
            "Nodes Expanded= 10092\n",
            "-----------------------\n",
            "['r', 'd', 'l', 'u', 'r', 'u', 'l', 'u', 'r', 'r', 'd', 'l', 'u', 'r', 'd', 'r', 'u', 'l', 'l', 'l', 'd', 'd', 'r', 'd', 'l', 'u', 'u', 'u', 'r', 'r', 'd', 'r', 'd', 'd', 'l', 'l', 'u', 'r', 'r', 'u', 'l', 'd', 'l', 'l', 'u', 'r', 'u', 'l', 'd', 'r', 'd', 'l', 'u', 'u', 'r', 'r', 'd', 'l', 'l', 'u', 'r', 'r', 'd', 'd', 'd', 'r', 'u', 'l', 'u', 'r', 'd', 'l', 'l', 'd', 'r', 'u', 'r', 'd', 'l', 'l', 'u', 'r', 'r', 'd', 'l', 'u', 'l', 'u', 'r', 'u', 'l', 'd', 'l', 'u', 'r', 'd', 'r', 'u', 'l', 'l', 'd', 'r', 'd', 'l', 'u', 'u', 'r', 'd', 'l', 'd', 'r', 'u', 'r', 'u', 'l', 'd', 'l', 'u', 'r', 'd', 'r', 'u', 'l', 'l', 'd', 'd', 'r', 'u', 'r', 'd', 'l', 'l', 'u', 'r', 'r', 'u', 'l', 'd', 'l', 'u', 'r', 'r', 'd', 'l', 'u', 'l', 'd', 'r', 'r', 'r', 'd', 'd', 'l', 'u', 'r', 'u', 'l', 'l', 'l', 'u', 'r', 'd', 'r', 'u', 'l', 'l', 'd', 'r', 'u', 'r', 'd', 'l', 'l', 'd', 'r', 'r', 'u', 'l', 'd', 'l', 'u', 'u', 'r', 'd', 'r', 'u', 'l', 'l', 'd', 'r', 'u', 'r', 'd', 'd', 'l', 'u', 'l', 'd', 'r', 'r', 'u', 'l', 'd', 'l', 'u', 'r', 'r', 'd', 'd', 'l', 'u', 'r', 'u', 'l', 'd', 'd', 'r', 'u', 'l', 'u', 'r', 'd', 'd', 'r', 'u', 'l', 'd', 'l', 'u', 'r', 'r', 'd', 'l', 'l', 'l', 'u', 'u', 'r', 'd', 'l', 'u', 'r', 'd', 'l', 'd', 'r', 'r', 'u', 'l', 'u', 'r', 'd', 'd', 'l', 'u', 'u', 'r', 'd', 'l', 'd', 'r', 'r', 'u', 'l', 'd', 'l', 'u', 'r', 'r', 'd', 'l', 'u', 'l', 'd', 'r', 'u', 'u', 'l', 'd', 'd', 'r', 'u', 'l', 'u', 'r', 'd', 'd', 'r']\n",
            "-----------------------\n",
            "[12, 15, 6, 1, 4, 13, 9, 10, 0, 8, 11, 5, 14, 3, 2, 7] \n",
            "\n",
            "[1, 2, 3, 4, 5, 6, 7, 8, 9, 10, 11, 12, 13, 14, 15, 0]\n",
            "Length of solution:  288\n",
            "Nodes Expanded= 32048\n",
            "-----------------------\n",
            "['l', 'd', 'l', 'd', 'r', 'u', 'l', 'd', 'd', 'r', 'u', 'l', 'u', 'r', 'd', 'd', 'r', 'r', 'u', 'u', 'l', 'l', 'd', 'd', 'r', 'r', 'u', 'u', 'l', 'l', 'd', 'd', 'r', 'r', 'u', 'l', 'l', 'd', 'r', 'u', 'r', 'd', 'l', 'l', 'u', 'u', 'u', 'l', 'd', 'r', 'd', 'l', 'u', 'u', 'r', 'd', 'l', 'd', 'r', 'u', 'u', 'r', 'd', 'l', 'd', 'r', 'u', 'u', 'l', 'd', 'd', 'l', 'u', 'r', 'u', 'l', 'd', 'd', 'r', 'u', 'l', 'u', 'r', 'd', 'd', 'd', 'r', 'r', 'u', 'l', 'd', 'l', 'u', 'u', 'u', 'l', 'd', 'r', 'd', 'l', 'u', 'u', 'r', 'd', 'l', 'd', 'r', 'u', 'u', 'r', 'd', 'd', 'l', 'u', 'r', 'u', 'l', 'l', 'd', 'r', 'd', 'l', 'u', 'u', 'r', 'd', 'l', 'd', 'r', 'r', 'u', 'l', 'u', 'r', 'd', 'd', 'l', 'u', 'r', 'u', 'l', 'd', 'd', 'r', 'r', 'u', 'l', 'd', 'l', 'u', 'r', 'r', 'd', 'l', 'u', 'l', 'd', 'r', 'r', 'd', 'l', 'u', 'r', 'u', 'l', 'd', 'd', 'r', 'u', 'u', 'u', 'l', 'l', 'd', 'r', 'u', 'l', 'd', 'r', 'u', 'r', 'd', 'd', 'l', 'u', 'l', 'd', 'r', 'r', 'u', 'l', 'l', 'd', 'r', 'u', 'r', 'd', 'd', 'l', 'u', 'r', 'u', 'l', 'd', 'd', 'r', 'u', 'l', 'u', 'r', 'd', 'l', 'l', 'u', 'r', 'r', 'd', 'l', 'u', 'l', 'd', 'r', 'r', 'd']\n",
            "-----------------------\n",
            "[1, 3, 0, 4, 7, 10, 2, 15, 6, 9, 11, 14, 8, 13, 12, 5] \n",
            "\n",
            "[1, 2, 3, 4, 5, 6, 7, 8, 9, 10, 11, 12, 13, 14, 15, 0]\n",
            "Length of solution:  224\n",
            "Nodes Expanded= 28895\n",
            "-----------------------\n",
            "['l', 'd', 'd', 'l', 'l', 'u', 'u', 'u', 'r', 'r', 'r', 'd', 'd', 'd', 'l', 'l', 'u', 'u', 'l', 'u', 'r', 'r', 'd', 'r', 'd', 'd', 'l', 'l', 'u', 'u', 'r', 'r', 'd', 'l', 'u', 'l', 'd', 'r', 'r', 'u', 'l', 'u', 'r', 'd', 'd', 'l', 'l', 'u', 'r', 'd', 'r', 'u', 'u', 'l', 'd', 'r', 'd', 'l', 'u', 'l', 'd', 'r', 'r', 'd', 'l', 'l', 'u', 'u', 'l', 'd', 'd', 'r', 'u', 'l', 'u', 'r', 'd', 'd', 'r', 'r']\n",
            "-----------------------\n",
            "[10, 5, 1, 2, 9, 14, 4, 0, 6, 15, 7, 13, 12, 8, 11, 3] \n",
            "\n",
            "[1, 2, 3, 4, 5, 6, 7, 8, 9, 10, 11, 12, 13, 14, 15, 0]\n",
            "Length of solution:  80\n",
            "Nodes Expanded= 1365\n",
            "-----------------------\n",
            "-------\n",
            "[('1371215144109182116035', 'rurululdruldldruuldddrulurdrdruuulddluruldddrurdllurruldrdlurullldrurrdlllurrrdlluldrrrdluurdldrulullurdrrullldrrurdlllurdrulldrruldrdluurdldrurddlurulddllurrdluldrrruldlurrdluldrurulurddluruldrddlurulddruuuldrdlurulddrulurddd', 26163), ('5269311440131215810117', 'rdluurrddruulllurrdlurddrulddruuulddruulllddrrrdlululurdddrruululdrrddlluluruldddrruldlurrdlurdrullurrdlldruuldrrdlllurulurdlddruuuldrddrruldluurdrdlluurddlurulddrulurddr', 62536), ('1062834114159127511130', 'ululurdrulddldrulldrurdlurulldrurulddrulurddldruuldrdluuurddluruldlurdldrurdllurdruuldlurrdluldrrrddlurulddr', 22990), ('1541013967153148122110', 'uldluurrulllddrulurddrrdluldruurdluldrulurdddluurdldruuuldlurrdluldrdrulurddlurulddrruldlurrdlulddlurrrdlluldrurdrulluuldrdluurdddluruldrdluurdldrurulurddlurulddrruldlurrdluldrrdlurulddruuuldlurrddluldrrulldrurddlurulddrulurdllurrdluldrrd', 24603), ('3671098121151314211450', 'uululddlurdrdlurrululdrurdlluldrruldrdluruldlurrdlurrdluldrruldlurddrdluuurddldrulurulddluurdldrdruluurdddluurulddruuldrdllurulddruuldrdluldrrulurddllurdruuldrdlulddrulurdrullddruruldlurrdldruulddrulurrddlurullldrruldlurrrdluldrruldlurrddlurulddrulurdd', 22839), ('1314523612108111579041', 'rulldrururdlluruldrrulldlurddluurdddluruulddrulurrdruldlurrdlulldrurdllurdrulddruuldrdluurrdlulldrrrulldlurrrdddluruuldddruulurddldlurrdluldrulldrurdllurdrulluurdldruuldddrulurdldruuldrdluuurrrdlulldrrrulldlurrrdddluruuldddruulurddd', 6490), ('1510107241231113689514', 'ldrdldlurdrruullddrruulurdddluuldrdruuldrdluullurrdldluruldrdldruuldrurddlurulldrdluuurdrullddrurdllurrrddluruldlurddruuldlurrdluldrrd', 10092), ('1215614139100811514327', 'rdlurulurrdlurdrulllddrdluuurrdrddllurruldlluruldrdluurrdllurrdddrulurdlldrurdllurrdluluruldlurdrulldrdluurdldruruldlurdrullddrurdllurruldlurrdluldrrrddlurulllurdrulldrurdlldrruldluurdrulldrurddluldrruldlurrddlurulddrulurddruldlurrdllluurdlurdldrrulurddluurdldrruldlurrdluldruulddrulurddr', 32048), ('1304710215691114813125', 'ldldrulddrulurddrruullddrruullddrrulldrurdlluuuldrdluurdldruurdldruulddlurulddrulurdddrruldluuuldrdluurdldruurddlurulldrdluurdldrrulurddlurulddrruldlurrdluldrrdlurulddruuulldruldrurddluldrrulldrurddlurulddrulurdllurrdluldrrd', 28895), ('1051291440615713128113', 'lddlluuurrrdddlluulurrdrddlluurrdluldrrulurddllurdruuldrdluldrrdlluulddrulurddrr', 1365)]\n"
          ]
        }
      ]
    },
    {
      "cell_type": "code",
      "source": [
        "#Best First Search 4x4\n",
        "bestFirstSearchf = lambda n: ManhattanDistance(n.State, GoalState)\n",
        "testProblems = [[13, 7, 12, 15, 14, 4, 10, 9, 1, 8, 2, 11, 6, 0, 3, 5], [5, 2, 6, 9, 3, 1, 14, 4, 0, 13, 12, 15, 8, 10, 11, 7], [10, 6, 2, 8, 3, 4, 1, 14, 15, 9, 12, 7, 5, 11, 13, 0], [1, 5, 4, 10, 13, 9, 6, 7, 15, 3, 14, 8, 12, 2, 11, 0], [3, 6, 7, 10, 9, 8, 12, 1, 15, 13, 14, 2, 11, 4, 5, 0], [13, 14, 5, 2, 3, 6, 12, 10, 8, 11, 15, 7, 9, 0, 4, 1], [15, 1, 0, 10, 7, 2, 4, 12, 3, 11, 13, 6, 8, 9, 5, 14], [12, 15, 6, 1, 4, 13, 9, 10, 0, 8, 11, 5, 14, 3, 2, 7], [1, 3, 0, 4, 7, 10, 2, 15, 6, 9, 11, 14, 8, 13, 12, 5], [10, 5, 1, 2, 9, 14, 4, 0, 6, 15, 7, 13, 12, 8, 11, 3]]\n",
        "\n",
        "Solutions = []\n",
        "for s in testProblems:\n",
        "  TileSliding.INITIAL = s\n",
        "  ret, cost = BestFirstSearch(TileSliding, bestFirstSearchf)\n",
        "  sol2 = Solution(ret)\n",
        "  print (sol2)\n",
        "  print (\"-----------------------\")\n",
        "  print (TileSliding.INITIAL,'\\n')\n",
        "  print (ApplyMoves(sol2, TileSliding.INITIAL))\n",
        "  print (\"Length of solution: \", len(sol2))\n",
        "  print (\"Nodes Expanded=\", cost)\n",
        "  print (\"-----------------------\")\n",
        "  Solutions.append((''.join(map(str, s)), ''.join(sol2), cost))\n",
        "print (\"-------\")\n",
        "print (Solutions)"
      ],
      "metadata": {
        "colab": {
          "base_uri": "https://localhost:8080/"
        },
        "id": "NzGPKASiwEYF",
        "outputId": "1a1ede93-cfa6-4874-b6d2-4fdf2f93ed1d"
      },
      "execution_count": null,
      "outputs": [
        {
          "output_type": "stream",
          "name": "stdout",
          "text": [
            "['l', 'u', 'u', 'u', 'r', 'd', 'd', 'r', 'u', 'l', 'd', 'l', 'u', 'u', 'r', 'd', 'l', 'd', 'd', 'r', 'u', 'r', 'r', 'u', 'l', 'u', 'r', 'd', 'l', 'l', 'l', 'd', 'r', 'u', 'u', 'l', 'd', 'd', 'd', 'r', 'u', 'l', 'u', 'r', 'd', 'l', 'd', 'r', 'r', 'r', 'u', 'u', 'l', 'u', 'l', 'd', 'd', 'd', 'r', 'u', 'u', 'r', 'u', 'l', 'd', 'd', 'l', 'l', 'd', 'r', 'u', 'u', 'r', 'd', 'l', 'u', 'l', 'd', 'd', 'r', 'u', 'r', 'd', 'l', 'l', 'u', 'u', 'r', 'u', 'r', 'd', 'l', 'l', 'u', 'r', 'd', 'r', 'u', 'l', 'l', 'd', 'r', 'u', 'r', 'd', 'l', 'd', 'l', 'd', 'r', 'u', 'u', 'l', 'd', 'd', 'r', 'r', 'r', 'u', 'l', 'd', 'l', 'l', 'u', 'r', 'r', 'r', 'd', 'l', 'l', 'u', 'l', 'd', 'r', 'r', 'u', 'l', 'l', 'd', 'r', 'u', 'r', 'd', 'r']\n",
            "-----------------------\n",
            "[13, 7, 12, 15, 14, 4, 10, 9, 1, 8, 2, 11, 6, 0, 3, 5] \n",
            "\n",
            "[1, 2, 3, 4, 5, 6, 7, 8, 9, 10, 11, 12, 13, 14, 15, 0]\n",
            "Length of solution:  144\n",
            "Nodes Expanded= 687\n",
            "-----------------------\n",
            "['r', 'd', 'l', 'u', 'u', 'r', 'r', 'u', 'r', 'd', 'd', 'l', 'd', 'l', 'u', 'u', 'r', 'r', 'd', 'd', 'l', 'u', 'r', 'u', 'l', 'd', 'd', 'l', 'u', 'l', 'd', 'r', 'r', 'u', 'l', 'd', 'l', 'u', 'u', 'u', 'r', 'r', 'd', 'l', 'u', 'l', 'd', 'r', 'r', 'd', 'r', 'u', 'l', 'd', 'r', 'd', 'l', 'u', 'u', 'r', 'd', 'l', 'l', 'l', 'u', 'r', 'd', 'r', 'u', 'u', 'l', 'd', 'l', 'u', 'r', 'r', 'r', 'd', 'd', 'd', 'l', 'u', 'r', 'u', 'u', 'l', 'd', 'd', 'd', 'r', 'u', 'l', 'u', 'u', 'r', 'd', 'd', 'l', 'u', 'r', 'u', 'l', 'd', 'd', 'r', 'd']\n",
            "-----------------------\n",
            "[5, 2, 6, 9, 3, 1, 14, 4, 0, 13, 12, 15, 8, 10, 11, 7] \n",
            "\n",
            "[1, 2, 3, 4, 5, 6, 7, 8, 9, 10, 11, 12, 13, 14, 15, 0]\n",
            "Length of solution:  106\n",
            "Nodes Expanded= 1060\n",
            "-----------------------\n",
            "['u', 'u', 'u', 'l', 'd', 'l', 'u', 'l', 'd', 'd', 'r', 'd', 'r', 'r', 'u', 'l', 'l', 'u', 'u', 'r', 'd', 'l', 'l', 'd', 'd', 'r', 'u', 'u', 'r', 'd', 'l', 'd', 'r', 'u', 'u', 'l', 'd', 'd', 'r', 'u', 'u', 'l', 'd', 'r', 'd', 'l', 'u', 'l', 'u', 'r', 'r', 'u', 'r', 'd', 'l', 'l', 'l', 'u', 'r', 'r', 'd', 'l', 'l', 'u', 'r', 'd', 'd', 'd', 'r', 'r', 'u', 'u', 'u', 'l', 'l', 'l', 'd', 'r', 'd', 'd', 'r', 'u', 'l', 'u', 'u', 'r', 'r', 'd', 'd', 'd', 'l', 'u', 'u', 'u', 'l', 'd', 'r', 'r', 'd', 'd', 'l', 'u', 'r', 'u', 'l', 'd', 'd', 'r', 'u', 'u', 'l', 'd', 'r', 'u', 'u', 'l', 'd', 'd', 'r', 'u', 'l', 'u', 'r', 'd', 'd', 'd']\n",
            "-----------------------\n",
            "[10, 6, 2, 8, 3, 4, 1, 14, 15, 9, 12, 7, 5, 11, 13, 0] \n",
            "\n",
            "[1, 2, 3, 4, 5, 6, 7, 8, 9, 10, 11, 12, 13, 14, 15, 0]\n",
            "Length of solution:  126\n",
            "Nodes Expanded= 1110\n",
            "-----------------------\n",
            "['l', 'u', 'l', 'u', 'r', 'r', 'u', 'l', 'd', 'r', 'd', 'd', 'l', 'l', 'l', 'u', 'r', 'd', 'r', 'u', 'l', 'd', 'l', 'u', 'u', 'r', 'r', 'd', 'd', 'l', 'l', 'u', 'r', 'u', 'l', 'd', 'r', 'r', 'u', 'l', 'd', 'd', 'r', 'r', 'u', 'l', 'u', 'l', 'u', 'r', 'd', 'd', 'l', 'l', 'u', 'r', 'r', 'r', 'd', 'd', 'l', 'l', 'u', 'r', 'r', 'u', 'l', 'l', 'u', 'l', 'd', 'd', 'r', 'u', 'l', 'u', 'r', 'd', 'r', 'd', 'l', 'd', 'r', 'r', 'u', 'l', 'd', 'l', 'u', 'r', 'r', 'd', 'l', 'u', 'l', 'd', 'r', 'u', 'u', 'l', 'd', 'd', 'r', 'u', 'l', 'u', 'r', 'd', 'd', 'r']\n",
            "-----------------------\n",
            "[1, 5, 4, 10, 13, 9, 6, 7, 15, 3, 14, 8, 12, 2, 11, 0] \n",
            "\n",
            "[1, 2, 3, 4, 5, 6, 7, 8, 9, 10, 11, 12, 13, 14, 15, 0]\n",
            "Length of solution:  110\n",
            "Nodes Expanded= 2049\n",
            "-----------------------\n",
            "['l', 'u', 'u', 'u', 'r', 'd', 'd', 'd', 'l', 'l', 'u', 'l', 'd', 'r', 'u', 'l', 'u', 'r', 'u', 'r', 'r', 'd', 'd', 'l', 'd', 'r', 'u', 'l', 'l', 'u', 'u', 'r', 'r', 'd', 'd', 'd', 'l', 'l', 'u', 'u', 'l', 'u', 'r', 'r', 'r', 'd', 'l', 'l', 'l', 'u', 'r', 'd', 'r', 'u', 'l', 'd', 'r', 'u', 'l', 'l', 'd', 'r', 'u', 'r', 'd', 'r', 'u', 'l', 'l', 'd', 'r', 'u', 'r', 'd', 'l', 'l', 'd', 'd', 'r', 'r', 'u', 'l', 'd', 'l', 'u', 'r', 'r', 'd', 'l', 'l', 'u', 'r', 'd', 'r', 'u', 'u', 'l', 'd', 'l', 'u', 'r', 'r', 'd', 'd']\n",
            "-----------------------\n",
            "[3, 6, 7, 10, 9, 8, 12, 1, 15, 13, 14, 2, 11, 4, 5, 0] \n",
            "\n",
            "[1, 2, 3, 4, 5, 6, 7, 8, 9, 10, 11, 12, 13, 14, 15, 0]\n",
            "Length of solution:  104\n",
            "Nodes Expanded= 807\n",
            "-----------------------\n",
            "['r', 'u', 'u', 'r', 'd', 'l', 'u', 'r', 'd', 'd', 'l', 'l', 'u', 'r', 'r', 'u', 'l', 'd', 'd', 'r', 'u', 'l', 'u', 'r', 'd', 'd', 'l', 'l', 'u', 'r', 'u', 'u', 'r', 'd', 'l', 'd', 'd', 'l', 'u', 'l', 'd', 'r', 'r', 'u', 'l', 'd', 'r', 'r', 'u', 'l', 'u', 'r', 'd', 'd', 'l', 'l', 'u', 'u', 'l', 'u', 'r', 'd', 'r', 'u', 'l', 'l', 'd', 'r', 'u', 'r', 'd', 'd', 'l', 'u', 'l', 'u', 'r', 'r', 'd', 'd', 'd', 'l', 'u', 'l', 'u', 'r', 'r', 'd', 'd', 'l', 'l', 'u', 'r', 'r', 'u', 'l', 'd', 'd', 'r', 'u', 'l', 'u', 'r', 'd', 'l', 'u', 'r', 'u', 'l', 'l', 'd', 'r', 'u', 'r', 'd', 'l', 'd', 'r', 'u', 'u', 'r', 'd', 'l', 'd', 'd', 'r', 'u', 'u', 'u', 'l', 'l', 'l', 'd', 'r', 'u', 'r', 'd', 'd', 'r', 'd', 'l', 'l', 'u', 'r', 'u', 'l', 'd', 'd', 'r', 'u', 'u', 'l', 'l', 'd', 'r', 'r', 'u', 'l', 'd', 'l', 'u', 'r', 'r', 'd', 'd', 'r']\n",
            "-----------------------\n",
            "[13, 14, 5, 2, 3, 6, 12, 10, 8, 11, 15, 7, 9, 0, 4, 1] \n",
            "\n",
            "[1, 2, 3, 4, 5, 6, 7, 8, 9, 10, 11, 12, 13, 14, 15, 0]\n",
            "Length of solution:  166\n",
            "Nodes Expanded= 7560\n",
            "-----------------------\n",
            "['d', 'd', 'r', 'u', 'u', 'l', 'd', 'd', 'l', 'd', 'r', 'r', 'u', 'u', 'l', 'u', 'l', 'd', 'l', 'd', 'd', 'r', 'r', 'u', 'u', 'l', 'l', 'd', 'r', 'r', 'd', 'l', 'u', 'u', 'l', 'u', 'r', 'r', 'd', 'l', 'l', 'd', 'd', 'r', 'r', 'u', 'l', 'u', 'r', 'd', 'l', 'l', 'u', 'u', 'r', 'r', 'd', 'l', 'd', 'r', 'r', 'u', 'l', 'u', 'l', 'l', 'd', 'r', 'd', 'r', 'r', 'u', 'l', 'l', 'd', 'r', 'u', 'r', 'd', 'd', 'l', 'u', 'u', 'l', 'd', 'r', 'u', 'u', 'l', 'd', 'd', 'r', 'u', 'l', 'u', 'r', 'd', 'd', 'l', 'l', 'u', 'u', 'r', 'd', 'l', 'd', 'r', 'r', 'u', 'r', 'd', 'd', 'l', 'u', 'r', 'u', 'l', 'd', 'd', 'r', 'u', 'l', 'u', 'r', 'd', 'd', 'l', 'u', 'u', 'r', 'd', 'l', 'd', 'r', 'u', 'u', 'u', 'l', 'l', 'd', 'r', 'u', 'r', 'd', 'd', 'd', 'l', 'u', 'r', 'u', 'l', 'd', 'd', 'r', 'u', 'u', 'l', 'l', 'd', 'r', 'r', 'u', 'l', 'd', 'l', 'u', 'r', 'r', 'd', 'd']\n",
            "-----------------------\n",
            "[15, 1, 0, 10, 7, 2, 4, 12, 3, 11, 13, 6, 8, 9, 5, 14] \n",
            "\n",
            "[1, 2, 3, 4, 5, 6, 7, 8, 9, 10, 11, 12, 13, 14, 15, 0]\n",
            "Length of solution:  170\n",
            "Nodes Expanded= 4554\n",
            "-----------------------\n",
            "['u', 'r', 'u', 'r', 'r', 'd', 'd', 'd', 'l', 'l', 'l', 'u', 'u', 'u', 'r', 'r', 'r', 'd', 'd', 'l', 'u', 'l', 'd', 'r', 'u', 'l', 'l', 'u', 'r', 'r', 'r', 'd', 'l', 'l', 'u', 'r', 'r', 'd', 'l', 'd', 'd', 'r', 'u', 'u', 'l', 'd', 'd', 'r', 'u', 'u', 'u', 'l', 'd', 'd', 'r', 'd', 'l', 'u', 'l', 'u', 'l', 'd', 'd', 'r', 'u', 'l', 'u', 'r', 'd', 'd', 'l', 'u', 'r', 'r', 'u', 'l', 'u', 'r', 'd', 'd', 'l', 'l', 'u', 'r', 'r', 'r', 'u', 'l', 'l', 'd', 'd', 'l', 'u', 'r', 'd', 'r', 'u', 'l', 'l', 'd', 'r', 'u', 'r', 'r', 'd', 'd', 'l', 'u', 'r', 'u', 'l', 'd', 'd', 'r', 'u', 'l', 'u', 'r', 'd', 'd']\n",
            "-----------------------\n",
            "[12, 15, 6, 1, 4, 13, 9, 10, 0, 8, 11, 5, 14, 3, 2, 7] \n",
            "\n",
            "[1, 2, 3, 4, 5, 6, 7, 8, 9, 10, 11, 12, 13, 14, 15, 0]\n",
            "Length of solution:  120\n",
            "Nodes Expanded= 520\n",
            "-----------------------\n",
            "['d', 'r', 'd', 'd', 'l', 'u', 'u', 'r', 'd', 'd', 'l', 'u', 'u', 'r', 'd', 'd', 'l', 'u', 'r', 'u', 'l', 'l', 'l', 'd', 'd', 'r', 'r', 'u', 'u', 'l', 'l', 'd', 'r', 'r', 'u', 'r', 'u', 'l', 'l', 'd', 'r', 'd', 'l', 'u', 'l', 'd', 'r', 'r', 'u', 'l', 'u', 'r', 'r', 'd', 'l', 'l', 'l', 'd', 'r', 'u', 'r', 'd', 'l', 'l', 'd', 'r', 'u', 'r', 'd', 'l', 'l', 'u', 'r', 'r', 'd', 'r', 'u', 'l', 'l', 'd', 'r', 'u', 'r', 'd', 'l', 'l', 'u', 'r', 'u', 'r', 'd', 'd', 'l', 'u', 'r', 'u', 'l', 'u', 'l', 'd', 'r', 'd', 'd', 'r', 'u', 'l', 'u', 'r', 'd', 'd', 'l', 'u', 'u', 'r', 'd', 'l', 'd', 'r', 'u', 'u', 'u', 'l', 'l', 'd', 'r', 'u', 'r', 'd', 'd', 'd', 'l', 'u', 'r', 'u', 'l', 'd', 'd', 'r', 'u', 'u', 'l', 'l', 'd', 'r', 'r', 'u', 'l', 'd', 'l', 'u', 'r', 'r', 'd', 'd']\n",
            "-----------------------\n",
            "[1, 3, 0, 4, 7, 10, 2, 15, 6, 9, 11, 14, 8, 13, 12, 5] \n",
            "\n",
            "[1, 2, 3, 4, 5, 6, 7, 8, 9, 10, 11, 12, 13, 14, 15, 0]\n",
            "Length of solution:  154\n",
            "Nodes Expanded= 7924\n",
            "-----------------------\n",
            "['l', 'd', 'd', 'l', 'u', 'u', 'u', 'r', 'r', 'd', 'd', 'd', 'l', 'l', 'u', 'l', 'u', 'u', 'r', 'r', 'd', 'r', 'd', 'l', 'u', 'r', 'd', 'd', 'l', 'u', 'u', 'r', 'd', 'l', 'u', 'u', 'l', 'd', 'l', 'u', 'r', 'r', 'd', 'l', 'd', 'd', 'r', 'u', 'u', 'u', 'l', 'l', 'd', 'd', 'd', 'r', 'u', 'l', 'u', 'r', 'u', 'r', 'd', 'd', 'l', 'u', 'r', 'r', 'd', 'l', 'l', 'u', 'l', 'd', 'r', 'r', 'd', 'r', 'u', 'u', 'l', 'l', 'd', 'l', 'u', 'r', 'r', 'u', 'r', 'd', 'd', 'l', 'u', 'r', 'u', 'l', 'd', 'd', 'r', 'd']\n",
            "-----------------------\n",
            "[10, 5, 1, 2, 9, 14, 4, 0, 6, 15, 7, 13, 12, 8, 11, 3] \n",
            "\n",
            "[1, 2, 3, 4, 5, 6, 7, 8, 9, 10, 11, 12, 13, 14, 15, 0]\n",
            "Length of solution:  100\n",
            "Nodes Expanded= 2234\n",
            "-----------------------\n",
            "-------\n",
            "[('1371215144109182116035', 'luuurddruldluurdlddrurrulurdllldruuldddrulurdldrrruululdddruurulddlldruurdlulddrurdlluururdllurdrulldrurdldldruulddrrruldllurrrdlluldrrulldrurdr', 687), ('5269311440131215810117', 'rdluurrurddldluurrddlurulddluldrruldluuurrdluldrrdruldrdluurdlllurdruuldlurrrdddluruuldddruluurddlurulddrd', 1060), ('1062834114159127511130', 'uuuldlulddrdrrulluurdllddruurdldruulddruuldrdlulurrurdlllurrdllurdddrruuullldrddruluurrdddluuuldrrddlurulddruuldruulddrulurddd', 1110), ('1541013967153148122110', 'lulurruldrddlllurdruldluurrddlluruldrrulddrrululurddllurrrddllurrullulddrulurdrdldrruldlurrdluldruulddrulurddr', 2049), ('3671098121151314211450', 'luuurdddlluldrulururrddldrulluurrdddlluulurrrdlllurdruldrulldrurdrulldrurdllddrruldlurrdllurdruuldlurrdd', 807), ('1314523612108111579041', 'ruurdlurddllurrulddrulurddlluruurdlddluldrruldrrulurddlluulurdrulldrurddlulurrdddlulurrddllurrulddrulurdlurulldrurdldruurdlddruuullldrurddrdllurulddruulldrruldlurrddr', 7560), ('1510107241231113689514', 'ddruulddldrruululdlddrruulldrrdluulurrdllddrrulurdlluurrdldrrululldrdrrulldrurddluuldruulddrulurddlluurdldrrurddlurulddrulurddluurdldruuulldrurdddlurulddruulldrruldlurrdd', 4554), ('1215614139100811514327', 'ururrdddllluuurrrddluldrullurrrdllurrdlddruulddruuulddrdlululddrulurddlurrulurddllurrrullddlurdrulldrurrddlurulddrulurdd', 520), ('1304710215691114813125', 'drddluurddluurddlurulllddrruulldrrurulldrdluldrrulurrdllldrurdlldrurdllurrdrulldrurdllururddlurululdrddrulurddluurdldruuulldrurdddlurulddruulldrruldlurrdd', 7924), ('1051291440615713128113', 'lddluuurrdddlluluurrdrdlurddluurdluuldlurrdlddruuulldddrulururddlurrdlluldrrdruulldlurrurddlurulddrd', 2234)]\n"
          ]
        }
      ]
    }
  ]
}