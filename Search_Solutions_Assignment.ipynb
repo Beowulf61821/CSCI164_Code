{
  "nbformat": 4,
  "nbformat_minor": 0,
  "metadata": {
    "colab": {
      "provenance": [],
      "include_colab_link": true
    },
    "kernelspec": {
      "name": "python3",
      "display_name": "Python 3"
    }
  },
  "cells": [
    {
      "cell_type": "markdown",
      "metadata": {
        "id": "view-in-github",
        "colab_type": "text"
      },
      "source": [
        "<a href=\"https://colab.research.google.com/github/Beowulf61821/CSCI164_Code/blob/main/Search_Solutions_Assignment.ipynb\" target=\"_parent\"><img src=\"https://colab.research.google.com/assets/colab-badge.svg\" alt=\"Open In Colab\"/></a>"
      ]
    },
    {
      "cell_type": "code",
      "metadata": {
        "id": "Gbe5KqWcISTq"
      },
      "source": [
        "import random\n",
        "import heapq"
      ],
      "execution_count": 29,
      "outputs": []
    },
    {
      "cell_type": "markdown",
      "metadata": {
        "id": "PHnbnN2uV8zr"
      },
      "source": [
        "# Tile Sliding Domain: Initial State Space"
      ]
    },
    {
      "cell_type": "code",
      "metadata": {
        "id": "jPCNOa4W-5yq"
      },
      "source": [
        "StateDimension=4\n",
        "\n",
        "InitialState = [1,2,3,4,5,6,7,8,13,14,9,12,10,11,15,0]\n",
        "GoalState=[1,2,3,4,5,6,7,8,9,10,11,12,13,14,15,0]\n",
        "\n",
        "Actions = lambda s: ['u', 'd', 'l', 'r']\n",
        "Opposite=dict([('u','d'),('d','u'),('l','r'),('r','l'), (None, None)])"
      ],
      "execution_count": 30,
      "outputs": []
    },
    {
      "cell_type": "code",
      "metadata": {
        "id": "XjnzkkC8_HE8"
      },
      "source": [
        "def Result(state, action):\n",
        "  i = state.index(0)\n",
        "  newState = list(state)\n",
        "  row,col=i//StateDimension, i % StateDimension\n",
        "  if ( (action=='u' and row==0) or\n",
        "       (action=='d' and row==StateDimension-1) or\n",
        "       (action=='l' and col==0) or\n",
        "       (action=='r' and col==StateDimension-1)):\n",
        "      return newState\n",
        "  if action=='u':\n",
        "    l,r = row*StateDimension+col, (row-1)*StateDimension+col\n",
        "  elif action=='d':\n",
        "    l,r = row*StateDimension+col, (row+1)*StateDimension+col\n",
        "  elif action=='l':\n",
        "    l,r = row*StateDimension+col, row*StateDimension+col-1\n",
        "  elif action=='r' :\n",
        "    l,r = row*StateDimension+col, row*StateDimension+col+1\n",
        "  newState[l], newState[r] = newState[r], newState[l]\n",
        "  return newState\n",
        "\n",
        "def PrintState(s):\n",
        "  for i in range(0,len(s),StateDimension):\n",
        "    print(s[i:i+StateDimension])\n",
        "\n",
        "def LegalMove(state, action):\n",
        "  i = state.index(0)\n",
        "  row,col=i//StateDimension, i % StateDimension\n",
        "  newState = state.copy()\n",
        "  if ( (action=='u' and row==0) or\n",
        "       (action=='d' and row==StateDimension-1) or\n",
        "       (action=='l' and col==0) or\n",
        "       (action=='r' and col==StateDimension-1)):\n",
        "      return False\n",
        "  return True\n"
      ],
      "execution_count": 31,
      "outputs": []
    },
    {
      "cell_type": "code",
      "metadata": {
        "colab": {
          "base_uri": "https://localhost:8080/"
        },
        "id": "bE7MrTAI_t6i",
        "outputId": "ae492bd1-13b6-44df-a0d6-0c299e5fd910"
      },
      "source": [
        "PrintState(InitialState)"
      ],
      "execution_count": 32,
      "outputs": [
        {
          "output_type": "stream",
          "name": "stdout",
          "text": [
            "[1, 2, 3, 4]\n",
            "[5, 6, 7, 8]\n",
            "[13, 14, 9, 12]\n",
            "[10, 11, 15, 0]\n"
          ]
        }
      ]
    },
    {
      "cell_type": "code",
      "metadata": {
        "colab": {
          "base_uri": "https://localhost:8080/"
        },
        "id": "wRULKFeXVcp3",
        "outputId": "2ee94aaf-41dc-4307-99bc-670213ca9fe7"
      },
      "source": [
        "PrintState(GoalState)"
      ],
      "execution_count": 33,
      "outputs": [
        {
          "output_type": "stream",
          "name": "stdout",
          "text": [
            "[1, 2, 3, 4]\n",
            "[5, 6, 7, 8]\n",
            "[9, 10, 11, 12]\n",
            "[13, 14, 15, 0]\n"
          ]
        }
      ]
    },
    {
      "cell_type": "code",
      "metadata": {
        "colab": {
          "base_uri": "https://localhost:8080/"
        },
        "id": "j-EYW_gqGZtl",
        "outputId": "cfbc7c49-1201-412f-8c22-90d492bddce8"
      },
      "source": [
        "PrintState(InitialState)\n",
        "print()\n",
        "state1 = Result(InitialState, 'u')\n",
        "PrintState(state1)\n",
        "print()\n",
        "state1 = Result(state1, 'r')\n",
        "PrintState(state1)"
      ],
      "execution_count": 34,
      "outputs": [
        {
          "output_type": "stream",
          "name": "stdout",
          "text": [
            "[1, 2, 3, 4]\n",
            "[5, 6, 7, 8]\n",
            "[13, 14, 9, 12]\n",
            "[10, 11, 15, 0]\n",
            "\n",
            "[1, 2, 3, 4]\n",
            "[5, 6, 7, 8]\n",
            "[13, 14, 9, 0]\n",
            "[10, 11, 15, 12]\n",
            "\n",
            "[1, 2, 3, 4]\n",
            "[5, 6, 7, 8]\n",
            "[13, 14, 9, 0]\n",
            "[10, 11, 15, 12]\n"
          ]
        }
      ]
    },
    {
      "cell_type": "code",
      "metadata": {
        "id": "Rc_8ohYvNIq-"
      },
      "source": [
        "def ApplyMoves(actions, state):\n",
        "  for action in actions:\n",
        "    state = Result(state, action)\n",
        "  return state"
      ],
      "execution_count": 35,
      "outputs": []
    },
    {
      "cell_type": "code",
      "metadata": {
        "colab": {
          "base_uri": "https://localhost:8080/"
        },
        "id": "Wv7MGqh8NXqy",
        "outputId": "eaffc068-7350-4b08-8cb5-ca81972a4cae"
      },
      "source": [
        "#My try at solving the puzzle (not optimal but the puzzle is solved)\n",
        "print(\"Initial State=\")\n",
        "PrintState(InitialState)\n",
        "print(\"Goal State=\")\n",
        "PrintState(ApplyMoves(['l','u','l','d','r','u','l','l','d','r','u','l','d','r','r','r'],InitialState))"
      ],
      "execution_count": 36,
      "outputs": [
        {
          "output_type": "stream",
          "name": "stdout",
          "text": [
            "Initial State=\n",
            "[1, 2, 3, 4]\n",
            "[5, 6, 7, 8]\n",
            "[13, 14, 9, 12]\n",
            "[10, 11, 15, 0]\n",
            "Goal State=\n",
            "[1, 2, 3, 4]\n",
            "[5, 6, 7, 8]\n",
            "[9, 10, 11, 12]\n",
            "[13, 14, 15, 0]\n"
          ]
        }
      ]
    },
    {
      "cell_type": "markdown",
      "metadata": {
        "id": "8ABBDMJLROdo"
      },
      "source": [
        "## Problem Class\n",
        "\n",
        "INITIAL = InitialState  \n",
        "IsGoal = Goal Test  \n",
        "Actions = Actions List  \n",
        "Result = Action Behavior  \n",
        "ActionCost = Action Cost  "
      ]
    },
    {
      "cell_type": "code",
      "metadata": {
        "id": "fo6sq7myRQpE"
      },
      "source": [
        "class Problem(object): pass"
      ],
      "execution_count": 37,
      "outputs": []
    },
    {
      "cell_type": "markdown",
      "metadata": {
        "id": "aAHXlWteQ2LN"
      },
      "source": [
        "## Node"
      ]
    },
    {
      "cell_type": "code",
      "metadata": {
        "id": "URRYlfS9Q3vx"
      },
      "source": [
        "class Node(object):\n",
        "  def __init__(self, state, parent=None, action=None, path_cost=0 ):\n",
        "    self.State=state\n",
        "    self.Parent=parent\n",
        "    self.Action=action\n",
        "    self.PathCost = path_cost\n",
        "\n",
        "  def __str__(self):\n",
        "    action = \"<none>\" if not self.Action else self.Action\n",
        "    return str(self.State) + \", \" + action\n",
        "  def __repr__(self):\n",
        "    action = \"<none>\" if not self.Action else self.Action\n",
        "    return str(self.State) + \", \" + action\n",
        "  def __lt__(self, other):\n",
        "    return self.PathCost < other.PathCost;"
      ],
      "execution_count": 38,
      "outputs": []
    },
    {
      "cell_type": "markdown",
      "metadata": {
        "id": "LpzKnx4rkxL9"
      },
      "source": [
        "## Expand"
      ]
    },
    {
      "cell_type": "code",
      "metadata": {
        "id": "CRj9UnyHdDo_"
      },
      "source": [
        "def Expand(problem, node):\n",
        "  ret = []\n",
        "  s = node.State\n",
        "  for action in problem.Actions(s):\n",
        "    sPrime = problem.Result(s, action)\n",
        "    cost =node.PathCost + problem.ActionCost(s,action,sPrime)\n",
        "    ret.append(Node(sPrime, node, action, cost))\n",
        "  return ret\n"
      ],
      "execution_count": 39,
      "outputs": []
    },
    {
      "cell_type": "markdown",
      "metadata": {
        "id": "Ee2ZYxjVlBSl"
      },
      "source": [
        "## Breadth-First Search"
      ]
    },
    {
      "cell_type": "code",
      "metadata": {
        "id": "DZoCxoGzkt4E"
      },
      "source": [
        "def BreadthFirstSearch(problem):\n",
        "  node = Node(tuple(problem.INITIAL))\n",
        "  if problem.IsGoal(node.State):\n",
        "    return node, 0\n",
        "  Frontier = []\n",
        "  Frontier.append(node)\n",
        "  reached = set()\n",
        "  reached.add(tuple(problem.INITIAL))\n",
        "  nodesExpanded = 0\n",
        "  while (Frontier):\n",
        "    ### print([str(n) for n in Frontier])\n",
        "    node = Frontier.pop(0)\n",
        "    ### print(node)\n",
        "    for child in Expand(problem, node):\n",
        "      s = tuple(child.State)\n",
        "      ### print (s, \"IsGoal=\", problem.IsGoal(s))\n",
        "      if problem.IsGoal(s):\n",
        "        return child, nodesExpanded\n",
        "      if s not in reached:\n",
        "        reached.add(s)\n",
        "        Frontier.append(child)\n",
        "    nodesExpanded += 1\n",
        "    if nodesExpanded > 500000:\n",
        "      break;\n",
        "  return None, nodesExpanded"
      ],
      "execution_count": 40,
      "outputs": []
    },
    {
      "cell_type": "markdown",
      "metadata": {
        "id": "kRjolRYslOa4"
      },
      "source": [
        "## Problem 1"
      ]
    },
    {
      "cell_type": "code",
      "metadata": {
        "colab": {
          "base_uri": "https://localhost:8080/"
        },
        "id": "dLWDIbmsRGY3",
        "outputId": "200f3d0b-3e55-4602-8fb0-e6e97ca378fd"
      },
      "source": [
        "TileSliding = Problem()\n",
        "TileSliding.INITIAL = InitialState\n",
        "TileSliding.IsGoal = lambda s: s==(1,2,3,4,5,6,7,8,9,10,11,12,13,14,15,0)\n",
        "TileSliding.Actions = Actions\n",
        "TileSliding.Result=Result\n",
        "TileSliding.ActionCost = lambda s, a, sPrime: 1\n",
        "print( TileSliding.IsGoal((1,2,3,4,5,6,7,8,9,10,11,12,13,14,15,0)) )\n",
        "print( Node(InitialState) )\n",
        "print(1+TileSliding.ActionCost(1,2,3))"
      ],
      "execution_count": 41,
      "outputs": [
        {
          "output_type": "stream",
          "name": "stdout",
          "text": [
            "True\n",
            "[1, 2, 3, 4, 5, 6, 7, 8, 13, 14, 9, 12, 10, 11, 15, 0], <none>\n",
            "2\n"
          ]
        }
      ]
    },
    {
      "cell_type": "code",
      "metadata": {
        "colab": {
          "base_uri": "https://localhost:8080/"
        },
        "id": "6VoIEO4c1gHz",
        "outputId": "67ce9caa-b822-4fb1-e2f2-e0b07b30cc37"
      },
      "source": [
        "TileSliding.INITIAL = [1,2,3,4,5,6,7,8,13,14,9,12,10,11,15,0]\n",
        "ret, cost = BreadthFirstSearch(TileSliding)\n",
        "print (ret, cost)"
      ],
      "execution_count": 42,
      "outputs": [
        {
          "output_type": "stream",
          "name": "stdout",
          "text": [
            "[1, 2, 3, 4, 5, 6, 7, 8, 9, 10, 11, 12, 13, 14, 15, 0], r 7398\n"
          ]
        }
      ]
    },
    {
      "cell_type": "code",
      "metadata": {
        "id": "3hsBKY7Fle3w"
      },
      "source": [
        "def Solution(node):\n",
        "  if node.Parent==None:\n",
        "    return []\n",
        "  return Solution(node.Parent) + [node.Action]\n"
      ],
      "execution_count": 43,
      "outputs": []
    },
    {
      "cell_type": "code",
      "metadata": {
        "colab": {
          "base_uri": "https://localhost:8080/"
        },
        "id": "rtr7Vr84NAfY",
        "outputId": "785df047-6f81-45e8-c244-8df97fc37971"
      },
      "source": [
        "# Breadth-First Search Actions to solve the puzzle\n",
        "sol = Solution(ret)\n",
        "print (sol)\n",
        "print (TileSliding.INITIAL)\n",
        "print (ApplyMoves(sol, TileSliding.INITIAL))"
      ],
      "execution_count": 44,
      "outputs": [
        {
          "output_type": "stream",
          "name": "stdout",
          "text": [
            "['l', 'l', 'u', 'r', 'd', 'l', 'l', 'u', 'r', 'd', 'r', 'r']\n",
            "[1, 2, 3, 4, 5, 6, 7, 8, 13, 14, 9, 12, 10, 11, 15, 0]\n",
            "[1, 2, 3, 4, 5, 6, 7, 8, 9, 10, 11, 12, 13, 14, 15, 0]\n"
          ]
        }
      ]
    },
    {
      "cell_type": "code",
      "metadata": {
        "colab": {
          "base_uri": "https://localhost:8080/"
        },
        "id": "RDE3dNP8NOU7",
        "outputId": "413cd0cb-c2b8-40a0-e022-660a34ea80a7"
      },
      "source": [
        "TileSliding.INITIAL = [1,2,3,4,5,6,7,8,13,14,9,12,10,11,15,0]\n",
        "ret, cost = BreadthFirstSearch(TileSliding)\n",
        "print (ret, cost)"
      ],
      "execution_count": 45,
      "outputs": [
        {
          "output_type": "stream",
          "name": "stdout",
          "text": [
            "[1, 2, 3, 4, 5, 6, 7, 8, 9, 10, 11, 12, 13, 14, 15, 0], r 7398\n"
          ]
        }
      ]
    },
    {
      "cell_type": "code",
      "source": [
        "#This solution does 4 moves less than my solution.\n",
        "#First action\n",
        "PrintState(ApplyMoves(['l'],InitialState))\n",
        "print(\"________________________________________\")\n",
        "#Second action\n",
        "PrintState(ApplyMoves(['l', 'l'],InitialState))\n",
        "print(\"________________________________________\")\n",
        "#Third action\n",
        "PrintState(ApplyMoves(['l','l','u'], InitialState))\n",
        "print(\"________________________________________\")\n",
        "#Fourth action\n",
        "PrintState(ApplyMoves(['l','l','u','r'], InitialState))\n",
        "print(\"________________________________________\")\n",
        "#Fifth action\n",
        "PrintState(ApplyMoves(['l','l','u','r','d'], InitialState))\n",
        "print(\"________________________________________\")\n",
        "#Sixth action\n",
        "PrintState(ApplyMoves(['l','l','u','r','d','l'], InitialState))\n",
        "print(\"________________________________________\")\n",
        "#Seventh action\n",
        "PrintState(ApplyMoves(['l','l','u','r','d','l','l'], InitialState))\n",
        "print(\"________________________________________\")\n",
        "#Eighth action\n",
        "PrintState(ApplyMoves(['l','l','u','r','d','l','l','u'], InitialState))\n",
        "print(\"________________________________________\")\n",
        "#Ninth action\n",
        "PrintState(ApplyMoves(['l','l','u','r','d','l','l','u','r'], InitialState))\n",
        "print(\"________________________________________\")\n",
        "#Tenth action\n",
        "PrintState(ApplyMoves(['l','l','u','r','d','l','l','u','r','d'], InitialState))\n",
        "print(\"________________________________________\")\n",
        "#Eleventh action\n",
        "PrintState(ApplyMoves(['l','l','u','r','d','l','l','u','r','d','r'], InitialState))\n",
        "print(\"________________________________________\")\n",
        "#Twelfth action\n",
        "PrintState(ApplyMoves(['l','l','u','r','d','l','l','u','r','d','r','r'], InitialState))\n",
        "print(\"________________________________________\")"
      ],
      "metadata": {
        "colab": {
          "base_uri": "https://localhost:8080/"
        },
        "id": "pvxTDLimIJbK",
        "outputId": "7c11ddbc-cb16-4a53-d594-09d430e01e48"
      },
      "execution_count": 46,
      "outputs": [
        {
          "output_type": "stream",
          "name": "stdout",
          "text": [
            "[1, 2, 3, 4]\n",
            "[5, 6, 7, 8]\n",
            "[13, 14, 9, 12]\n",
            "[10, 11, 0, 15]\n",
            "________________________________________\n",
            "[1, 2, 3, 4]\n",
            "[5, 6, 7, 8]\n",
            "[13, 14, 9, 12]\n",
            "[10, 0, 11, 15]\n",
            "________________________________________\n",
            "[1, 2, 3, 4]\n",
            "[5, 6, 7, 8]\n",
            "[13, 0, 9, 12]\n",
            "[10, 14, 11, 15]\n",
            "________________________________________\n",
            "[1, 2, 3, 4]\n",
            "[5, 6, 7, 8]\n",
            "[13, 9, 0, 12]\n",
            "[10, 14, 11, 15]\n",
            "________________________________________\n",
            "[1, 2, 3, 4]\n",
            "[5, 6, 7, 8]\n",
            "[13, 9, 11, 12]\n",
            "[10, 14, 0, 15]\n",
            "________________________________________\n",
            "[1, 2, 3, 4]\n",
            "[5, 6, 7, 8]\n",
            "[13, 9, 11, 12]\n",
            "[10, 0, 14, 15]\n",
            "________________________________________\n",
            "[1, 2, 3, 4]\n",
            "[5, 6, 7, 8]\n",
            "[13, 9, 11, 12]\n",
            "[0, 10, 14, 15]\n",
            "________________________________________\n",
            "[1, 2, 3, 4]\n",
            "[5, 6, 7, 8]\n",
            "[0, 9, 11, 12]\n",
            "[13, 10, 14, 15]\n",
            "________________________________________\n",
            "[1, 2, 3, 4]\n",
            "[5, 6, 7, 8]\n",
            "[9, 0, 11, 12]\n",
            "[13, 10, 14, 15]\n",
            "________________________________________\n",
            "[1, 2, 3, 4]\n",
            "[5, 6, 7, 8]\n",
            "[9, 10, 11, 12]\n",
            "[13, 0, 14, 15]\n",
            "________________________________________\n",
            "[1, 2, 3, 4]\n",
            "[5, 6, 7, 8]\n",
            "[9, 10, 11, 12]\n",
            "[13, 14, 0, 15]\n",
            "________________________________________\n",
            "[1, 2, 3, 4]\n",
            "[5, 6, 7, 8]\n",
            "[9, 10, 11, 12]\n",
            "[13, 14, 15, 0]\n",
            "________________________________________\n"
          ]
        }
      ]
    }
  ]
}